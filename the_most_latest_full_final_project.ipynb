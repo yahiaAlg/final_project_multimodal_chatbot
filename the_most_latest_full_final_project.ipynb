{
  "cells": [
    {
      "cell_type": "markdown",
      "metadata": {
        "id": "CYP7SpZ2G62H"
      },
      "source": [
        "### Ollama activation script"
      ]
    },
    {
      "cell_type": "code",
      "execution_count": 2,
      "metadata": {
        "colab": {
          "base_uri": "https://localhost:8080/"
        },
        "id": "jdoLLnmgGMzv",
        "outputId": "59a27b48-4359-4bdb-f92e-6ea41b5532ad"
      },
      "outputs": [
        {
          "output_type": "stream",
          "name": "stdout",
          "text": [
            "  % Total    % Received % Xferd  Average Speed   Time    Time     Time  Current\n",
            "                                 Dload  Upload   Total   Spent    Left  Speed\n",
            "100 10975    0 10975    0     0  25393      0 --:--:-- --:--:-- --:--:-- 25346\n",
            ">>> Downloading ollama...\n",
            "############################################################################################# 100.0%\n",
            ">>> Installing ollama to /usr/local/bin...\n",
            ">>> Creating ollama user...\n",
            ">>> Adding ollama user to video group...\n",
            ">>> Adding current user to ollama group...\n",
            ">>> Creating ollama systemd service...\n",
            "WARNING: Unable to detect NVIDIA/AMD GPU. Install lspci or lshw to automatically detect and install GPU dependencies.\n",
            ">>> The Ollama API is now available at 127.0.0.1:11434.\n",
            ">>> Install complete. Run \"ollama\" from the command line.\n"
          ]
        }
      ],
      "source": [
        "!curl https://ollama.ai/install.sh | sh"
      ]
    },
    {
      "cell_type": "code",
      "execution_count": 3,
      "metadata": {
        "id": "6sULFaYZJhU2"
      },
      "outputs": [],
      "source": [
        "!pip install -q pyngrok"
      ]
    },
    {
      "cell_type": "code",
      "execution_count": 1,
      "metadata": {
        "id": "GBXM5Q9EGx6G"
      },
      "outputs": [],
      "source": [
        "import threading\n",
        "import time\n",
        "import os\n",
        "import asyncio\n",
        "from pyngrok import ngrok\n",
        "import threading\n",
        "import queue\n",
        "import time\n",
        "from threading import Thread\n",
        "\n",
        "# Get your ngrok token from your ngrok account:\n",
        "# https://dashboard.ngrok.com/get-started/your-authtoken\n",
        "token=\"2aaPooW4DT2XR20keUJQvuWVcou_ZdWmW8z2UoUUCrdWsjU\"\n",
        "ngrok.set_auth_token(token)\n",
        "\n",
        "# set up a stoppable thread (not mandatory, but cleaner if you want to stop this later\n",
        "class StoppableThread(threading.Thread):\n",
        "    def __init__(self, *args, **kwargs):\n",
        "        super(StoppableThread, self).__init__(*args, **kwargs)\n",
        "        self._stop_event = threading.Event()\n",
        "\n",
        "    def stop(self):\n",
        "        self._stop_event.set()\n",
        "\n",
        "    def is_stopped(self):\n",
        "        return self._stop_event.is_set()\n",
        "\n",
        "def start_ngrok(q, stop_event):\n",
        "    try:\n",
        "        # Start an HTTP tunnel on the specified port\n",
        "        public_url = ngrok.connect(11434)\n",
        "        # Put the public URL in the queue\n",
        "        q.put(public_url)\n",
        "        # Keep the thread alive until stop event is set\n",
        "        while not stop_event.is_set():\n",
        "            time.sleep(1)  # Adjust sleep time as needed\n",
        "    except Exception as e:\n",
        "        print(f\"Error in start_ngrok: {e}\")"
      ]
    },
    {
      "cell_type": "code",
      "execution_count": 2,
      "metadata": {
        "id": "rP9kxRdKJVFP"
      },
      "outputs": [],
      "source": [
        "# Create a queue to share data between threads\n",
        "url_queue = queue.Queue()\n",
        "\n",
        "# Start ngrok in a separate thread\n",
        "ngrok_thread = StoppableThread(target=start_ngrok, args=(url_queue, StoppableThread.is_stopped))\n",
        "ngrok_thread.start()"
      ]
    },
    {
      "cell_type": "code",
      "execution_count": 3,
      "metadata": {
        "colab": {
          "base_uri": "https://localhost:8080/"
        },
        "id": "YkzV1TkoG5zJ",
        "outputId": "d63590d1-1264-47ad-e80d-1cb1fd714db4"
      },
      "outputs": [
        {
          "output_type": "stream",
          "name": "stdout",
          "text": [
            "Ngrok tunnel established at: NgrokTunnel: \"https://2dd2-34-90-147-58.ngrok-free.app\" -> \"http://localhost:11434\"\n"
          ]
        }
      ],
      "source": [
        "# Wait for the ngrok tunnel to be established\n",
        "while True:\n",
        "    try:\n",
        "        public_url = url_queue.get()\n",
        "        if public_url:\n",
        "            break\n",
        "        print(\"Waiting for ngrok URL...\")\n",
        "        time.sleep(1)\n",
        "    except Exception as e:\n",
        "        print(f\"Error in retrieving ngrok URL: {e}\")\n",
        "\n",
        "print(\"Ngrok tunnel established at:\", public_url)"
      ]
    },
    {
      "cell_type": "code",
      "execution_count": 4,
      "metadata": {
        "id": "ops8Gk4kJ66I"
      },
      "outputs": [],
      "source": [
        "import os\n",
        "import asyncio\n",
        "\n",
        "# NB: You may need to set these depending and get cuda working depending which backend you are running.\n",
        "# Set environment variable for NVIDIA library\n",
        "# Set environment variables for CUDA\n",
        "os.environ['PATH'] += ':/usr/local/cuda/bin'\n",
        "# Set LD_LIBRARY_PATH to include both /usr/lib64-nvidia and CUDA lib directories\n",
        "os.environ['LD_LIBRARY_PATH'] = '/usr/lib64-nvidia:/usr/local/cuda/lib64'\n",
        "\n",
        "async def run_process(cmd):\n",
        "    print('>>> starting', *cmd)\n",
        "    process = await asyncio.create_subprocess_exec(\n",
        "        *cmd,\n",
        "        stdout=asyncio.subprocess.PIPE,\n",
        "        stderr=asyncio.subprocess.PIPE\n",
        "    )\n",
        "\n",
        "    # define an async pipe function\n",
        "    async def pipe(lines):\n",
        "        async for line in lines:\n",
        "            print(line.decode().strip())\n",
        "\n",
        "        await asyncio.gather(\n",
        "            pipe(process.stdout),\n",
        "            pipe(process.stderr),\n",
        "        )\n",
        "\n",
        "    # call it\n",
        "    await asyncio.gather(pipe(process.stdout), pipe(process.stderr))"
      ]
    },
    {
      "cell_type": "code",
      "execution_count": 5,
      "metadata": {
        "colab": {
          "base_uri": "https://localhost:8080/"
        },
        "id": "7RNJ96qcKEXl",
        "outputId": "4ab09d96-10c8-449c-c1a3-5a7b23c1171c"
      },
      "outputs": [
        {
          "output_type": "stream",
          "name": "stdout",
          "text": [
            ">>> starting ollama serve\n",
            "2024/06/28 17:47:56 routes.go:1064: INFO server config env=\"map[CUDA_VISIBLE_DEVICES: GPU_DEVICE_ORDINAL: HIP_VISIBLE_DEVICES: HSA_OVERRIDE_GFX_VERSION: OLLAMA_DEBUG:false OLLAMA_FLASH_ATTENTION:false OLLAMA_HOST:http://127.0.0.1:11434 OLLAMA_INTEL_GPU:false OLLAMA_KEEP_ALIVE: OLLAMA_LLM_LIBRARY: OLLAMA_MAX_LOADED_MODELS:1 OLLAMA_MAX_QUEUE:512 OLLAMA_MAX_VRAM:0 OLLAMA_MODELS:/root/.ollama/models OLLAMA_NOHISTORY:false OLLAMA_NOPRUNE:false OLLAMA_NUM_PARALLEL:1 OLLAMA_ORIGINS:[http://localhost https://localhost http://localhost:* https://localhost:* http://127.0.0.1 https://127.0.0.1 http://127.0.0.1:* https://127.0.0.1:* http://0.0.0.0 https://0.0.0.0 http://0.0.0.0:* https://0.0.0.0:* app://* file://* tauri://*] OLLAMA_RUNNERS_DIR: OLLAMA_SCHED_SPREAD:false OLLAMA_TMPDIR: ROCR_VISIBLE_DEVICES:]\"\n",
            "time=2024-06-28T17:47:56.070Z level=INFO source=images.go:730 msg=\"total blobs: 10\"\n",
            "time=2024-06-28T17:47:56.071Z level=INFO source=images.go:737 msg=\"total unused blobs removed: 0\"\n",
            "time=2024-06-28T17:47:56.072Z level=INFO source=routes.go:1111 msg=\"Listening on 127.0.0.1:11434 (version 0.1.47)\"\n",
            "time=2024-06-28T17:47:56.073Z level=INFO source=payload.go:30 msg=\"extracting embedded files\" dir=/tmp/ollama3158735829/runners\n"
          ]
        }
      ],
      "source": [
        "import asyncio\n",
        "import threading\n",
        "\n",
        "async def start_ollama_serve():\n",
        "    await run_process(['ollama', 'serve'])\n",
        "\n",
        "def run_async_in_thread(loop, coro):\n",
        "    asyncio.set_event_loop(loop)\n",
        "    loop.run_until_complete(coro)\n",
        "    loop.close()\n",
        "\n",
        "# Create a new event loop that will run in a new thread\n",
        "new_loop = asyncio.new_event_loop()\n",
        "\n",
        "# Start ollama serve in a separate thread so the cell won't block execution\n",
        "thread = threading.Thread(target=run_async_in_thread, args=(new_loop, start_ollama_serve()))\n",
        "thread.start()"
      ]
    },
    {
      "cell_type": "markdown",
      "metadata": {
        "id": "_Gsve6TYHN0y"
      },
      "source": [
        "### using Ollama"
      ]
    },
    {
      "cell_type": "code",
      "execution_count": 7,
      "metadata": {
        "colab": {
          "base_uri": "https://localhost:8080/"
        },
        "id": "JuQdfGfm5hV2",
        "outputId": "c9ede770-54a6-4e27-975f-0f7706e83307"
      },
      "outputs": [
        {
          "output_type": "stream",
          "name": "stdout",
          "text": [
            " ollama serve\n",
            "Couldn't find '/root/.ollama/id_ed25519'. Generating new private key.\n",
            "Your new public key is:\n",
            "\n",
            "ssh-ed25519 AAAAC3NzaC1lZDI1NTE5AAAAIDzLwtqvGjYaHSlsbzvA0Lw9vZGBNrObGr//RfU73oBi\n",
            "\n",
            "2024/06/28 17:28:35 routes.go:1064: INFO server config env=\"map[CUDA_VISIBLE_DEVICES: GPU_DEVICE_ORDINAL: HIP_VISIBLE_DEVICES: HSA_OVERRIDE_GFX_VERSION: OLLAMA_DEBUG:false OLLAMA_FLASH_ATTENTION:false OLLAMA_HOST:http://127.0.0.1:11434 OLLAMA_INTEL_GPU:false OLLAMA_KEEP_ALIVE: OLLAMA_LLM_LIBRARY: OLLAMA_MAX_LOADED_MODELS:1 OLLAMA_MAX_QUEUE:512 OLLAMA_MAX_VRAM:0 OLLAMA_MODELS:/root/.ollama/models OLLAMA_NOHISTORY:false OLLAMA_NOPRUNE:false OLLAMA_NUM_PARALLEL:1 OLLAMA_ORIGINS:[http://localhost https://localhost http://localhost:* https://localhost:* http://127.0.0.1 https://127.0.0.1 http://127.0.0.1:* https://127.0.0.1:* http://0.0.0.0 https://0.0.0.0 http://0.0.0.0:* https://0.0.0.0:* app://* file://* tauri://*] OLLAMA_RUNNERS_DIR: OLLAMA_SCHED_SPREAD:false OLLAMA_TMPDIR: ROCR_VISIBLE_DEVICES:]\"\n",
            "time=2024-06-28T17:28:35.029Z level=INFO source=images.go:730 msg=\"total blobs: 0\"\n",
            "time=2024-06-28T17:28:35.032Z level=INFO source=images.go:737 msg=\"total unused blobs removed: 0\"\n",
            "time=2024-06-28T17:28:35.034Z level=INFO source=routes.go:1111 msg=\"Listening on 127.0.0.1:11434 (version 0.1.47)\"\n",
            "time=2024-06-28T17:28:35.038Z level=INFO source=payload.go:30 msg=\"extracting embedded files\" dir=/tmp/ollama2730878852/runners\n",
            "\u001b[2K     \u001b[90m━━━━━━━━━━━━━━━━━━━━━━━━━━━━━━━━━━━━━━━━\u001b[0m \u001b[32m75.6/75.6 kB\u001b[0m \u001b[31m1.4 MB/s\u001b[0m eta \u001b[36m0:00:00\u001b[0m\n",
            "\u001b[2K     \u001b[90m━━━━━━━━━━━━━━━━━━━━━━━━━━━━━━━━━━━━━━━━\u001b[0m \u001b[32m77.9/77.9 kB\u001b[0m \u001b[31m6.3 MB/s\u001b[0m eta \u001b[36m0:00:00\u001b[0m\n",
            "\u001b[2K     \u001b[90m━━━━━━━━━━━━━━━━━━━━━━━━━━━━━━━━━━━━━━━━\u001b[0m \u001b[32m58.3/58.3 kB\u001b[0m \u001b[31m3.7 MB/s\u001b[0m eta \u001b[36m0:00:00\u001b[0m\n",
            "\u001b[?25htime=2024-06-28T17:28:59.656Z level=INFO source=payload.go:44 msg=\"Dynamic LLM libraries [cpu_avx2 cuda_v11 rocm_v60101 cpu cpu_avx]\"\n",
            "time=2024-06-28T17:29:00.098Z level=INFO source=types.go:98 msg=\"inference compute\" id=GPU-321c8e11-0a7c-6b0e-4e0b-d26a642e8450 library=cuda compute=7.5 driver=12.2 name=\"Tesla T4\" total=\"14.7 GiB\" available=\"14.6 GiB\"\n"
          ]
        }
      ],
      "source": [
        "!pip install -q ollama"
      ]
    },
    {
      "cell_type": "code",
      "execution_count": 8,
      "metadata": {
        "id": "TBUW2bjyNE4D"
      },
      "outputs": [],
      "source": [
        "from IPython.display import Markdown, display"
      ]
    },
    {
      "cell_type": "code",
      "execution_count": 9,
      "metadata": {
        "id": "PIe44qX1HWN0"
      },
      "outputs": [],
      "source": [
        "import ollama"
      ]
    },
    {
      "cell_type": "code",
      "execution_count": 10,
      "metadata": {
        "id": "Gjz96K5pX0LA",
        "colab": {
          "base_uri": "https://localhost:8080/"
        },
        "outputId": "bf19738c-64c8-45a5-d9a9-6b3d5ecff7ec"
      },
      "outputs": [
        {
          "output_type": "stream",
          "name": "stdout",
          "text": [
            "time=2024-06-28T17:29:05.342Z level=INFO source=download.go:136 msg=\"downloading f890c9d2e6d4 in 39 100 MB part(s)\"\n",
            "time=2024-06-28T17:29:37.145Z level=INFO source=download.go:136 msg=\"downloading 2d836d77287d in 1 61 B part(s)\"\n",
            "time=2024-06-28T17:29:38.983Z level=INFO source=download.go:136 msg=\"downloading 8fadb9ad1206 in 1 106 B part(s)\"\n",
            "time=2024-06-28T17:29:40.728Z level=INFO source=download.go:136 msg=\"downloading 58e1b82a691f in 1 18 B part(s)\"\n",
            "time=2024-06-28T17:29:42.736Z level=INFO source=download.go:136 msg=\"downloading c2623aa27c1e in 1 455 B part(s)\"\n"
          ]
        },
        {
          "output_type": "execute_result",
          "data": {
            "text/plain": [
              "{'status': 'success'}"
            ]
          },
          "metadata": {},
          "execution_count": 10
        },
        {
          "output_type": "stream",
          "name": "stdout",
          "text": [
            "[GIN] 2024/06/28 - 17:30:02 | 200 | 58.633880652s |       127.0.0.1 | POST     \"/api/pull\"\n"
          ]
        }
      ],
      "source": [
        "ollama.pull(\"wizardcoder\")"
      ]
    },
    {
      "cell_type": "code",
      "execution_count": 11,
      "metadata": {
        "id": "5SAUIwmrX1Ka",
        "colab": {
          "base_uri": "https://localhost:8080/"
        },
        "outputId": "87a44063-a654-4aea-f43c-27b1eba0e802"
      },
      "outputs": [
        {
          "output_type": "stream",
          "name": "stdout",
          "text": [
            "time=2024-06-28T17:30:06.015Z level=INFO source=download.go:136 msg=\"downloading b26e6713dc74 in 24 100 MB part(s)\"\n",
            "time=2024-06-28T17:30:25.860Z level=INFO source=download.go:136 msg=\"downloading fa8235e5b48f in 1 1.1 KB part(s)\"\n",
            "time=2024-06-28T17:30:27.694Z level=INFO source=download.go:136 msg=\"downloading 542b217f179c in 1 148 B part(s)\"\n",
            "time=2024-06-28T17:30:29.498Z level=INFO source=download.go:136 msg=\"downloading 8dde1baf1db0 in 1 78 B part(s)\"\n",
            "time=2024-06-28T17:30:32.350Z level=INFO source=download.go:136 msg=\"downloading f91db7a2deb9 in 1 485 B part(s)\"\n",
            "[GIN] 2024/06/28 - 17:30:41 | 200 |  39.34505632s |       127.0.0.1 | POST     \"/api/pull\""
          ]
        },
        {
          "output_type": "execute_result",
          "data": {
            "text/plain": [
              "{'status': 'success'}"
            ]
          },
          "metadata": {},
          "execution_count": 11
        },
        {
          "output_type": "stream",
          "name": "stdout",
          "text": [
            "\n"
          ]
        }
      ],
      "source": [
        "ollama.pull(\"phi3\")"
      ]
    },
    {
      "cell_type": "code",
      "execution_count": null,
      "metadata": {
        "colab": {
          "base_uri": "https://localhost:8080/"
        },
        "id": "Gk69r4PsX22q",
        "outputId": "117eeb10-6960-42cf-faa4-6078c797bdef"
      },
      "outputs": [
        {
          "output_type": "stream",
          "name": "stdout",
          "text": [
            "time=2024-06-17T23:11:15.121Z level=INFO source=download.go:136 msg=\"downloading 170370233dd5 in 42 100 MB part(s)\"\n",
            "time=2024-06-17T23:11:37.956Z level=INFO source=download.go:136 msg=\"downloading 72d6f08a42f6 in 7 100 MB part(s)\"\n",
            "time=2024-06-17T23:11:42.724Z level=INFO source=download.go:136 msg=\"downloading 43070e2d4e53 in 1 11 KB part(s)\"\n",
            "time=2024-06-17T23:11:44.425Z level=INFO source=download.go:136 msg=\"downloading c43332387573 in 1 67 B part(s)\"\n",
            "time=2024-06-17T23:11:46.154Z level=INFO source=download.go:136 msg=\"downloading ed11eda7790d in 1 30 B part(s)\"\n",
            "time=2024-06-17T23:11:47.948Z level=INFO source=download.go:136 msg=\"downloading 7c658f9561e5 in 1 564 B part(s)\"\n"
          ]
        },
        {
          "output_type": "execute_result",
          "data": {
            "text/plain": [
              "{'status': 'success'}"
            ]
          },
          "metadata": {},
          "execution_count": 12
        },
        {
          "output_type": "stream",
          "name": "stdout",
          "text": [
            "[GIN] 2024/06/17 - 23:12:19 | 200 |          1m5s |       127.0.0.1 | POST     \"/api/pull\"\n"
          ]
        }
      ],
      "source": [
        "ollama.pull(\"llava\")"
      ]
    },
    {
      "cell_type": "code",
      "execution_count": null,
      "metadata": {
        "id": "Cqg0zpRY4Kqs",
        "colab": {
          "base_uri": "https://localhost:8080/"
        },
        "outputId": "3cb6ad6f-07be-4b70-a64a-072d29098f1e"
      },
      "outputs": [
        {
          "output_type": "stream",
          "name": "stdout",
          "text": [
            "time=2024-06-18T16:27:43.397Z level=INFO source=download.go:136 msg=\"downloading 6a0746a1ec1a in 47 100 MB part(s)\"\n",
            "time=2024-06-18T16:28:15.103Z level=INFO source=download.go:136 msg=\"downloading 4fa551d4f938 in 1 12 KB part(s)\"\n",
            "time=2024-06-18T16:28:17.880Z level=INFO source=download.go:136 msg=\"downloading 8ab4849b038c in 1 254 B part(s)\"\n",
            "time=2024-06-18T16:28:20.908Z level=INFO source=download.go:136 msg=\"downloading 577073ffcc6c in 1 110 B part(s)\"\n",
            "time=2024-06-18T16:28:23.265Z level=INFO source=download.go:136 msg=\"downloading 3f8eb4da87fa in 1 485 B part(s)\"\n"
          ]
        },
        {
          "output_type": "execute_result",
          "data": {
            "text/plain": [
              "{'status': 'success'}"
            ]
          },
          "metadata": {},
          "execution_count": 11
        },
        {
          "output_type": "stream",
          "name": "stdout",
          "text": [
            "[GIN] 2024/06/18 - 16:28:48 | 200 |          1m6s |       127.0.0.1 | POST     \"/api/pull\"\n"
          ]
        }
      ],
      "source": [
        "ollama.pull(\"llama3\")"
      ]
    },
    {
      "cell_type": "code",
      "source": [
        "ollama.pull(\"josiahbryan/dragon-mistral-7b-v0-q4\")"
      ],
      "metadata": {
        "id": "bZRnDT7TIEfK",
        "colab": {
          "base_uri": "https://localhost:8080/"
        },
        "outputId": "e4d6d0f7-9a95-4851-d26a-05386047a9c8"
      },
      "execution_count": null,
      "outputs": [
        {
          "output_type": "stream",
          "name": "stdout",
          "text": [
            "time=2024-06-20T09:21:57.185Z level=INFO source=download.go:136 msg=\"downloading ab11de4d7d30 in 42 100 MB part(s)\"\n",
            "time=2024-06-20T09:22:05.206Z level=INFO source=download.go:178 msg=\"ab11de4d7d30 part 2 attempt 0 failed: unexpected EOF, retrying in 1s\"\n",
            "time=2024-06-20T09:22:48.880Z level=INFO source=download.go:136 msg=\"downloading 8969e4857205 in 1 29 B part(s)\"\n",
            "time=2024-06-20T09:22:50.977Z level=INFO source=download.go:136 msg=\"downloading a0e34005fd83 in 1 95 B part(s)\"\n",
            "time=2024-06-20T09:22:52.843Z level=INFO source=download.go:136 msg=\"downloading 3c22676a66bd in 1 381 B part(s)\"\n",
            "[GIN] 2024/06/20 - 09:23:14 | 200 |         1m18s |       127.0.0.1 | POST     \"/api/pull\""
          ]
        },
        {
          "output_type": "execute_result",
          "data": {
            "text/plain": [
              "{'status': 'success'}"
            ]
          },
          "metadata": {},
          "execution_count": 14
        },
        {
          "output_type": "stream",
          "name": "stdout",
          "text": [
            "\n"
          ]
        }
      ]
    },
    {
      "cell_type": "code",
      "execution_count": 6,
      "metadata": {
        "colab": {
          "base_uri": "https://localhost:8080/"
        },
        "id": "o4FOH-M0XtUn",
        "outputId": "acb920bf-dd09-47c9-ba6f-f3f4075dadb0"
      },
      "outputs": [
        {
          "output_type": "stream",
          "name": "stdout",
          "text": [
            "time=2024-06-28T17:48:10.549Z level=INFO source=payload.go:44 msg=\"Dynamic LLM libraries [cpu cpu_avx cpu_avx2 cuda_v11 rocm_v60101]\"\n",
            "time=2024-06-28T17:48:10.751Z level=INFO source=types.go:98 msg=\"inference compute\" id=GPU-321c8e11-0a7c-6b0e-4e0b-d26a642e8450 library=cuda compute=7.5 driver=12.2 name=\"Tesla T4\" total=\"14.7 GiB\" available=\"14.6 GiB\"\n",
            "[GIN] 2024/06/28 - 17:48:10 | 200 |    1.670077ms |       127.0.0.1 | HEAD     \"/\"\n",
            "[GIN] 2024/06/28 - 17:48:10 | 200 |    1.856866ms |       127.0.0.1 | GET      \"/api/tags\"\n",
            "NAME              \tID          \tSIZE  \tMODIFIED       \n",
            "phi3:latest       \t64c1188f2485\t2.4 GB\t17 minutes ago\t\n",
            "wizardcoder:latest\tde9d848c1323\t3.8 GB\t18 minutes ago\t\n"
          ]
        }
      ],
      "source": [
        "!ollama list"
      ]
    },
    {
      "cell_type": "markdown",
      "metadata": {
        "id": "10HReFzrWbzb"
      },
      "source": [
        "### main code"
      ]
    },
    {
      "cell_type": "code",
      "execution_count": 13,
      "metadata": {
        "colab": {
          "base_uri": "https://localhost:8080/"
        },
        "id": "852w7BbNWfNR",
        "outputId": "fa8c5530-661b-45ec-c6e0-ff98ccd0b643"
      },
      "outputs": [
        {
          "output_type": "stream",
          "name": "stdout",
          "text": [
            "\u001b[2K     \u001b[90m━━━━━━━━━━━━━━━━━━━━━━━━━━━━━━━━━━━━━━━━\u001b[0m \u001b[32m975.5/975.5 kB\u001b[0m \u001b[31m11.4 MB/s\u001b[0m eta \u001b[36m0:00:00\u001b[0m\n",
            "\u001b[2K     \u001b[90m━━━━━━━━━━━━━━━━━━━━━━━━━━━━━━━━━━━━━━━━\u001b[0m \u001b[32m2.2/2.2 MB\u001b[0m \u001b[31m24.7 MB/s\u001b[0m eta \u001b[36m0:00:00\u001b[0m\n",
            "\u001b[2K     \u001b[90m━━━━━━━━━━━━━━━━━━━━━━━━━━━━━━━━━━━━━━━━\u001b[0m \u001b[32m12.3/12.3 MB\u001b[0m \u001b[31m65.7 MB/s\u001b[0m eta \u001b[36m0:00:00\u001b[0m\n",
            "\u001b[2K     \u001b[90m━━━━━━━━━━━━━━━━━━━━━━━━━━━━━━━━━━━━━━━━\u001b[0m \u001b[32m163.9/163.9 kB\u001b[0m \u001b[31m18.6 MB/s\u001b[0m eta \u001b[36m0:00:00\u001b[0m\n",
            "\u001b[2K     \u001b[90m━━━━━━━━━━━━━━━━━━━━━━━━━━━━━━━━━━━━━━━━\u001b[0m \u001b[32m332.8/332.8 kB\u001b[0m \u001b[31m35.4 MB/s\u001b[0m eta \u001b[36m0:00:00\u001b[0m\n",
            "\u001b[2K     \u001b[90m━━━━━━━━━━━━━━━━━━━━━━━━━━━━━━━━━━━━━━━━\u001b[0m \u001b[32m127.4/127.4 kB\u001b[0m \u001b[31m15.8 MB/s\u001b[0m eta \u001b[36m0:00:00\u001b[0m\n",
            "\u001b[2K     \u001b[90m━━━━━━━━━━━━━━━━━━━━━━━━━━━━━━━━━━━━━━━━\u001b[0m \u001b[32m92.0/92.0 kB\u001b[0m \u001b[31m9.9 MB/s\u001b[0m eta \u001b[36m0:00:00\u001b[0m\n",
            "\u001b[?25h  Preparing metadata (setup.py) ... \u001b[?25l\u001b[?25hdone\n",
            "\u001b[2K     \u001b[90m━━━━━━━━━━━━━━━━━━━━━━━━━━━━━━━━━━━━━━━━\u001b[0m \u001b[32m318.2/318.2 kB\u001b[0m \u001b[31m29.2 MB/s\u001b[0m eta \u001b[36m0:00:00\u001b[0m\n",
            "\u001b[2K     \u001b[90m━━━━━━━━━━━━━━━━━━━━━━━━━━━━━━━━━━━━━━━━\u001b[0m \u001b[32m145.0/145.0 kB\u001b[0m \u001b[31m12.8 MB/s\u001b[0m eta \u001b[36m0:00:00\u001b[0m\n",
            "\u001b[2K     \u001b[90m━━━━━━━━━━━━━━━━━━━━━━━━━━━━━━━━━━━━━━━━\u001b[0m \u001b[32m10.1/10.1 MB\u001b[0m \u001b[31m50.1 MB/s\u001b[0m eta \u001b[36m0:00:00\u001b[0m\n",
            "\u001b[2K     \u001b[90m━━━━━━━━━━━━━━━━━━━━━━━━━━━━━━━━━━━━━━━━\u001b[0m \u001b[32m62.4/62.4 kB\u001b[0m \u001b[31m6.1 MB/s\u001b[0m eta \u001b[36m0:00:00\u001b[0m\n",
            "\u001b[2K     \u001b[90m━━━━━━━━━━━━━━━━━━━━━━━━━━━━━━━━━━━━━━━━\u001b[0m \u001b[32m129.9/129.9 kB\u001b[0m \u001b[31m11.5 MB/s\u001b[0m eta \u001b[36m0:00:00\u001b[0m\n",
            "\u001b[2K     \u001b[90m━━━━━━━━━━━━━━━━━━━━━━━━━━━━━━━━━━━━━━━━\u001b[0m \u001b[32m49.2/49.2 kB\u001b[0m \u001b[31m2.4 MB/s\u001b[0m eta \u001b[36m0:00:00\u001b[0m\n",
            "\u001b[2K     \u001b[90m━━━━━━━━━━━━━━━━━━━━━━━━━━━━━━━━━━━━━━━━\u001b[0m \u001b[32m718.3/718.3 kB\u001b[0m \u001b[31m27.9 MB/s\u001b[0m eta \u001b[36m0:00:00\u001b[0m\n",
            "\u001b[2K     \u001b[90m━━━━━━━━━━━━━━━━━━━━━━━━━━━━━━━━━━━━━━━━\u001b[0m \u001b[32m71.9/71.9 kB\u001b[0m \u001b[31m9.0 MB/s\u001b[0m eta \u001b[36m0:00:00\u001b[0m\n",
            "\u001b[2K     \u001b[90m━━━━━━━━━━━━━━━━━━━━━━━━━━━━━━━━━━━━━━━━\u001b[0m \u001b[32m53.6/53.6 kB\u001b[0m \u001b[31m6.8 MB/s\u001b[0m eta \u001b[36m0:00:00\u001b[0m\n",
            "\u001b[2K     \u001b[90m━━━━━━━━━━━━━━━━━━━━━━━━━━━━━━━━━━━━━━━━\u001b[0m \u001b[32m307.7/307.7 kB\u001b[0m \u001b[31m34.5 MB/s\u001b[0m eta \u001b[36m0:00:00\u001b[0m\n",
            "\u001b[2K     \u001b[90m━━━━━━━━━━━━━━━━━━━━━━━━━━━━━━━━━━━━━━━━\u001b[0m \u001b[32m341.4/341.4 kB\u001b[0m \u001b[31m36.3 MB/s\u001b[0m eta \u001b[36m0:00:00\u001b[0m\n",
            "\u001b[2K     \u001b[90m━━━━━━━━━━━━━━━━━━━━━━━━━━━━━━━━━━━━━━━━\u001b[0m \u001b[32m3.4/3.4 MB\u001b[0m \u001b[31m94.6 MB/s\u001b[0m eta \u001b[36m0:00:00\u001b[0m\n",
            "\u001b[2K     \u001b[90m━━━━━━━━━━━━━━━━━━━━━━━━━━━━━━━━━━━━━━━━\u001b[0m \u001b[32m1.2/1.2 MB\u001b[0m \u001b[31m67.6 MB/s\u001b[0m eta \u001b[36m0:00:00\u001b[0m\n",
            "\u001b[?25h  Building wheel for ffmpy (setup.py) ... \u001b[?25l\u001b[?25hdone\n"
          ]
        }
      ],
      "source": [
        "!pip install -q langchain_google_genai langchain langchain_community gradio pillow"
      ]
    },
    {
      "cell_type": "code",
      "source": [
        "from langchain_community.llms.ollama import Ollama\n",
        "from langchain_google_genai import ChatGoogleGenerativeAI\n",
        "from langchain.chains import LLMChain\n",
        "from langchain_core.messages import HumanMessage, SystemMessage\n",
        "from google.colab import userdata\n",
        "import os\n",
        "os.environ[\"GOOGLE_API_KEY\"] = userdata.get(\"GOOGLE_API_KEY\")\n",
        "# test_llm = Ollama(\n",
        "#     model=\"llava\",\n",
        "#     temperature=0\n",
        "# )\n",
        "# test_llm.base_url\n",
        "test_llm = ChatGoogleGenerativeAI(\n",
        "    model=\"gemini-pro-vision\",\n",
        "    temperature=0\n",
        ")\n"
      ],
      "metadata": {
        "id": "SfgwdJ4aF8Tn"
      },
      "execution_count": null,
      "outputs": []
    },
    {
      "cell_type": "code",
      "source": [
        "from PIL import Image\n",
        "image = Image.open(\"/content/bot_avatar_v2.jpeg\")\n",
        "image"
      ],
      "metadata": {
        "colab": {
          "base_uri": "https://localhost:8080/",
          "height": 529
        },
        "id": "Lc0ijUDdGwdS",
        "outputId": "2138a72e-9183-4be2-8ba4-d253aa93e859"
      },
      "execution_count": null,
      "outputs": [
        {
          "output_type": "execute_result",
          "data": {
            "text/plain": [
              "<PIL.JpegImagePlugin.JpegImageFile image mode=RGB size=512x512>"
            ],
            "image/png": "[encoded data removed]"
          },
          "metadata": {},
          "execution_count": 19
        }
      ]
    },
    {
      "cell_type": "code",
      "source": [
        "# Convert the image to base64\n",
        "import io # Import the io module for working with in-memory byte streams\n",
        "import base64 # Import the base64 module for encoding and decoding\n",
        "buffered = io.BytesIO()\n",
        "image.save(buffered, format=\"JPEG\")\n",
        "img_str = base64.b64encode(buffered.getvalue()).decode()\n"
      ],
      "metadata": {
        "id": "paOhaATGfc5G"
      },
      "execution_count": null,
      "outputs": []
    },
    {
      "cell_type": "code",
      "source": [
        "messages = [\n",
        "    # SystemMessage(content=\"Describe any given image in details\"),\n",
        "    HumanMessage(\n",
        "        content=[\n",
        "            {\"type\":\"text\", \"text\":\"describe the following image\"},\n",
        "            {\"type\":\"image_url\", \"image_url\": f\"data:image/jpeg;base64,{img_str}\"}, # Pass the base64 encoded image as a string\n",
        "            # {\"type\":\"image_url\", \"image_url\":image},\n",
        "        ]\n",
        "    )\n",
        "]\n",
        "\n",
        "for chunk in test_llm.stream(messages):\n",
        "  print(chunk.content, end=\"\", flush=True)"
      ],
      "metadata": {
        "colab": {
          "base_uri": "https://localhost:8080/"
        },
        "collapsed": true,
        "id": "JwpbJV_XG-Qs",
        "outputId": "68b59b0c-e9bc-416a-d2e2-c0a86afc924e"
      },
      "execution_count": null,
      "outputs": [
        {
          "output_type": "stream",
          "name": "stdout",
          "text": [
            " The image is a flat design of a blue and white robot head. The robot has closed eyes and is wearing headphones. The background is a light blue color."
          ]
        }
      ]
    },
    {
      "cell_type": "code",
      "source": [
        "from langchain.prompts import ChatPromptTemplate, HumanMessagePromptTemplate\n",
        "from langchain.chains import LLMChain\n",
        "from IPython.display import Markdown, display\n",
        "prompt_template = ChatPromptTemplate.from_messages([\n",
        "    SystemMessage(content=\"You are a helpful SQL expert Bot write concise sql query.\"),\n",
        "    HumanMessagePromptTemplate.from_template(\"create me  the Schema for the following sql tables{tables}\"),\n",
        "])\n",
        "chain = LLMChain(\n",
        "    llm=test_llm,\n",
        "    prompt=prompt_template,\n",
        "    verbose=True\n",
        ")"
      ],
      "metadata": {
        "colab": {
          "base_uri": "https://localhost:8080/"
        },
        "id": "wUigZXsMICaF",
        "outputId": "161d5c12-ede1-4e07-d8f9-4b3acf36b66a"
      },
      "execution_count": null,
      "outputs": [
        {
          "output_type": "stream",
          "name": "stderr",
          "text": [
            "/usr/local/lib/python3.10/dist-packages/langchain_core/_api/deprecation.py:139: LangChainDeprecationWarning: The class `LLMChain` was deprecated in LangChain 0.1.17 and will be removed in 0.3.0. Use RunnableSequence, e.g., `prompt | llm` instead.\n",
            "  warn_deprecated(\n"
          ]
        }
      ]
    },
    {
      "cell_type": "code",
      "source": [
        "response = chain.invoke({\n",
        "    \"tables\":input('give the sql tables defs:\\n')\n",
        "})"
      ],
      "metadata": {
        "colab": {
          "base_uri": "https://localhost:8080/"
        },
        "id": "ANcDOlb-JxJt",
        "outputId": "98e0075f-8e2a-4c2f-fed7-2380d7a931e7"
      },
      "execution_count": null,
      "outputs": [
        {
          "output_type": "stream",
          "name": "stdout",
          "text": [
            "give the sql tables defs:\n",
            "Table departments, columns = [DepartmentId, DepartmentName]   Table students, columns = [DepartmentId, StudentId, StudentName]\n",
            "\n",
            "\n",
            "\u001b[1m> Entering new LLMChain chain...\u001b[0m\n",
            "Prompt after formatting:\n",
            "\u001b[32;1m\u001b[1;3mSystem: You are a helpful SQL expert Bot write concise sql query.\n",
            "Human: create me  the Schema for the following sql tablesTable departments, columns = [DepartmentId, DepartmentName]   Table students, columns = [DepartmentId, StudentId, StudentName]\u001b[0m\n",
            "\n",
            "\u001b[1m> Finished chain.\u001b[0m\n",
            "[GIN] 2024/06/17 - 21:58:58 | 200 |  4.575516356s |       127.0.0.1 | POST     \"/api/generate\"\n"
          ]
        }
      ]
    },
    {
      "cell_type": "code",
      "source": [
        "display(Markdown(response[\"text\"]))"
      ],
      "metadata": {
        "colab": {
          "base_uri": "https://localhost:8080/",
          "height": 302
        },
        "id": "9bm20RP9KZDp",
        "outputId": "d2a78e8d-b578-4b70-d194-955417ba47aa"
      },
      "execution_count": null,
      "outputs": [
        {
          "output_type": "display_data",
          "data": {
            "text/plain": [
              "<IPython.core.display.Markdown object>"
            ],
            "text/markdown": " Sure! Here's the schema for the two tables you described:\n```sql\nCREATE TABLE departments (\n  DepartmentId INT PRIMARY KEY,\n  DepartmentName VARCHAR(255) NOT NULL\n);\n\nCREATE TABLE students (\n  DepartmentId INT NOT NULL,\n  StudentId INT PRIMARY KEY,\n  StudentName VARCHAR(255) NOT NULL,\n  FOREIGN KEY (DepartmentId) REFERENCES departments(DepartmentId)\n);\n```\nThis schema creates two tables: `departments` and `students`. The `departments` table has a primary key of `DepartmentId` and a non-nullable column for `DepartmentName`. The `students` table also has a primary key of `StudentId`, as well as foreign keys that reference the `DepartmentId` in the `departments` table. "
          },
          "metadata": {}
        }
      ]
    },
    {
      "cell_type": "code",
      "source": [
        "translation_prompt_template = ChatPromptTemplate.from_messages([\n",
        "    HumanMessagePromptTemplate.from_template(\n",
        "        \"\"\"write a concise translation of the given text commentaries, while keeping the code or any Entity in it's original langauge (basically codes are written in english) then format the output correctly in a pretty markdown:\n",
        "translate the following text:\n",
        "TEXT:{text}\n",
        "into {langauge}\n",
        "        \"\"\"\n",
        "    )\n",
        "])\n",
        "\n",
        "from langchain_google_genai import ChatGoogleGenerativeAI\n",
        "from google.colab import userdata\n",
        "translation_chain = LLMChain(\n",
        "    llm=ChatGoogleGenerativeAI(model=\"gemini-pro\", google_api_key=userdata.get(\"GOOGLE_API_KEY\")),\n",
        "    prompt=translation_prompt_template,\n",
        "    verbose=True\n",
        ")"
      ],
      "metadata": {
        "id": "ce6TDNb-K43N"
      },
      "execution_count": null,
      "outputs": []
    },
    {
      "cell_type": "code",
      "source": [
        "response = translation_chain.invoke({\n",
        "    \"text\":input('give the text to translate:\\n'),\n",
        "    \"langauge\":input('give the language to translate to:\\n')\n",
        "})\n"
      ],
      "metadata": {
        "colab": {
          "base_uri": "https://localhost:8080/"
        },
        "id": "xo9ZOp0bK4kR",
        "outputId": "74e1a3e6-7841-40c0-9e5e-dd2b5bcf6aaf"
      },
      "execution_count": null,
      "outputs": [
        {
          "output_type": "stream",
          "name": "stdout",
          "text": [
            "give the text to translate:\n",
            "CREATE TABLE departments (   DepartmentId INT PRIMARY KEY,   DepartmentName VARCHAR(255) NOT NULL );  CREATE TABLE students (   DepartmentId INT NOT NULL,   StudentId INT PRIMARY KEY,   StudentName VARCHAR(255) NOT NULL,   FOREIGN KEY (DepartmentId) REFERENCES departments(DepartmentId) );  This schema creates two tables: departments and students. The departments table has a primary key of DepartmentId and a non-nullable column for DepartmentName. The students table also has a primary key of StudentId, as well as foreign keys that reference the DepartmentId in the departments table. \n",
            "give the language to translate to:\n",
            "arabic\n",
            "\n",
            "\n",
            "\u001b[1m> Entering new LLMChain chain...\u001b[0m\n",
            "Prompt after formatting:\n",
            "\u001b[32;1m\u001b[1;3mHuman: write a concise translation of the given text commentaries, while keeping the code or any Entity in it's original langauge (basically codes are written in english) then format the output correctly in a pretty markdown: \n",
            "translate the following text:\n",
            "TEXT:CREATE TABLE departments (   DepartmentId INT PRIMARY KEY,   DepartmentName VARCHAR(255) NOT NULL );  CREATE TABLE students (   DepartmentId INT NOT NULL,   StudentId INT PRIMARY KEY,   StudentName VARCHAR(255) NOT NULL,   FOREIGN KEY (DepartmentId) REFERENCES departments(DepartmentId) );  This schema creates two tables: departments and students. The departments table has a primary key of DepartmentId and a non-nullable column for DepartmentName. The students table also has a primary key of StudentId, as well as foreign keys that reference the DepartmentId in the departments table. \n",
            "into arabic\n",
            "        \u001b[0m\n",
            "\n",
            "\u001b[1m> Finished chain.\u001b[0m\n"
          ]
        }
      ]
    },
    {
      "cell_type": "code",
      "source": [
        "display(Markdown(response[\"text\"]))"
      ],
      "metadata": {
        "colab": {
          "base_uri": "https://localhost:8080/",
          "height": 136
        },
        "id": "imv5akpINyHK",
        "outputId": "8ea71a06-148d-426f-e15d-9fb4c8d12d2d"
      },
      "execution_count": null,
      "outputs": [
        {
          "output_type": "display_data",
          "data": {
            "text/plain": [
              "<IPython.core.display.Markdown object>"
            ],
            "text/markdown": "النص: CREATE TABLE departments (DepartmentId INT PRIMARY KEY, DepartmentName VARCHAR (255) NOT NULL); CREATE TABLE students (DepartmentId INT NOT NULL, StudentId INT PRIMARY KEY, StudentName VARCHAR (255) NOT NULL, FOREIGN KEY (DepartmentId) REFERENCES departments (DepartmentId)); ينشئ هذا المخطط جدولين: departments و students. يحتوي جدول الأقسام على مفتاح أساسي لـ DepartmentId وعمود غير قابل للإبطال لـ DepartmentName. يحتوي جدول الطلاب أيضًا على مفتاح أساسي لـ StudentId، بالإضافة إلى المفاتيح الخارجية التي تشير إلى DepartmentId في جدول الأقسام."
          },
          "metadata": {}
        }
      ]
    },
    {
      "cell_type": "code",
      "source": [
        "formatting_prompt_template = ChatPromptTemplate.from_messages([\n",
        "  HumanMessagePromptTemplate.from_template(\n",
        "      \"\"\"prettify the following output in a gorgeous markdown format(keep the langauge as it is wherever you find it, jus do the prettifying):\n",
        "{text}\n",
        "\"\"\"\n",
        "  )\n",
        "])\n",
        "google_llm = ChatGoogleGenerativeAI(model=\"gemini-pro\", google_api_key=userdata.get(\"GOOGLE_API_KEY\"), temperature=0)\n",
        "formatter_chain = LLMChain(\n",
        "    llm=google_llm,\n",
        "    prompt=formatting_prompt_template,\n",
        "    verbose=True\n",
        ")"
      ],
      "metadata": {
        "id": "79469q7yPGpK"
      },
      "execution_count": null,
      "outputs": []
    },
    {
      "cell_type": "code",
      "source": [
        "response = formatter_chain.invoke({\n",
        "    \"text\":input('give the text to format:\\n')\n",
        "})"
      ],
      "metadata": {
        "colab": {
          "base_uri": "https://localhost:8080/"
        },
        "id": "BY6EaH07Pp9S",
        "outputId": "424c9e01-f4a4-4645-e524-08f74a558a0b"
      },
      "execution_count": null,
      "outputs": [
        {
          "output_type": "stream",
          "name": "stdout",
          "text": [
            "give the text to format:\n",
            "النص: CREATE TABLE departments (DepartmentId INT PRIMARY KEY, DepartmentName VARCHAR (255) NOT NULL); CREATE TABLE students (DepartmentId INT NOT NULL, StudentId INT PRIMARY KEY, StudentName VARCHAR (255) NOT NULL, FOREIGN KEY (DepartmentId) REFERENCES departments (DepartmentId)); ينشئ هذا المخطط جدولين: departments و students. يحتوي جدول الأقسام على مفتاح أساسي لـ DepartmentId وعمود غير قابل للإبطال لـ DepartmentName. يحتوي جدول الطلاب أيضًا على مفتاح أساسي لـ StudentId، بالإضافة إلى المفاتيح الخارجية التي تشير إلى DepartmentId في جدول الأقسام.\n",
            "\n",
            "\n",
            "\u001b[1m> Entering new LLMChain chain...\u001b[0m\n",
            "Prompt after formatting:\n",
            "\u001b[32;1m\u001b[1;3mHuman: prettify the following output in a gorgeous markdown format(keep the langauge as it is wherever you find it, jus do the prettifying):\n",
            "النص: CREATE TABLE departments (DepartmentId INT PRIMARY KEY, DepartmentName VARCHAR (255) NOT NULL); CREATE TABLE students (DepartmentId INT NOT NULL, StudentId INT PRIMARY KEY, StudentName VARCHAR (255) NOT NULL, FOREIGN KEY (DepartmentId) REFERENCES departments (DepartmentId)); ينشئ هذا المخطط جدولين: departments و students. يحتوي جدول الأقسام على مفتاح أساسي لـ DepartmentId وعمود غير قابل للإبطال لـ DepartmentName. يحتوي جدول الطلاب أيضًا على مفتاح أساسي لـ StudentId، بالإضافة إلى المفاتيح الخارجية التي تشير إلى DepartmentId في جدول الأقسام.\n",
            "\u001b[0m\n",
            "\n",
            "\u001b[1m> Finished chain.\u001b[0m\n"
          ]
        }
      ]
    },
    {
      "cell_type": "code",
      "source": [
        "display(Markdown(response[\"text\"]))"
      ],
      "metadata": {
        "colab": {
          "base_uri": "https://localhost:8080/",
          "height": 442
        },
        "id": "TmZM9KkqPwA4",
        "outputId": "2a6a99d1-154c-4d2d-d274-3df41aeff630"
      },
      "execution_count": null,
      "outputs": [
        {
          "output_type": "display_data",
          "data": {
            "text/plain": [
              "<IPython.core.display.Markdown object>"
            ],
            "text/markdown": "**النص:**\n\n```sql\nCREATE TABLE departments (\n  DepartmentId INT PRIMARY KEY,\n  DepartmentName VARCHAR (255) NOT NULL\n);\n\nCREATE TABLE students (\n  DepartmentId INT NOT NULL,\n  StudentId INT PRIMARY KEY,\n  StudentName VARCHAR (255) NOT NULL,\n  FOREIGN KEY (DepartmentId) REFERENCES departments (DepartmentId)\n);\n```\n\n**الوصف:**\n\nينشئ هذا المخطط جدولين: `departments` و `students`.\n\n- يحتوي جدول `departments` على:\n  - مفتاح أساسي `DepartmentId`\n  - عمود غير قابل للإبطال `DepartmentName`\n\n- يحتوي جدول `students` على:\n  - مفتاح أساسي `StudentId`\n  - مفتاح خارجي `DepartmentId` يشير إلى جدول `departments`"
          },
          "metadata": {}
        }
      ]
    },
    {
      "cell_type": "markdown",
      "source": [
        "### the project"
      ],
      "metadata": {
        "id": "jA5dWMdj9CmZ"
      }
    },
    {
      "cell_type": "code",
      "source": [
        "!pip show transformers"
      ],
      "metadata": {
        "colab": {
          "base_uri": "https://localhost:8080/"
        },
        "id": "pbHpjogWGSaU",
        "outputId": "2cb869c4-5d7b-4a13-bc9c-d8672227368b"
      },
      "execution_count": 14,
      "outputs": [
        {
          "output_type": "stream",
          "name": "stdout",
          "text": [
            "Name: transformers\n",
            "Version: 4.41.2\n",
            "Summary: State-of-the-art Machine Learning for JAX, PyTorch and TensorFlow\n",
            "Home-page: https://github.com/huggingface/transformers\n",
            "Author: The Hugging Face team (past and future) with the help of all our contributors (https://github.com/huggingface/transformers/graphs/contributors)\n",
            "Author-email: transformers@huggingface.co\n",
            "License: Apache 2.0 License\n",
            "Location: /usr/local/lib/python3.10/dist-packages\n",
            "Requires: filelock, huggingface-hub, numpy, packaging, pyyaml, regex, requests, safetensors, tokenizers, tqdm\n",
            "Required-by: \n"
          ]
        }
      ]
    },
    {
      "cell_type": "code",
      "source": [
        "!pip show diffusers"
      ],
      "metadata": {
        "colab": {
          "base_uri": "https://localhost:8080/"
        },
        "id": "huH7h_fcGN8n",
        "outputId": "33ec7527-c652-4734-c44b-fa96f1e8bdd1"
      },
      "execution_count": 15,
      "outputs": [
        {
          "output_type": "stream",
          "name": "stdout",
          "text": [
            "\u001b[33mWARNING: Package(s) not found: diffusers\u001b[0m\u001b[33m\n",
            "\u001b[0m"
          ]
        }
      ]
    },
    {
      "cell_type": "code",
      "source": [
        "!pip show accelerate"
      ],
      "metadata": {
        "colab": {
          "base_uri": "https://localhost:8080/"
        },
        "id": "n0-lZpSWGkBy",
        "outputId": "4e0da9a2-6c9a-4402-b680-67927188bf8c"
      },
      "execution_count": null,
      "outputs": [
        {
          "output_type": "stream",
          "name": "stdout",
          "text": [
            "\u001b[33mWARNING: Package(s) not found: accelerate\u001b[0m\u001b[33m\n",
            "\u001b[0m"
          ]
        }
      ]
    },
    {
      "cell_type": "code",
      "source": [
        "!pip install -q diffusers[\"torch\"] transformers"
      ],
      "metadata": {
        "colab": {
          "base_uri": "https://localhost:8080/"
        },
        "id": "kkh_ckDV9ETW",
        "outputId": "534de861-cdaf-4253-9179-9bf6bc91fbfc"
      },
      "execution_count": 16,
      "outputs": [
        {
          "output_type": "stream",
          "name": "stdout",
          "text": [
            "\u001b[2K     \u001b[90m━━━━━━━━━━━━━━━━━━━━━━━━━━━━━━━━━━━━━━━━\u001b[0m \u001b[32m2.2/2.2 MB\u001b[0m \u001b[31m15.3 MB/s\u001b[0m eta \u001b[36m0:00:00\u001b[0m\n",
            "\u001b[2K     \u001b[90m━━━━━━━━━━━━━━━━━━━━━━━━━━━━━━━━━━━━━━━━\u001b[0m \u001b[32m309.4/309.4 kB\u001b[0m \u001b[31m18.2 MB/s\u001b[0m eta \u001b[36m0:00:00\u001b[0m\n",
            "\u001b[2K     \u001b[90m━━━━━━━━━━━━━━━━━━━━━━━━━━━━━━━━━━━━━━━━\u001b[0m \u001b[32m21.3/21.3 MB\u001b[0m \u001b[31m47.3 MB/s\u001b[0m eta \u001b[36m0:00:00\u001b[0m\n",
            "\u001b[?25h"
          ]
        }
      ]
    },
    {
      "cell_type": "code",
      "source": [
        "!pip install -q accelerate\n",
        "!pip install -q -i https://pypi.org/simple/ bitsandbytes"
      ],
      "metadata": {
        "colab": {
          "base_uri": "https://localhost:8080/"
        },
        "collapsed": true,
        "id": "LuXMHz6fNaQC",
        "outputId": "744dd782-9b08-4129-892b-719191e52d7c"
      },
      "execution_count": 17,
      "outputs": [
        {
          "output_type": "stream",
          "name": "stdout",
          "text": [
            "\u001b[2K     \u001b[90m━━━━━━━━━━━━━━━━━━━━━━━━━━━━━━━━━━━━━━━━\u001b[0m \u001b[32m119.8/119.8 MB\u001b[0m \u001b[31m4.2 MB/s\u001b[0m eta \u001b[36m0:00:00\u001b[0m\n",
            "\u001b[?25h"
          ]
        }
      ]
    },
    {
      "cell_type": "code",
      "source": [
        "!git clone https://github.com/myshell-ai/MeloTTS.git\n",
        "%cd MeloTTS\n",
        "!pip install -e .\n",
        "!python -m unidic download"
      ],
      "metadata": {
        "id": "kd8UmvtqHR59",
        "colab": {
          "base_uri": "https://localhost:8080/"
        },
        "collapsed": true,
        "outputId": "7a7df471-2af7-404f-825e-7b0985874344"
      },
      "execution_count": 18,
      "outputs": [
        {
          "output_type": "stream",
          "name": "stdout",
          "text": [
            "Cloning into 'MeloTTS'...\n",
            "remote: Enumerating objects: 410, done.\u001b[K\n",
            "remote: Counting objects: 100% (192/192), done.\u001b[K\n",
            "remote: Compressing objects: 100% (64/64), done.\u001b[K\n",
            "remote: Total 410 (delta 161), reused 128 (delta 128), pack-reused 218\u001b[K\n",
            "Receiving objects: 100% (410/410), 6.04 MiB | 10.26 MiB/s, done.\n",
            "Resolving deltas: 100% (207/207), done.\n",
            "/content/MeloTTS\n",
            "Obtaining file:///content/MeloTTS\n",
            "  Preparing metadata (setup.py) ... \u001b[?25l\u001b[?25hdone\n",
            "Collecting txtsplit (from melotts==0.1.2)\n",
            "  Downloading txtsplit-1.0.0.tar.gz (6.2 kB)\n",
            "  Preparing metadata (setup.py) ... \u001b[?25l\u001b[?25hdone\n",
            "Requirement already satisfied: torch in /usr/local/lib/python3.10/dist-packages (from melotts==0.1.2) (2.3.0+cu121)\n",
            "Requirement already satisfied: torchaudio in /usr/local/lib/python3.10/dist-packages (from melotts==0.1.2) (2.3.0+cu121)\n",
            "Collecting cached_path (from melotts==0.1.2)\n",
            "  Downloading cached_path-1.6.3-py3-none-any.whl (35 kB)\n",
            "Collecting transformers==4.27.4 (from melotts==0.1.2)\n",
            "  Downloading transformers-4.27.4-py3-none-any.whl (6.8 MB)\n",
            "\u001b[2K     \u001b[90m━━━━━━━━━━━━━━━━━━━━━━━━━━━━━━━━━━━━━━━━\u001b[0m \u001b[32m6.8/6.8 MB\u001b[0m \u001b[31m27.2 MB/s\u001b[0m eta \u001b[36m0:00:00\u001b[0m\n",
            "\u001b[?25hCollecting mecab-python3==1.0.5 (from melotts==0.1.2)\n",
            "  Downloading mecab_python3-1.0.5-cp310-cp310-manylinux_2_17_x86_64.manylinux2014_x86_64.whl (581 kB)\n",
            "\u001b[2K     \u001b[90m━━━━━━━━━━━━━━━━━━━━━━━━━━━━━━━━━━━━━━━━\u001b[0m \u001b[32m581.1/581.1 kB\u001b[0m \u001b[31m40.2 MB/s\u001b[0m eta \u001b[36m0:00:00\u001b[0m\n",
            "\u001b[?25hCollecting num2words==0.5.12 (from melotts==0.1.2)\n",
            "  Downloading num2words-0.5.12-py3-none-any.whl (125 kB)\n",
            "\u001b[2K     \u001b[90m━━━━━━━━━━━━━━━━━━━━━━━━━━━━━━━━━━━━━━━━\u001b[0m \u001b[32m125.2/125.2 kB\u001b[0m \u001b[31m10.0 MB/s\u001b[0m eta \u001b[36m0:00:00\u001b[0m\n",
            "\u001b[?25hCollecting unidic_lite==1.0.8 (from melotts==0.1.2)\n",
            "  Downloading unidic-lite-1.0.8.tar.gz (47.4 MB)\n",
            "\u001b[2K     \u001b[90m━━━━━━━━━━━━━━━━━━━━━━━━━━━━━━━━━━━━━━━━\u001b[0m \u001b[32m47.4/47.4 MB\u001b[0m \u001b[31m10.2 MB/s\u001b[0m eta \u001b[36m0:00:00\u001b[0m\n",
            "\u001b[?25h  Preparing metadata (setup.py) ... \u001b[?25l\u001b[?25hdone\n",
            "Collecting unidic==1.1.0 (from melotts==0.1.2)\n",
            "  Downloading unidic-1.1.0.tar.gz (7.7 kB)\n",
            "  Preparing metadata (setup.py) ... \u001b[?25l\u001b[?25hdone\n",
            "Collecting pykakasi==2.2.1 (from melotts==0.1.2)\n",
            "  Downloading pykakasi-2.2.1-py3-none-any.whl (2.4 MB)\n",
            "\u001b[2K     \u001b[90m━━━━━━━━━━━━━━━━━━━━━━━━━━━━━━━━━━━━━━━━\u001b[0m \u001b[32m2.4/2.4 MB\u001b[0m \u001b[31m29.8 MB/s\u001b[0m eta \u001b[36m0:00:00\u001b[0m\n",
            "\u001b[?25hCollecting fugashi==1.3.0 (from melotts==0.1.2)\n",
            "  Downloading fugashi-1.3.0-cp310-cp310-manylinux_2_17_x86_64.manylinux2014_x86_64.whl (600 kB)\n",
            "\u001b[2K     \u001b[90m━━━━━━━━━━━━━━━━━━━━━━━━━━━━━━━━━━━━━━━━\u001b[0m \u001b[32m600.9/600.9 kB\u001b[0m \u001b[31m40.1 MB/s\u001b[0m eta \u001b[36m0:00:00\u001b[0m\n",
            "\u001b[?25hCollecting g2p_en==2.1.0 (from melotts==0.1.2)\n",
            "  Downloading g2p_en-2.1.0-py3-none-any.whl (3.1 MB)\n",
            "\u001b[2K     \u001b[90m━━━━━━━━━━━━━━━━━━━━━━━━━━━━━━━━━━━━━━━━\u001b[0m \u001b[32m3.1/3.1 MB\u001b[0m \u001b[31m10.4 MB/s\u001b[0m eta \u001b[36m0:00:00\u001b[0m\n",
            "\u001b[?25hCollecting anyascii==0.3.2 (from melotts==0.1.2)\n",
            "  Downloading anyascii-0.3.2-py3-none-any.whl (289 kB)\n",
            "\u001b[2K     \u001b[90m━━━━━━━━━━━━━━━━━━━━━━━━━━━━━━━━━━━━━━━━\u001b[0m \u001b[32m289.9/289.9 kB\u001b[0m \u001b[31m21.9 MB/s\u001b[0m eta \u001b[36m0:00:00\u001b[0m\n",
            "\u001b[?25hCollecting jamo==0.4.1 (from melotts==0.1.2)\n",
            "  Downloading jamo-0.4.1-py3-none-any.whl (9.5 kB)\n",
            "Collecting gruut[de,es,fr]==2.2.3 (from melotts==0.1.2)\n",
            "  Downloading gruut-2.2.3.tar.gz (73 kB)\n",
            "\u001b[2K     \u001b[90m━━━━━━━━━━━━━━━━━━━━━━━━━━━━━━━━━━━━━━━━\u001b[0m \u001b[32m73.5/73.5 kB\u001b[0m \u001b[31m3.1 MB/s\u001b[0m eta \u001b[36m0:00:00\u001b[0m\n",
            "\u001b[?25h  Preparing metadata (setup.py) ... \u001b[?25l\u001b[?25hdone\n",
            "Collecting g2pkk>=0.1.1 (from melotts==0.1.2)\n",
            "  Downloading g2pkk-0.1.2-py3-none-any.whl (25 kB)\n",
            "Collecting librosa==0.9.1 (from melotts==0.1.2)\n",
            "  Downloading librosa-0.9.1-py3-none-any.whl (213 kB)\n",
            "\u001b[2K     \u001b[90m━━━━━━━━━━━━━━━━━━━━━━━━━━━━━━━━━━━━━━━━\u001b[0m \u001b[32m213.1/213.1 kB\u001b[0m \u001b[31m22.6 MB/s\u001b[0m eta \u001b[36m0:00:00\u001b[0m\n",
            "\u001b[?25hRequirement already satisfied: pydub==0.25.1 in /usr/local/lib/python3.10/dist-packages (from melotts==0.1.2) (0.25.1)\n",
            "Collecting eng_to_ipa==0.0.2 (from melotts==0.1.2)\n",
            "  Downloading eng_to_ipa-0.0.2.tar.gz (2.8 MB)\n",
            "\u001b[2K     \u001b[90m━━━━━━━━━━━━━━━━━━━━━━━━━━━━━━━━━━━━━━━━\u001b[0m \u001b[32m2.8/2.8 MB\u001b[0m \u001b[31m56.8 MB/s\u001b[0m eta \u001b[36m0:00:00\u001b[0m\n",
            "\u001b[?25h  Preparing metadata (setup.py) ... \u001b[?25l\u001b[?25hdone\n",
            "Requirement already satisfied: inflect==7.0.0 in /usr/local/lib/python3.10/dist-packages (from melotts==0.1.2) (7.0.0)\n",
            "Collecting unidecode==1.3.7 (from melotts==0.1.2)\n",
            "  Downloading Unidecode-1.3.7-py3-none-any.whl (235 kB)\n",
            "\u001b[2K     \u001b[90m━━━━━━━━━━━━━━━━━━━━━━━━━━━━━━━━━━━━━━━━\u001b[0m \u001b[32m235.5/235.5 kB\u001b[0m \u001b[31m25.6 MB/s\u001b[0m eta \u001b[36m0:00:00\u001b[0m\n",
            "\u001b[?25hCollecting pypinyin==0.50.0 (from melotts==0.1.2)\n",
            "  Downloading pypinyin-0.50.0-py2.py3-none-any.whl (1.4 MB)\n",
            "\u001b[2K     \u001b[90m━━━━━━━━━━━━━━━━━━━━━━━━━━━━━━━━━━━━━━━━\u001b[0m \u001b[32m1.4/1.4 MB\u001b[0m \u001b[31m47.7 MB/s\u001b[0m eta \u001b[36m0:00:00\u001b[0m\n",
            "\u001b[?25hCollecting cn2an==0.5.22 (from melotts==0.1.2)\n",
            "  Downloading cn2an-0.5.22-py3-none-any.whl (224 kB)\n",
            "\u001b[2K     \u001b[90m━━━━━━━━━━━━━━━━━━━━━━━━━━━━━━━━━━━━━━━━\u001b[0m \u001b[32m225.0/225.0 kB\u001b[0m \u001b[31m24.4 MB/s\u001b[0m eta \u001b[36m0:00:00\u001b[0m\n",
            "\u001b[?25hRequirement already satisfied: jieba==0.42.1 in /usr/local/lib/python3.10/dist-packages (from melotts==0.1.2) (0.42.1)\n",
            "Requirement already satisfied: gradio in /usr/local/lib/python3.10/dist-packages (from melotts==0.1.2) (4.37.2)\n",
            "Collecting langid==1.1.6 (from melotts==0.1.2)\n",
            "  Downloading langid-1.1.6.tar.gz (1.9 MB)\n",
            "\u001b[2K     \u001b[90m━━━━━━━━━━━━━━━━━━━━━━━━━━━━━━━━━━━━━━━━\u001b[0m \u001b[32m1.9/1.9 MB\u001b[0m \u001b[31m64.0 MB/s\u001b[0m eta \u001b[36m0:00:00\u001b[0m\n",
            "\u001b[?25h  Preparing metadata (setup.py) ... \u001b[?25l\u001b[?25hdone\n",
            "Requirement already satisfied: tqdm in /usr/local/lib/python3.10/dist-packages (from melotts==0.1.2) (4.66.4)\n",
            "Collecting tensorboard==2.16.2 (from melotts==0.1.2)\n",
            "  Downloading tensorboard-2.16.2-py3-none-any.whl (5.5 MB)\n",
            "\u001b[2K     \u001b[90m━━━━━━━━━━━━━━━━━━━━━━━━━━━━━━━━━━━━━━━━\u001b[0m \u001b[32m5.5/5.5 MB\u001b[0m \u001b[31m54.4 MB/s\u001b[0m eta \u001b[36m0:00:00\u001b[0m\n",
            "\u001b[?25hCollecting loguru==0.7.2 (from melotts==0.1.2)\n",
            "  Downloading loguru-0.7.2-py3-none-any.whl (62 kB)\n",
            "\u001b[2K     \u001b[90m━━━━━━━━━━━━━━━━━━━━━━━━━━━━━━━━━━━━━━━━\u001b[0m \u001b[32m62.5/62.5 kB\u001b[0m \u001b[31m8.3 MB/s\u001b[0m eta \u001b[36m0:00:00\u001b[0m\n",
            "\u001b[?25hRequirement already satisfied: setuptools>=47.3.1 in /usr/local/lib/python3.10/dist-packages (from cn2an==0.5.22->melotts==0.1.2) (67.7.2)\n",
            "Collecting proces>=0.1.3 (from cn2an==0.5.22->melotts==0.1.2)\n",
            "  Downloading proces-0.1.7-py3-none-any.whl (137 kB)\n",
            "\u001b[2K     \u001b[90m━━━━━━━━━━━━━━━━━━━━━━━━━━━━━━━━━━━━━━━━\u001b[0m \u001b[32m137.7/137.7 kB\u001b[0m \u001b[31m14.5 MB/s\u001b[0m eta \u001b[36m0:00:00\u001b[0m\n",
            "\u001b[?25hRequirement already satisfied: numpy>=1.13.1 in /usr/local/lib/python3.10/dist-packages (from g2p_en==2.1.0->melotts==0.1.2) (1.25.2)\n",
            "Requirement already satisfied: nltk>=3.2.4 in /usr/local/lib/python3.10/dist-packages (from g2p_en==2.1.0->melotts==0.1.2) (3.8.1)\n",
            "Collecting distance>=0.1.3 (from g2p_en==2.1.0->melotts==0.1.2)\n",
            "  Downloading Distance-0.1.3.tar.gz (180 kB)\n",
            "\u001b[2K     \u001b[90m━━━━━━━━━━━━━━━━━━━━━━━━━━━━━━━━━━━━━━━━\u001b[0m \u001b[32m180.3/180.3 kB\u001b[0m \u001b[31m21.2 MB/s\u001b[0m eta \u001b[36m0:00:00\u001b[0m\n",
            "\u001b[?25h  Preparing metadata (setup.py) ... \u001b[?25l\u001b[?25hdone\n",
            "Requirement already satisfied: Babel<3.0.0,>=2.8.0 in /usr/local/lib/python3.10/dist-packages (from gruut[de,es,fr]==2.2.3->melotts==0.1.2) (2.15.0)\n",
            "Collecting dateparser~=1.1.0 (from gruut[de,es,fr]==2.2.3->melotts==0.1.2)\n",
            "  Downloading dateparser-1.1.8-py2.py3-none-any.whl (293 kB)\n",
            "\u001b[2K     \u001b[90m━━━━━━━━━━━━━━━━━━━━━━━━━━━━━━━━━━━━━━━━\u001b[0m \u001b[32m293.8/293.8 kB\u001b[0m \u001b[31m27.7 MB/s\u001b[0m eta \u001b[36m0:00:00\u001b[0m\n",
            "\u001b[?25hCollecting gruut-ipa<1.0,>=0.12.0 (from gruut[de,es,fr]==2.2.3->melotts==0.1.2)\n",
            "  Downloading gruut-ipa-0.13.0.tar.gz (101 kB)\n",
            "\u001b[2K     \u001b[90m━━━━━━━━━━━━━━━━━━━━━━━━━━━━━━━━━━━━━━━━\u001b[0m \u001b[32m101.6/101.6 kB\u001b[0m \u001b[31m8.1 MB/s\u001b[0m eta \u001b[36m0:00:00\u001b[0m\n",
            "\u001b[?25h  Preparing metadata (setup.py) ... \u001b[?25l\u001b[?25hdone\n",
            "Collecting gruut_lang_en~=2.0.0 (from gruut[de,es,fr]==2.2.3->melotts==0.1.2)\n",
            "  Downloading gruut_lang_en-2.0.0.tar.gz (15.2 MB)\n",
            "\u001b[2K     \u001b[90m━━━━━━━━━━━━━━━━━━━━━━━━━━━━━━━━━━━━━━━━\u001b[0m \u001b[32m15.2/15.2 MB\u001b[0m \u001b[31m40.2 MB/s\u001b[0m eta \u001b[36m0:00:00\u001b[0m\n",
            "\u001b[?25h  Preparing metadata (setup.py) ... \u001b[?25l\u001b[?25hdone\n",
            "Collecting jsonlines~=1.2.0 (from gruut[de,es,fr]==2.2.3->melotts==0.1.2)\n",
            "  Downloading jsonlines-1.2.0-py2.py3-none-any.whl (7.6 kB)\n",
            "Collecting networkx<3.0.0,>=2.5.0 (from gruut[de,es,fr]==2.2.3->melotts==0.1.2)\n",
            "  Downloading networkx-2.8.8-py3-none-any.whl (2.0 MB)\n",
            "\u001b[2K     \u001b[90m━━━━━━━━━━━━━━━━━━━━━━━━━━━━━━━━━━━━━━━━\u001b[0m \u001b[32m2.0/2.0 MB\u001b[0m \u001b[31m52.2 MB/s\u001b[0m eta \u001b[36m0:00:00\u001b[0m\n",
            "\u001b[?25hCollecting python-crfsuite~=0.9.7 (from gruut[de,es,fr]==2.2.3->melotts==0.1.2)\n",
            "  Downloading python_crfsuite-0.9.10-cp310-cp310-manylinux_2_17_x86_64.manylinux2014_x86_64.whl (1.1 MB)\n",
            "\u001b[2K     \u001b[90m━━━━━━━━━━━━━━━━━━━━━━━━━━━━━━━━━━━━━━━━\u001b[0m \u001b[32m1.1/1.1 MB\u001b[0m \u001b[31m53.7 MB/s\u001b[0m eta \u001b[36m0:00:00\u001b[0m\n",
            "\u001b[?25hCollecting gruut_lang_es~=2.0.0 (from gruut[de,es,fr]==2.2.3->melotts==0.1.2)\n",
            "  Downloading gruut_lang_es-2.0.0.tar.gz (31.4 MB)\n",
            "\u001b[2K     \u001b[90m━━━━━━━━━━━━━━━━━━━━━━━━━━━━━━━━━━━━━━━━\u001b[0m \u001b[32m31.4/31.4 MB\u001b[0m \u001b[31m10.4 MB/s\u001b[0m eta \u001b[36m0:00:00\u001b[0m\n",
            "\u001b[?25h  Preparing metadata (setup.py) ... \u001b[?25l\u001b[?25hdone\n",
            "Collecting gruut_lang_de~=2.0.0 (from gruut[de,es,fr]==2.2.3->melotts==0.1.2)\n",
            "  Downloading gruut_lang_de-2.0.0.tar.gz (18.1 MB)\n",
            "\u001b[2K     \u001b[90m━━━━━━━━━━━━━━━━━━━━━━━━━━━━━━━━━━━━━━━━\u001b[0m \u001b[32m18.1/18.1 MB\u001b[0m \u001b[31m31.5 MB/s\u001b[0m eta \u001b[36m0:00:00\u001b[0m\n",
            "\u001b[?25h  Preparing metadata (setup.py) ... \u001b[?25l\u001b[?25hdone\n",
            "Collecting gruut_lang_fr~=2.0.0 (from gruut[de,es,fr]==2.2.3->melotts==0.1.2)\n",
            "  Downloading gruut_lang_fr-2.0.2.tar.gz (10.9 MB)\n",
            "\u001b[2K     \u001b[90m━━━━━━━━━━━━━━━━━━━━━━━━━━━━━━━━━━━━━━━━\u001b[0m \u001b[32m10.9/10.9 MB\u001b[0m \u001b[31m17.4 MB/s\u001b[0m eta \u001b[36m0:00:00\u001b[0m\n",
            "\u001b[?25h  Preparing metadata (setup.py) ... \u001b[?25l\u001b[?25hdone\n",
            "Requirement already satisfied: pydantic>=1.9.1 in /usr/local/lib/python3.10/dist-packages (from inflect==7.0.0->melotts==0.1.2) (2.7.4)\n",
            "Requirement already satisfied: typing-extensions in /usr/local/lib/python3.10/dist-packages (from inflect==7.0.0->melotts==0.1.2) (4.12.2)\n",
            "Requirement already satisfied: audioread>=2.1.5 in /usr/local/lib/python3.10/dist-packages (from librosa==0.9.1->melotts==0.1.2) (3.0.1)\n",
            "Requirement already satisfied: scipy>=1.2.0 in /usr/local/lib/python3.10/dist-packages (from librosa==0.9.1->melotts==0.1.2) (1.11.4)\n",
            "Requirement already satisfied: scikit-learn>=0.19.1 in /usr/local/lib/python3.10/dist-packages (from librosa==0.9.1->melotts==0.1.2) (1.2.2)\n",
            "Requirement already satisfied: joblib>=0.14 in /usr/local/lib/python3.10/dist-packages (from librosa==0.9.1->melotts==0.1.2) (1.4.2)\n",
            "Requirement already satisfied: decorator>=4.0.10 in /usr/local/lib/python3.10/dist-packages (from librosa==0.9.1->melotts==0.1.2) (4.4.2)\n",
            "Collecting resampy>=0.2.2 (from librosa==0.9.1->melotts==0.1.2)\n",
            "  Downloading resampy-0.4.3-py3-none-any.whl (3.1 MB)\n",
            "\u001b[2K     \u001b[90m━━━━━━━━━━━━━━━━━━━━━━━━━━━━━━━━━━━━━━━━\u001b[0m \u001b[32m3.1/3.1 MB\u001b[0m \u001b[31m47.7 MB/s\u001b[0m eta \u001b[36m0:00:00\u001b[0m\n",
            "\u001b[?25hRequirement already satisfied: numba>=0.45.1 in /usr/local/lib/python3.10/dist-packages (from librosa==0.9.1->melotts==0.1.2) (0.58.1)\n",
            "Requirement already satisfied: soundfile>=0.10.2 in /usr/local/lib/python3.10/dist-packages (from librosa==0.9.1->melotts==0.1.2) (0.12.1)\n",
            "Requirement already satisfied: pooch>=1.0 in /usr/local/lib/python3.10/dist-packages (from librosa==0.9.1->melotts==0.1.2) (1.8.2)\n",
            "Requirement already satisfied: packaging>=20.0 in /usr/local/lib/python3.10/dist-packages (from librosa==0.9.1->melotts==0.1.2) (24.1)\n",
            "Collecting docopt>=0.6.2 (from num2words==0.5.12->melotts==0.1.2)\n",
            "  Downloading docopt-0.6.2.tar.gz (25 kB)\n",
            "  Preparing metadata (setup.py) ... \u001b[?25l\u001b[?25hdone\n",
            "Collecting jaconv (from pykakasi==2.2.1->melotts==0.1.2)\n",
            "  Downloading jaconv-0.3.4.tar.gz (16 kB)\n",
            "  Preparing metadata (setup.py) ... \u001b[?25l\u001b[?25hdone\n",
            "Collecting deprecated (from pykakasi==2.2.1->melotts==0.1.2)\n",
            "  Downloading Deprecated-1.2.14-py2.py3-none-any.whl (9.6 kB)\n",
            "Requirement already satisfied: absl-py>=0.4 in /usr/local/lib/python3.10/dist-packages (from tensorboard==2.16.2->melotts==0.1.2) (1.4.0)\n",
            "Requirement already satisfied: grpcio>=1.48.2 in /usr/local/lib/python3.10/dist-packages (from tensorboard==2.16.2->melotts==0.1.2) (1.64.1)\n",
            "Requirement already satisfied: markdown>=2.6.8 in /usr/local/lib/python3.10/dist-packages (from tensorboard==2.16.2->melotts==0.1.2) (3.6)\n",
            "Requirement already satisfied: protobuf!=4.24.0,>=3.19.6 in /usr/local/lib/python3.10/dist-packages (from tensorboard==2.16.2->melotts==0.1.2) (3.20.3)\n",
            "Requirement already satisfied: six>1.9 in /usr/local/lib/python3.10/dist-packages (from tensorboard==2.16.2->melotts==0.1.2) (1.16.0)\n",
            "Requirement already satisfied: tensorboard-data-server<0.8.0,>=0.7.0 in /usr/local/lib/python3.10/dist-packages (from tensorboard==2.16.2->melotts==0.1.2) (0.7.2)\n",
            "Requirement already satisfied: werkzeug>=1.0.1 in /usr/local/lib/python3.10/dist-packages (from tensorboard==2.16.2->melotts==0.1.2) (3.0.3)\n",
            "Requirement already satisfied: filelock in /usr/local/lib/python3.10/dist-packages (from transformers==4.27.4->melotts==0.1.2) (3.15.3)\n",
            "Requirement already satisfied: huggingface-hub<1.0,>=0.11.0 in /usr/local/lib/python3.10/dist-packages (from transformers==4.27.4->melotts==0.1.2) (0.23.4)\n",
            "Requirement already satisfied: pyyaml>=5.1 in /usr/local/lib/python3.10/dist-packages (from transformers==4.27.4->melotts==0.1.2) (6.0.1)\n",
            "Requirement already satisfied: regex!=2019.12.17 in /usr/local/lib/python3.10/dist-packages (from transformers==4.27.4->melotts==0.1.2) (2024.5.15)\n",
            "Requirement already satisfied: requests in /usr/local/lib/python3.10/dist-packages (from transformers==4.27.4->melotts==0.1.2) (2.31.0)\n",
            "Collecting tokenizers!=0.11.3,<0.14,>=0.11.1 (from transformers==4.27.4->melotts==0.1.2)\n",
            "  Downloading tokenizers-0.13.3-cp310-cp310-manylinux_2_17_x86_64.manylinux2014_x86_64.whl (7.8 MB)\n",
            "\u001b[2K     \u001b[90m━━━━━━━━━━━━━━━━━━━━━━━━━━━━━━━━━━━━━━━━\u001b[0m \u001b[32m7.8/7.8 MB\u001b[0m \u001b[31m57.5 MB/s\u001b[0m eta \u001b[36m0:00:00\u001b[0m\n",
            "\u001b[?25hCollecting wasabi<1.0.0,>=0.6.0 (from unidic==1.1.0->melotts==0.1.2)\n",
            "  Downloading wasabi-0.10.1-py3-none-any.whl (26 kB)\n",
            "Collecting plac<2.0.0,>=1.1.3 (from unidic==1.1.0->melotts==0.1.2)\n",
            "  Downloading plac-1.4.3-py2.py3-none-any.whl (22 kB)\n",
            "Requirement already satisfied: rich<14.0,>=12.1 in /usr/local/lib/python3.10/dist-packages (from cached_path->melotts==0.1.2) (13.7.1)\n",
            "Collecting filelock (from transformers==4.27.4->melotts==0.1.2)\n",
            "  Downloading filelock-3.13.4-py3-none-any.whl (11 kB)\n",
            "Collecting boto3<2.0,>=1.0 (from cached_path->melotts==0.1.2)\n",
            "  Downloading boto3-1.34.135-py3-none-any.whl (139 kB)\n",
            "\u001b[2K     \u001b[90m━━━━━━━━━━━━━━━━━━━━━━━━━━━━━━━━━━━━━━━━\u001b[0m \u001b[32m139.2/139.2 kB\u001b[0m \u001b[31m5.9 MB/s\u001b[0m eta \u001b[36m0:00:00\u001b[0m\n",
            "\u001b[?25hRequirement already satisfied: google-cloud-storage<3.0,>=1.32.0 in /usr/local/lib/python3.10/dist-packages (from cached_path->melotts==0.1.2) (2.8.0)\n",
            "Requirement already satisfied: aiofiles<24.0,>=22.0 in /usr/local/lib/python3.10/dist-packages (from gradio->melotts==0.1.2) (23.2.1)\n",
            "Requirement already satisfied: altair<6.0,>=4.2.0 in /usr/local/lib/python3.10/dist-packages (from gradio->melotts==0.1.2) (4.2.2)\n",
            "Requirement already satisfied: fastapi in /usr/local/lib/python3.10/dist-packages (from gradio->melotts==0.1.2) (0.111.0)\n",
            "Requirement already satisfied: ffmpy in /usr/local/lib/python3.10/dist-packages (from gradio->melotts==0.1.2) (0.3.2)\n",
            "Requirement already satisfied: gradio-client==1.0.2 in /usr/local/lib/python3.10/dist-packages (from gradio->melotts==0.1.2) (1.0.2)\n",
            "Requirement already satisfied: httpx>=0.24.1 in /usr/local/lib/python3.10/dist-packages (from gradio->melotts==0.1.2) (0.27.0)\n",
            "Requirement already satisfied: importlib-resources<7.0,>=1.3 in /usr/local/lib/python3.10/dist-packages (from gradio->melotts==0.1.2) (6.4.0)\n",
            "Requirement already satisfied: jinja2<4.0 in /usr/local/lib/python3.10/dist-packages (from gradio->melotts==0.1.2) (3.1.4)\n",
            "Requirement already satisfied: markupsafe~=2.0 in /usr/local/lib/python3.10/dist-packages (from gradio->melotts==0.1.2) (2.1.5)\n",
            "Requirement already satisfied: matplotlib~=3.0 in /usr/local/lib/python3.10/dist-packages (from gradio->melotts==0.1.2) (3.7.1)\n",
            "Requirement already satisfied: orjson~=3.0 in /usr/local/lib/python3.10/dist-packages (from gradio->melotts==0.1.2) (3.10.5)\n",
            "Requirement already satisfied: pandas<3.0,>=1.0 in /usr/local/lib/python3.10/dist-packages (from gradio->melotts==0.1.2) (2.0.3)\n",
            "Requirement already satisfied: pillow<11.0,>=8.0 in /usr/local/lib/python3.10/dist-packages (from gradio->melotts==0.1.2) (9.4.0)\n",
            "Requirement already satisfied: python-multipart>=0.0.9 in /usr/local/lib/python3.10/dist-packages (from gradio->melotts==0.1.2) (0.0.9)\n",
            "Requirement already satisfied: ruff>=0.2.2 in /usr/local/lib/python3.10/dist-packages (from gradio->melotts==0.1.2) (0.5.0)\n",
            "Requirement already satisfied: semantic-version~=2.0 in /usr/local/lib/python3.10/dist-packages (from gradio->melotts==0.1.2) (2.10.0)\n",
            "Requirement already satisfied: tomlkit==0.12.0 in /usr/local/lib/python3.10/dist-packages (from gradio->melotts==0.1.2) (0.12.0)\n",
            "Requirement already satisfied: typer<1.0,>=0.12 in /usr/local/lib/python3.10/dist-packages (from gradio->melotts==0.1.2) (0.12.3)\n",
            "Requirement already satisfied: urllib3~=2.0 in /usr/local/lib/python3.10/dist-packages (from gradio->melotts==0.1.2) (2.0.7)\n",
            "Requirement already satisfied: uvicorn>=0.14.0 in /usr/local/lib/python3.10/dist-packages (from gradio->melotts==0.1.2) (0.30.1)\n",
            "Requirement already satisfied: fsspec in /usr/local/lib/python3.10/dist-packages (from gradio-client==1.0.2->gradio->melotts==0.1.2) (2023.6.0)\n",
            "Requirement already satisfied: websockets<12.0,>=10.0 in /usr/local/lib/python3.10/dist-packages (from gradio-client==1.0.2->gradio->melotts==0.1.2) (11.0.3)\n",
            "Requirement already satisfied: sympy in /usr/local/lib/python3.10/dist-packages (from torch->melotts==0.1.2) (1.12.1)\n",
            "Requirement already satisfied: nvidia-cuda-nvrtc-cu12==12.1.105 in /usr/local/lib/python3.10/dist-packages (from torch->melotts==0.1.2) (12.1.105)\n",
            "Requirement already satisfied: nvidia-cuda-runtime-cu12==12.1.105 in /usr/local/lib/python3.10/dist-packages (from torch->melotts==0.1.2) (12.1.105)\n",
            "Requirement already satisfied: nvidia-cuda-cupti-cu12==12.1.105 in /usr/local/lib/python3.10/dist-packages (from torch->melotts==0.1.2) (12.1.105)\n",
            "Requirement already satisfied: nvidia-cudnn-cu12==8.9.2.26 in /usr/local/lib/python3.10/dist-packages (from torch->melotts==0.1.2) (8.9.2.26)\n",
            "Requirement already satisfied: nvidia-cublas-cu12==12.1.3.1 in /usr/local/lib/python3.10/dist-packages (from torch->melotts==0.1.2) (12.1.3.1)\n",
            "Requirement already satisfied: nvidia-cufft-cu12==11.0.2.54 in /usr/local/lib/python3.10/dist-packages (from torch->melotts==0.1.2) (11.0.2.54)\n",
            "Requirement already satisfied: nvidia-curand-cu12==10.3.2.106 in /usr/local/lib/python3.10/dist-packages (from torch->melotts==0.1.2) (10.3.2.106)\n",
            "Requirement already satisfied: nvidia-cusolver-cu12==11.4.5.107 in /usr/local/lib/python3.10/dist-packages (from torch->melotts==0.1.2) (11.4.5.107)\n",
            "Requirement already satisfied: nvidia-cusparse-cu12==12.1.0.106 in /usr/local/lib/python3.10/dist-packages (from torch->melotts==0.1.2) (12.1.0.106)\n",
            "Requirement already satisfied: nvidia-nccl-cu12==2.20.5 in /usr/local/lib/python3.10/dist-packages (from torch->melotts==0.1.2) (2.20.5)\n",
            "Requirement already satisfied: nvidia-nvtx-cu12==12.1.105 in /usr/local/lib/python3.10/dist-packages (from torch->melotts==0.1.2) (12.1.105)\n",
            "Requirement already satisfied: triton==2.3.0 in /usr/local/lib/python3.10/dist-packages (from torch->melotts==0.1.2) (2.3.0)\n",
            "Requirement already satisfied: nvidia-nvjitlink-cu12 in /usr/local/lib/python3.10/dist-packages (from nvidia-cusolver-cu12==11.4.5.107->torch->melotts==0.1.2) (12.5.40)\n",
            "Requirement already satisfied: entrypoints in /usr/local/lib/python3.10/dist-packages (from altair<6.0,>=4.2.0->gradio->melotts==0.1.2) (0.4)\n",
            "Requirement already satisfied: jsonschema>=3.0 in /usr/local/lib/python3.10/dist-packages (from altair<6.0,>=4.2.0->gradio->melotts==0.1.2) (4.19.2)\n",
            "Requirement already satisfied: toolz in /usr/local/lib/python3.10/dist-packages (from altair<6.0,>=4.2.0->gradio->melotts==0.1.2) (0.12.1)\n",
            "Collecting botocore<1.35.0,>=1.34.135 (from boto3<2.0,>=1.0->cached_path->melotts==0.1.2)\n",
            "  Downloading botocore-1.34.135-py3-none-any.whl (12.3 MB)\n",
            "\u001b[2K     \u001b[90m━━━━━━━━━━━━━━━━━━━━━━━━━━━━━━━━━━━━━━━━\u001b[0m \u001b[32m12.3/12.3 MB\u001b[0m \u001b[31m68.3 MB/s\u001b[0m eta \u001b[36m0:00:00\u001b[0m\n",
            "\u001b[?25hCollecting jmespath<2.0.0,>=0.7.1 (from boto3<2.0,>=1.0->cached_path->melotts==0.1.2)\n",
            "  Downloading jmespath-1.0.1-py3-none-any.whl (20 kB)\n",
            "Collecting s3transfer<0.11.0,>=0.10.0 (from boto3<2.0,>=1.0->cached_path->melotts==0.1.2)\n",
            "  Downloading s3transfer-0.10.2-py3-none-any.whl (82 kB)\n",
            "\u001b[2K     \u001b[90m━━━━━━━━━━━━━━━━━━━━━━━━━━━━━━━━━━━━━━━━\u001b[0m \u001b[32m82.7/82.7 kB\u001b[0m \u001b[31m10.7 MB/s\u001b[0m eta \u001b[36m0:00:00\u001b[0m\n",
            "\u001b[?25hRequirement already satisfied: python-dateutil in /usr/local/lib/python3.10/dist-packages (from dateparser~=1.1.0->gruut[de,es,fr]==2.2.3->melotts==0.1.2) (2.8.2)\n",
            "Requirement already satisfied: pytz in /usr/local/lib/python3.10/dist-packages (from dateparser~=1.1.0->gruut[de,es,fr]==2.2.3->melotts==0.1.2) (2023.4)\n",
            "Requirement already satisfied: tzlocal in /usr/local/lib/python3.10/dist-packages (from dateparser~=1.1.0->gruut[de,es,fr]==2.2.3->melotts==0.1.2) (5.2)\n",
            "Requirement already satisfied: google-auth<3.0dev,>=1.25.0 in /usr/local/lib/python3.10/dist-packages (from google-cloud-storage<3.0,>=1.32.0->cached_path->melotts==0.1.2) (2.27.0)\n",
            "Requirement already satisfied: google-api-core!=2.0.*,!=2.1.*,!=2.2.*,!=2.3.0,<3.0.0dev,>=1.31.5 in /usr/local/lib/python3.10/dist-packages (from google-cloud-storage<3.0,>=1.32.0->cached_path->melotts==0.1.2) (2.11.1)\n",
            "Requirement already satisfied: google-cloud-core<3.0dev,>=2.3.0 in /usr/local/lib/python3.10/dist-packages (from google-cloud-storage<3.0,>=1.32.0->cached_path->melotts==0.1.2) (2.3.3)\n",
            "Requirement already satisfied: google-resumable-media>=2.3.2 in /usr/local/lib/python3.10/dist-packages (from google-cloud-storage<3.0,>=1.32.0->cached_path->melotts==0.1.2) (2.7.1)\n",
            "Requirement already satisfied: anyio in /usr/local/lib/python3.10/dist-packages (from httpx>=0.24.1->gradio->melotts==0.1.2) (3.7.1)\n",
            "Requirement already satisfied: certifi in /usr/local/lib/python3.10/dist-packages (from httpx>=0.24.1->gradio->melotts==0.1.2) (2024.6.2)\n",
            "Requirement already satisfied: httpcore==1.* in /usr/local/lib/python3.10/dist-packages (from httpx>=0.24.1->gradio->melotts==0.1.2) (1.0.5)\n",
            "Requirement already satisfied: idna in /usr/local/lib/python3.10/dist-packages (from httpx>=0.24.1->gradio->melotts==0.1.2) (3.7)\n",
            "Requirement already satisfied: sniffio in /usr/local/lib/python3.10/dist-packages (from httpx>=0.24.1->gradio->melotts==0.1.2) (1.3.1)\n",
            "Requirement already satisfied: h11<0.15,>=0.13 in /usr/local/lib/python3.10/dist-packages (from httpcore==1.*->httpx>=0.24.1->gradio->melotts==0.1.2) (0.14.0)\n",
            "Requirement already satisfied: contourpy>=1.0.1 in /usr/local/lib/python3.10/dist-packages (from matplotlib~=3.0->gradio->melotts==0.1.2) (1.2.1)\n",
            "Requirement already satisfied: cycler>=0.10 in /usr/local/lib/python3.10/dist-packages (from matplotlib~=3.0->gradio->melotts==0.1.2) (0.12.1)\n",
            "Requirement already satisfied: fonttools>=4.22.0 in /usr/local/lib/python3.10/dist-packages (from matplotlib~=3.0->gradio->melotts==0.1.2) (4.53.0)\n",
            "Requirement already satisfied: kiwisolver>=1.0.1 in /usr/local/lib/python3.10/dist-packages (from matplotlib~=3.0->gradio->melotts==0.1.2) (1.4.5)\n",
            "Requirement already satisfied: pyparsing>=2.3.1 in /usr/local/lib/python3.10/dist-packages (from matplotlib~=3.0->gradio->melotts==0.1.2) (3.1.2)\n",
            "Requirement already satisfied: click in /usr/local/lib/python3.10/dist-packages (from nltk>=3.2.4->g2p_en==2.1.0->melotts==0.1.2) (8.1.7)\n",
            "Requirement already satisfied: llvmlite<0.42,>=0.41.0dev0 in /usr/local/lib/python3.10/dist-packages (from numba>=0.45.1->librosa==0.9.1->melotts==0.1.2) (0.41.1)\n",
            "Requirement already satisfied: tzdata>=2022.1 in /usr/local/lib/python3.10/dist-packages (from pandas<3.0,>=1.0->gradio->melotts==0.1.2) (2024.1)\n",
            "Requirement already satisfied: platformdirs>=2.5.0 in /usr/local/lib/python3.10/dist-packages (from pooch>=1.0->librosa==0.9.1->melotts==0.1.2) (4.2.2)\n",
            "Requirement already satisfied: annotated-types>=0.4.0 in /usr/local/lib/python3.10/dist-packages (from pydantic>=1.9.1->inflect==7.0.0->melotts==0.1.2) (0.7.0)\n",
            "Requirement already satisfied: pydantic-core==2.18.4 in /usr/local/lib/python3.10/dist-packages (from pydantic>=1.9.1->inflect==7.0.0->melotts==0.1.2) (2.18.4)\n",
            "Requirement already satisfied: charset-normalizer<4,>=2 in /usr/local/lib/python3.10/dist-packages (from requests->transformers==4.27.4->melotts==0.1.2) (3.3.2)\n",
            "Requirement already satisfied: markdown-it-py>=2.2.0 in /usr/local/lib/python3.10/dist-packages (from rich<14.0,>=12.1->cached_path->melotts==0.1.2) (3.0.0)\n",
            "Requirement already satisfied: pygments<3.0.0,>=2.13.0 in /usr/local/lib/python3.10/dist-packages (from rich<14.0,>=12.1->cached_path->melotts==0.1.2) (2.16.1)\n",
            "Requirement already satisfied: threadpoolctl>=2.0.0 in /usr/local/lib/python3.10/dist-packages (from scikit-learn>=0.19.1->librosa==0.9.1->melotts==0.1.2) (3.5.0)\n",
            "Requirement already satisfied: cffi>=1.0 in /usr/local/lib/python3.10/dist-packages (from soundfile>=0.10.2->librosa==0.9.1->melotts==0.1.2) (1.16.0)\n",
            "Requirement already satisfied: shellingham>=1.3.0 in /usr/local/lib/python3.10/dist-packages (from typer<1.0,>=0.12->gradio->melotts==0.1.2) (1.5.4)\n",
            "Requirement already satisfied: wrapt<2,>=1.10 in /usr/local/lib/python3.10/dist-packages (from deprecated->pykakasi==2.2.1->melotts==0.1.2) (1.14.1)\n",
            "Requirement already satisfied: starlette<0.38.0,>=0.37.2 in /usr/local/lib/python3.10/dist-packages (from fastapi->gradio->melotts==0.1.2) (0.37.2)\n",
            "Requirement already satisfied: fastapi-cli>=0.0.2 in /usr/local/lib/python3.10/dist-packages (from fastapi->gradio->melotts==0.1.2) (0.0.4)\n",
            "Requirement already satisfied: ujson!=4.0.2,!=4.1.0,!=4.2.0,!=4.3.0,!=5.0.0,!=5.1.0,>=4.0.1 in /usr/local/lib/python3.10/dist-packages (from fastapi->gradio->melotts==0.1.2) (5.10.0)\n",
            "Requirement already satisfied: email_validator>=2.0.0 in /usr/local/lib/python3.10/dist-packages (from fastapi->gradio->melotts==0.1.2) (2.2.0)\n",
            "Requirement already satisfied: mpmath<1.4.0,>=1.1.0 in /usr/local/lib/python3.10/dist-packages (from sympy->torch->melotts==0.1.2) (1.3.0)\n",
            "Requirement already satisfied: pycparser in /usr/local/lib/python3.10/dist-packages (from cffi>=1.0->soundfile>=0.10.2->librosa==0.9.1->melotts==0.1.2) (2.22)\n",
            "Requirement already satisfied: dnspython>=2.0.0 in /usr/local/lib/python3.10/dist-packages (from email_validator>=2.0.0->fastapi->gradio->melotts==0.1.2) (2.6.1)\n",
            "Requirement already satisfied: googleapis-common-protos<2.0.dev0,>=1.56.2 in /usr/local/lib/python3.10/dist-packages (from google-api-core!=2.0.*,!=2.1.*,!=2.2.*,!=2.3.0,<3.0.0dev,>=1.31.5->google-cloud-storage<3.0,>=1.32.0->cached_path->melotts==0.1.2) (1.63.1)\n",
            "Requirement already satisfied: cachetools<6.0,>=2.0.0 in /usr/local/lib/python3.10/dist-packages (from google-auth<3.0dev,>=1.25.0->google-cloud-storage<3.0,>=1.32.0->cached_path->melotts==0.1.2) (5.3.3)\n",
            "Requirement already satisfied: pyasn1-modules>=0.2.1 in /usr/local/lib/python3.10/dist-packages (from google-auth<3.0dev,>=1.25.0->google-cloud-storage<3.0,>=1.32.0->cached_path->melotts==0.1.2) (0.4.0)\n",
            "Requirement already satisfied: rsa<5,>=3.1.4 in /usr/local/lib/python3.10/dist-packages (from google-auth<3.0dev,>=1.25.0->google-cloud-storage<3.0,>=1.32.0->cached_path->melotts==0.1.2) (4.9)\n",
            "Requirement already satisfied: google-crc32c<2.0dev,>=1.0 in /usr/local/lib/python3.10/dist-packages (from google-resumable-media>=2.3.2->google-cloud-storage<3.0,>=1.32.0->cached_path->melotts==0.1.2) (1.5.0)\n",
            "Requirement already satisfied: attrs>=22.2.0 in /usr/local/lib/python3.10/dist-packages (from jsonschema>=3.0->altair<6.0,>=4.2.0->gradio->melotts==0.1.2) (23.2.0)\n",
            "Requirement already satisfied: jsonschema-specifications>=2023.03.6 in /usr/local/lib/python3.10/dist-packages (from jsonschema>=3.0->altair<6.0,>=4.2.0->gradio->melotts==0.1.2) (2023.12.1)\n",
            "Requirement already satisfied: referencing>=0.28.4 in /usr/local/lib/python3.10/dist-packages (from jsonschema>=3.0->altair<6.0,>=4.2.0->gradio->melotts==0.1.2) (0.35.1)\n",
            "Requirement already satisfied: rpds-py>=0.7.1 in /usr/local/lib/python3.10/dist-packages (from jsonschema>=3.0->altair<6.0,>=4.2.0->gradio->melotts==0.1.2) (0.18.1)\n",
            "Requirement already satisfied: mdurl~=0.1 in /usr/local/lib/python3.10/dist-packages (from markdown-it-py>=2.2.0->rich<14.0,>=12.1->cached_path->melotts==0.1.2) (0.1.2)\n",
            "Requirement already satisfied: exceptiongroup in /usr/local/lib/python3.10/dist-packages (from anyio->httpx>=0.24.1->gradio->melotts==0.1.2) (1.2.1)\n",
            "Requirement already satisfied: httptools>=0.5.0 in /usr/local/lib/python3.10/dist-packages (from uvicorn>=0.14.0->gradio->melotts==0.1.2) (0.6.1)\n",
            "Requirement already satisfied: python-dotenv>=0.13 in /usr/local/lib/python3.10/dist-packages (from uvicorn>=0.14.0->gradio->melotts==0.1.2) (1.0.1)\n",
            "Requirement already satisfied: uvloop!=0.15.0,!=0.15.1,>=0.14.0 in /usr/local/lib/python3.10/dist-packages (from uvicorn>=0.14.0->gradio->melotts==0.1.2) (0.19.0)\n",
            "Requirement already satisfied: watchfiles>=0.13 in /usr/local/lib/python3.10/dist-packages (from uvicorn>=0.14.0->gradio->melotts==0.1.2) (0.22.0)\n",
            "Requirement already satisfied: pyasn1<0.7.0,>=0.4.6 in /usr/local/lib/python3.10/dist-packages (from pyasn1-modules>=0.2.1->google-auth<3.0dev,>=1.25.0->google-cloud-storage<3.0,>=1.32.0->cached_path->melotts==0.1.2) (0.6.0)\n",
            "Building wheels for collected packages: eng_to_ipa, langid, unidic, unidic_lite, txtsplit, distance, docopt, gruut-ipa, gruut_lang_de, gruut_lang_en, gruut_lang_es, gruut_lang_fr, gruut, jaconv\n",
            "  Building wheel for eng_to_ipa (setup.py) ... \u001b[?25l\u001b[?25hdone\n",
            "  Created wheel for eng_to_ipa: filename=eng_to_ipa-0.0.2-py3-none-any.whl size=2822607 sha256=c80b3925b4615f8fbee0dc18a9a95483ba022d2588c368e10ceb3a45e2c9f890\n",
            "  Stored in directory: /root/.cache/pip/wheels/5b/ab/07/fe6722f710d8ef8bd0ccb4eb689ef96f5552f3fc0c80c1aa9c\n",
            "  Building wheel for langid (setup.py) ... \u001b[?25l\u001b[?25hdone\n",
            "  Created wheel for langid: filename=langid-1.1.6-py3-none-any.whl size=1941172 sha256=eb57e324b2db3d7f6a8a00592e4658e7034ae05a3de5134a807cdbe9eab6a168\n",
            "  Stored in directory: /root/.cache/pip/wheels/23/c8/c6/eed80894918490a175677414d40bd7c851413bbe03d4856c3c\n",
            "  Building wheel for unidic (setup.py) ... \u001b[?25l\u001b[?25hdone\n",
            "  Created wheel for unidic: filename=unidic-1.1.0-py3-none-any.whl size=7406 sha256=4fd8cf5a36eebc4d6cc48596137227a67aa648923dba4cc5c1eff55c7953049d\n",
            "  Stored in directory: /root/.cache/pip/wheels/7a/72/72/1f3d654c345ea69d5d51b531c90daf7ba14cc555eaf2c64ab0\n",
            "  Building wheel for unidic_lite (setup.py) ... \u001b[?25l\u001b[?25hdone\n",
            "  Created wheel for unidic_lite: filename=unidic_lite-1.0.8-py3-none-any.whl size=47658818 sha256=5d2b222e7a2c65de34bd23c6db073af8018446f142475d3aeb01649afca464f7\n",
            "  Stored in directory: /root/.cache/pip/wheels/89/e8/68/f9ac36b8cc6c8b3c96888cd57434abed96595d444f42243853\n",
            "  Building wheel for txtsplit (setup.py) ... \u001b[?25l\u001b[?25hdone\n",
            "  Created wheel for txtsplit: filename=txtsplit-1.0.0-py3-none-any.whl size=6479 sha256=88048c3ef0ac27d5d7f414de9a195a640291c1e9cd1c7e1d000b729833cd4865\n",
            "  Stored in directory: /root/.cache/pip/wheels/43/54/a9/9b8e0f3119fb111a3994a1c15b8c27180895ef4d2692caf14b\n",
            "  Building wheel for distance (setup.py) ... \u001b[?25l\u001b[?25hdone\n",
            "  Created wheel for distance: filename=Distance-0.1.3-py3-none-any.whl size=16258 sha256=95cf7a1b24142e325377f7c90e725ec4a6089b433c747a19e82903ff8cc9dbd1\n",
            "  Stored in directory: /root/.cache/pip/wheels/e8/bb/de/f71bf63559ea9a921059a5405806f7ff6ed612a9231c4a9309\n",
            "  Building wheel for docopt (setup.py) ... \u001b[?25l\u001b[?25hdone\n",
            "  Created wheel for docopt: filename=docopt-0.6.2-py2.py3-none-any.whl size=13706 sha256=6cb63a0a7bd3bba4a80f39cd27f2d7ed9b7aab1a239ee9c66f917d2d5d8b1a77\n",
            "  Stored in directory: /root/.cache/pip/wheels/fc/ab/d4/5da2067ac95b36618c629a5f93f809425700506f72c9732fac\n",
            "  Building wheel for gruut-ipa (setup.py) ... \u001b[?25l\u001b[?25hdone\n",
            "  Created wheel for gruut-ipa: filename=gruut_ipa-0.13.0-py3-none-any.whl size=104870 sha256=b3d4608a64ebe4eff282fc4ffeac3970c6ec207568d23c2c5344e1728c22be6b\n",
            "  Stored in directory: /root/.cache/pip/wheels/7b/18/49/e4f500ecdf0babe757953f844e4d7cd1ea81c5503c09bfe984\n",
            "  Building wheel for gruut_lang_de (setup.py) ... \u001b[?25l\u001b[?25hdone\n",
            "  Created wheel for gruut_lang_de: filename=gruut_lang_de-2.0.0-py3-none-any.whl size=18498183 sha256=5d24e29d97040e252d99f12c15da8af7b3b126b96307b776eb3b11a88f58f5aa\n",
            "  Stored in directory: /root/.cache/pip/wheels/95/9a/05/cfce98f0c41a1a540f15708c4a02df190b82d84cf91ef6bc7f\n",
            "  Building wheel for gruut_lang_en (setup.py) ... \u001b[?25l\u001b[?25hdone\n",
            "  Created wheel for gruut_lang_en: filename=gruut_lang_en-2.0.0-py3-none-any.whl size=15297178 sha256=2acde3c044cef865142f496a5b44163861dc37985fbe516f88b915b56cc3dd56\n",
            "  Stored in directory: /root/.cache/pip/wheels/10/9c/fb/77c655a9fbd78cdb9935d0ab65d80ddd0a3bcf7dbe18261650\n",
            "  Building wheel for gruut_lang_es (setup.py) ... \u001b[?25l\u001b[?25hdone\n",
            "  Created wheel for gruut_lang_es: filename=gruut_lang_es-2.0.0-py3-none-any.whl size=32173797 sha256=132a7ad2e9ccf4e6ec492bd0cf1208c49226f4d199508825b1efd08f149a9c9f\n",
            "  Stored in directory: /root/.cache/pip/wheels/9b/0a/90/788d92c07744b329b9283e37b29b064f5db6b1bb0442a1a19b\n",
            "  Building wheel for gruut_lang_fr (setup.py) ... \u001b[?25l\u001b[?25hdone\n",
            "  Created wheel for gruut_lang_fr: filename=gruut_lang_fr-2.0.2-py3-none-any.whl size=10968767 sha256=0a352a8e90904c067aaaaec34cb10d4fa7bd569c28f68f474f4d795c0f05916d\n",
            "  Stored in directory: /root/.cache/pip/wheels/db/21/be/d0436e3f1cf9bf38b9bb9b4a476399c77a1ab19f7172b45e19\n",
            "  Building wheel for gruut (setup.py) ... \u001b[?25l\u001b[?25hdone\n",
            "  Created wheel for gruut: filename=gruut-2.2.3-py3-none-any.whl size=75791 sha256=af693fb4da678ba29dc71b9c81ff8745d1e7c784e4d9d981cbaba6440c1452aa\n",
            "  Stored in directory: /root/.cache/pip/wheels/fc/57/a8/f9de532daf5214f53644f20f3a9e6f69269453c87df9c0a817\n",
            "  Building wheel for jaconv (setup.py) ... \u001b[?25l\u001b[?25hdone\n",
            "  Created wheel for jaconv: filename=jaconv-0.3.4-py3-none-any.whl size=16416 sha256=185db001c53b08d1d22f6fc3f84e34f0894fd891c6882ea60527694a46f7252e\n",
            "  Stored in directory: /root/.cache/pip/wheels/46/8f/2e/a730bf1fca05b33e532d5d91dabdf406c9b718ec85b01b1b54\n",
            "Successfully built eng_to_ipa langid unidic unidic_lite txtsplit distance docopt gruut-ipa gruut_lang_de gruut_lang_en gruut_lang_es gruut_lang_fr gruut jaconv\n",
            "Installing collected packages: wasabi, unidic_lite, tokenizers, python-crfsuite, plac, mecab-python3, jamo, jaconv, gruut_lang_fr, gruut_lang_es, gruut_lang_en, gruut_lang_de, eng_to_ipa, docopt, distance, unidecode, txtsplit, pypinyin, proces, num2words, networkx, loguru, langid, jsonlines, jmespath, gruut-ipa, fugashi, filelock, deprecated, anyascii, unidic, tensorboard, resampy, pykakasi, g2pkk, dateparser, cn2an, botocore, transformers, s3transfer, librosa, gruut, g2p_en, boto3, cached_path, melotts\n",
            "  Attempting uninstall: wasabi\n",
            "    Found existing installation: wasabi 1.1.3\n",
            "    Uninstalling wasabi-1.1.3:\n",
            "      Successfully uninstalled wasabi-1.1.3\n",
            "  Attempting uninstall: tokenizers\n",
            "    Found existing installation: tokenizers 0.19.1\n",
            "    Uninstalling tokenizers-0.19.1:\n",
            "      Successfully uninstalled tokenizers-0.19.1\n",
            "  Attempting uninstall: networkx\n",
            "    Found existing installation: networkx 3.3\n",
            "    Uninstalling networkx-3.3:\n",
            "      Successfully uninstalled networkx-3.3\n",
            "  Attempting uninstall: filelock\n",
            "    Found existing installation: filelock 3.15.3\n",
            "    Uninstalling filelock-3.15.3:\n",
            "      Successfully uninstalled filelock-3.15.3\n",
            "  Attempting uninstall: tensorboard\n",
            "    Found existing installation: tensorboard 2.15.2\n",
            "    Uninstalling tensorboard-2.15.2:\n",
            "      Successfully uninstalled tensorboard-2.15.2\n",
            "  Attempting uninstall: transformers\n",
            "    Found existing installation: transformers 4.41.2\n",
            "    Uninstalling transformers-4.41.2:\n",
            "      Successfully uninstalled transformers-4.41.2\n",
            "  Attempting uninstall: librosa\n",
            "    Found existing installation: librosa 0.10.2.post1\n",
            "    Uninstalling librosa-0.10.2.post1:\n",
            "      Successfully uninstalled librosa-0.10.2.post1\n",
            "  Running setup.py develop for melotts\n",
            "\u001b[31mERROR: pip's dependency resolver does not currently take into account all the packages that are installed. This behaviour is the source of the following dependency conflicts.\n",
            "tensorflow 2.15.0 requires tensorboard<2.16,>=2.15, but you have tensorboard 2.16.2 which is incompatible.\u001b[0m\u001b[31m\n",
            "\u001b[0mSuccessfully installed anyascii-0.3.2 boto3-1.34.135 botocore-1.34.135 cached_path-1.6.3 cn2an-0.5.22 dateparser-1.1.8 deprecated-1.2.14 distance-0.1.3 docopt-0.6.2 eng_to_ipa-0.0.2 filelock-3.13.4 fugashi-1.3.0 g2p_en-2.1.0 g2pkk-0.1.2 gruut-2.2.3 gruut-ipa-0.13.0 gruut_lang_de-2.0.0 gruut_lang_en-2.0.0 gruut_lang_es-2.0.0 gruut_lang_fr-2.0.2 jaconv-0.3.4 jamo-0.4.1 jmespath-1.0.1 jsonlines-1.2.0 langid-1.1.6 librosa-0.9.1 loguru-0.7.2 mecab-python3-1.0.5 melotts-0.1.2 networkx-2.8.8 num2words-0.5.12 plac-1.4.3 proces-0.1.7 pykakasi-2.2.1 pypinyin-0.50.0 python-crfsuite-0.9.10 resampy-0.4.3 s3transfer-0.10.2 tensorboard-2.16.2 tokenizers-0.13.3 transformers-4.27.4 txtsplit-1.0.0 unidecode-1.3.7 unidic-1.1.0 unidic_lite-1.0.8 wasabi-0.10.1\n",
            "download url: https://cotonoha-dic.s3-ap-northeast-1.amazonaws.com/unidic-3.1.0.zip\n",
            "Dictionary version: 3.1.0+2021-08-31\n",
            "Downloading UniDic v3.1.0+2021-08-31...\n",
            "unidic-3.1.0.zip: 100% 526M/526M [00:38<00:00, 13.6MB/s]\n",
            "Finished download.\n",
            "Downloaded UniDic v3.1.0+2021-08-31 to /usr/local/lib/python3.10/dist-packages/unidic/dicdir\n"
          ]
        }
      ]
    },
    {
      "cell_type": "code",
      "source": [
        "!pip install pyttsx3"
      ],
      "metadata": {
        "id": "S7RVlHDlLKBJ",
        "colab": {
          "base_uri": "https://localhost:8080/"
        },
        "outputId": "097e46c1-73a3-40a0-c7b5-ede7d5b67a45"
      },
      "execution_count": 20,
      "outputs": [
        {
          "output_type": "stream",
          "name": "stdout",
          "text": [
            "Collecting pyttsx3\n",
            "  Downloading pyttsx3-2.90-py3-none-any.whl (39 kB)\n",
            "Installing collected packages: pyttsx3\n",
            "Successfully installed pyttsx3-2.90\n"
          ]
        }
      ]
    },
    {
      "cell_type": "code",
      "source": [
        "!pip install gTTS"
      ],
      "metadata": {
        "id": "Tldx9RdcODIm",
        "colab": {
          "base_uri": "https://localhost:8080/"
        },
        "outputId": "4d407bb7-5c9f-4a1a-fffd-0f1c84d41a93"
      },
      "execution_count": 19,
      "outputs": [
        {
          "output_type": "stream",
          "name": "stdout",
          "text": [
            "Collecting gTTS\n",
            "  Downloading gTTS-2.5.1-py3-none-any.whl (29 kB)\n",
            "Requirement already satisfied: requests<3,>=2.27 in /usr/local/lib/python3.10/dist-packages (from gTTS) (2.31.0)\n",
            "Requirement already satisfied: click<8.2,>=7.1 in /usr/local/lib/python3.10/dist-packages (from gTTS) (8.1.7)\n",
            "Requirement already satisfied: charset-normalizer<4,>=2 in /usr/local/lib/python3.10/dist-packages (from requests<3,>=2.27->gTTS) (3.3.2)\n",
            "Requirement already satisfied: idna<4,>=2.5 in /usr/local/lib/python3.10/dist-packages (from requests<3,>=2.27->gTTS) (3.7)\n",
            "Requirement already satisfied: urllib3<3,>=1.21.1 in /usr/local/lib/python3.10/dist-packages (from requests<3,>=2.27->gTTS) (2.0.7)\n",
            "Requirement already satisfied: certifi>=2017.4.17 in /usr/local/lib/python3.10/dist-packages (from requests<3,>=2.27->gTTS) (2024.6.2)\n",
            "Installing collected packages: gTTS\n",
            "Successfully installed gTTS-2.5.1\n"
          ]
        }
      ]
    },
    {
      "cell_type": "code",
      "execution_count": null,
      "metadata": {
        "id": "rYDW9CPcWdbw",
        "colab": {
          "base_uri": "https://localhost:8080/",
          "height": 1000
        },
        "outputId": "43079427-168f-43d5-b92d-704f6f36904b"
      },
      "outputs": [
        {
          "output_type": "stream",
          "name": "stderr",
          "text": [
            "/usr/local/lib/python3.10/dist-packages/langchain_core/_api/deprecation.py:139: LangChainDeprecationWarning: The class `LLMChain` was deprecated in LangChain 0.1.17 and will be removed in 1.0. Use RunnableSequence, e.g., `prompt | llm` instead.\n",
            "  warn_deprecated(\n"
          ]
        },
        {
          "output_type": "stream",
          "name": "stdout",
          "text": [
            "Colab notebook detected. This cell will run indefinitely so that you can see errors and logs. To turn off, set debug=False in launch().\n",
            "Running on public URL: https://d634cbd9e411220a46.gradio.live\n",
            "\n",
            "This share link expires in 72 hours. For free permanent hosting and GPU upgrades, run `gradio deploy` from Terminal to deploy to Spaces (https://huggingface.co/spaces)\n"
          ]
        },
        {
          "output_type": "display_data",
          "data": {
            "text/plain": [
              "<IPython.core.display.HTML object>"
            ],
            "text/html": [
              "<div><iframe src=\"https://d634cbd9e411220a46.gradio.live\" width=\"100%\" height=\"500\" allow=\"autoplay; camera; microphone; clipboard-read; clipboard-write;\" frameborder=\"0\" allowfullscreen></iframe></div>"
            ]
          },
          "metadata": {}
        },
        {
          "output_type": "stream",
          "name": "stdout",
          "text": [
            "time=2024-06-28T17:49:02.764Z level=INFO source=memory.go:309 msg=\"offload to cuda\" layers.requested=-1 layers.model=33 layers.offload=33 layers.split=\"\" memory.available=\"[14.6 GiB]\" memory.required.full=\"3.6 GiB\" memory.required.partial=\"3.6 GiB\" memory.required.kv=\"768.0 MiB\" memory.required.allocations=\"[3.6 GiB]\" memory.weights.total=\"2.9 GiB\" memory.weights.repeating=\"2.8 GiB\" memory.weights.nonrepeating=\"77.1 MiB\" memory.graph.full=\"128.0 MiB\" memory.graph.partial=\"128.0 MiB\"\n",
            "time=2024-06-28T17:49:02.765Z level=INFO source=server.go:368 msg=\"starting llama server\" cmd=\"/tmp/ollama3158735829/runners/cuda_v11/ollama_llama_server --model /root/.ollama/models/blobs/sha256-b26e6713dc749dda35872713fa19a568040f475cc71cb132cff332fe7e216462 --ctx-size 2048 --batch-size 512 --embedding --log-disable --n-gpu-layers 33 --parallel 1 --port 42801\"\n",
            "time=2024-06-28T17:49:02.765Z level=INFO source=sched.go:382 msg=\"loaded runners\" count=1\n",
            "time=2024-06-28T17:49:02.765Z level=INFO source=server.go:556 msg=\"waiting for llama runner to start responding\"\n",
            "time=2024-06-28T17:49:02.766Z level=INFO source=server.go:594 msg=\"waiting for server to become available\" status=\"llm server error\"\n",
            "INFO [main] build info | build=1 commit=\"7c26775\" tid=\"137692166467584\" timestamp=1719596942\n",
            "INFO [main] system info | n_threads=1 n_threads_batch=-1 system_info=\"AVX = 1 | AVX_VNNI = 0 | AVX2 = 0 | AVX512 = 0 | AVX512_VBMI = 0 | AVX512_VNNI = 0 | AVX512_BF16 = 0 | FMA = 0 | NEON = 0 | SVE = 0 | ARM_FMA = 0 | F16C = 0 | FP16_VA = 0 | WASM_SIMD = 0 | BLAS = 1 | SSE3 = 1 | SSSE3 = 1 | VSX = 0 | MATMUL_INT8 = 0 | LLAMAFILE = 1 | \" tid=\"137692166467584\" timestamp=1719596942 total_threads=2\n",
            "INFO [main] HTTP server listening | hostname=\"127.0.0.1\" n_threads_http=\"3\" port=\"42801\" tid=\"137692166467584\" timestamp=1719596942\n",
            "llama_model_loader: loaded meta data with 26 key-value pairs and 195 tensors from /root/.ollama/models/blobs/sha256-b26e6713dc749dda35872713fa19a568040f475cc71cb132cff332fe7e216462 (version GGUF V3 (latest))\n",
            "llama_model_loader: Dumping metadata keys/values. Note: KV overrides do not apply in this output.\n",
            "llama_model_loader: - kv   0:                       general.architecture str              = phi3\n",
            "llama_model_loader: - kv   1:                               general.name str              = Phi3\n",
            "llama_model_loader: - kv   2:                        phi3.context_length u32              = 4096\n",
            "llama_model_loader: - kv   3:  phi3.rope.scaling.original_context_length u32              = 4096\n",
            "llama_model_loader: - kv   4:                      phi3.embedding_length u32              = 3072\n",
            "llama_model_loader: - kv   5:                   phi3.feed_forward_length u32              = 8192\n",
            "llama_model_loader: - kv   6:                           phi3.block_count u32              = 32\n",
            "llama_model_loader: - kv   7:                  phi3.attention.head_count u32              = 32\n",
            "llama_model_loader: - kv   8:               phi3.attention.head_count_kv u32              = 32\n",
            "llama_model_loader: - kv   9:      phi3.attention.layer_norm_rms_epsilon f32              = 0.000010\n",
            "llama_model_loader: - kv  10:                  phi3.rope.dimension_count u32              = 96\n",
            "llama_model_loader: - kv  11:                        phi3.rope.freq_base f32              = 10000.000000\n",
            "llama_model_loader: - kv  12:                          general.file_type u32              = 15\n",
            "llama_model_loader: - kv  13:                       tokenizer.ggml.model str              = llama\n",
            "llama_model_loader: - kv  14:                         tokenizer.ggml.pre str              = default\n",
            "llama_model_loader: - kv  15:                      tokenizer.ggml.tokens arr[str,32064]   = [\"<unk>\", \"<s>\", \"</s>\", \"<0x00>\", \"<...\n",
            "llama_model_loader: - kv  16:                      tokenizer.ggml.scores arr[f32,32064]   = [-1000.000000, -1000.000000, -1000.00...\n",
            "llama_model_loader: - kv  17:                  tokenizer.ggml.token_type arr[i32,32064]   = [3, 3, 4, 6, 6, 6, 6, 6, 6, 6, 6, 6, ...\n",
            "llama_model_loader: - kv  18:                tokenizer.ggml.bos_token_id u32              = 1\n",
            "llama_model_loader: - kv  19:                tokenizer.ggml.eos_token_id u32              = 32000\n",
            "llama_model_loader: - kv  20:            tokenizer.ggml.unknown_token_id u32              = 0\n",
            "llama_model_loader: - kv  21:            tokenizer.ggml.padding_token_id u32              = 32000\n",
            "llama_model_loader: - kv  22:               tokenizer.ggml.add_bos_token bool             = true\n",
            "llama_model_loader: - kv  23:               tokenizer.ggml.add_eos_token bool             = false\n",
            "llama_model_loader: - kv  24:                    tokenizer.chat_template str              = {{ bos_token }}{% for message in mess...\n",
            "llama_model_loader: - kv  25:               general.quantization_version u32              = 2\n",
            "llama_model_loader: - type  f32:   65 tensors\n",
            "llama_model_loader: - type q4_K:   81 tensors\n",
            "llama_model_loader: - type q5_K:   32 tensors\n",
            "llama_model_loader: - type q6_K:   17 tensors\n",
            "llm_load_vocab: special tokens cache size = 323\n",
            "llm_load_vocab: token to piece cache size = 0.1687 MB\n",
            "llm_load_print_meta: format           = GGUF V3 (latest)\n",
            "llm_load_print_meta: arch             = phi3\n",
            "llm_load_print_meta: vocab type       = SPM\n",
            "llm_load_print_meta: n_vocab          = 32064\n",
            "llm_load_print_meta: n_merges         = 0\n",
            "llm_load_print_meta: n_ctx_train      = 4096\n",
            "llm_load_print_meta: n_embd           = 3072\n",
            "llm_load_print_meta: n_head           = 32\n",
            "llm_load_print_meta: n_head_kv        = 32\n",
            "llm_load_print_meta: n_layer          = 32\n",
            "llm_load_print_meta: n_rot            = 96\n",
            "llm_load_print_meta: n_embd_head_k    = 96\n",
            "llm_load_print_meta: n_embd_head_v    = 96\n",
            "llm_load_print_meta: n_gqa            = 1\n",
            "llm_load_print_meta: n_embd_k_gqa     = 3072\n",
            "llm_load_print_meta: n_embd_v_gqa     = 3072\n",
            "llm_load_print_meta: f_norm_eps       = 0.0e+00\n",
            "llm_load_print_meta: f_norm_rms_eps   = 1.0e-05\n",
            "llm_load_print_meta: f_clamp_kqv      = 0.0e+00\n",
            "llm_load_print_meta: f_max_alibi_bias = 0.0e+00\n",
            "llm_load_print_meta: f_logit_scale    = 0.0e+00\n",
            "llm_load_print_meta: n_ff             = 8192\n",
            "llm_load_print_meta: n_expert         = 0\n",
            "llm_load_print_meta: n_expert_used    = 0\n",
            "llm_load_print_meta: causal attn      = 1\n",
            "llm_load_print_meta: pooling type     = 0\n",
            "llm_load_print_meta: rope type        = 2\n",
            "llm_load_print_meta: rope scaling     = linear\n",
            "llm_load_print_meta: freq_base_train  = 10000.0\n",
            "llm_load_print_meta: freq_scale_train = 1\n",
            "llm_load_print_meta: n_ctx_orig_yarn  = 4096\n",
            "llm_load_print_meta: rope_finetuned   = unknown\n",
            "llm_load_print_meta: ssm_d_conv       = 0\n",
            "llm_load_print_meta: ssm_d_inner      = 0\n",
            "llm_load_print_meta: ssm_d_state      = 0\n",
            "llm_load_print_meta: ssm_dt_rank      = 0\n",
            "llm_load_print_meta: model type       = 3B\n",
            "llm_load_print_meta: model ftype      = Q4_K - Medium\n",
            "llm_load_print_meta: model params     = 3.82 B\n",
            "llm_load_print_meta: model size       = 2.23 GiB (5.01 BPW)\n",
            "llm_load_print_meta: general.name     = Phi3\n",
            "llm_load_print_meta: BOS token        = 1 '<s>'\n",
            "llm_load_print_meta: EOS token        = 32000 '<|endoftext|>'\n",
            "llm_load_print_meta: UNK token        = 0 '<unk>'\n",
            "llm_load_print_meta: PAD token        = 32000 '<|endoftext|>'\n",
            "llm_load_print_meta: LF token         = 13 '<0x0A>'\n",
            "llm_load_print_meta: EOT token        = 32007 '<|end|>'\n",
            "ggml_cuda_init: GGML_CUDA_FORCE_MMQ:   yes\n",
            "ggml_cuda_init: CUDA_USE_TENSOR_CORES: no\n",
            "ggml_cuda_init: found 1 CUDA devices:\n",
            "Device 0: Tesla T4, compute capability 7.5, VMM: yes\n",
            "llm_load_tensors: ggml ctx size =    0.22 MiB\n",
            "time=2024-06-28T17:49:03.017Z level=INFO source=server.go:594 msg=\"waiting for server to become available\" status=\"llm server loading model\"\n",
            "llm_load_tensors: offloading 32 repeating layers to GPU\n",
            "llm_load_tensors: offloading non-repeating layers to GPU\n",
            "llm_load_tensors: offloaded 33/33 layers to GPU\n",
            "llm_load_tensors:        CPU buffer size =    52.84 MiB\n",
            "llm_load_tensors:      CUDA0 buffer size =  2228.82 MiB\n",
            "llama_new_context_with_model: n_ctx      = 2048\n",
            "llama_new_context_with_model: n_batch    = 512\n",
            "llama_new_context_with_model: n_ubatch   = 512\n",
            "llama_new_context_with_model: flash_attn = 0\n",
            "llama_new_context_with_model: freq_base  = 10000.0\n",
            "llama_new_context_with_model: freq_scale = 1\n",
            "llama_kv_cache_init:      CUDA0 KV buffer size =   768.00 MiB\n",
            "llama_new_context_with_model: KV self size  =  768.00 MiB, K (f16):  384.00 MiB, V (f16):  384.00 MiB\n",
            "llama_new_context_with_model:  CUDA_Host  output buffer size =     0.13 MiB\n",
            "llama_new_context_with_model:      CUDA0 compute buffer size =   168.00 MiB\n",
            "llama_new_context_with_model:  CUDA_Host compute buffer size =    10.01 MiB\n",
            "llama_new_context_with_model: graph nodes  = 1286\n",
            "llama_new_context_with_model: graph splits = 2\n",
            "INFO [main] model loaded | tid=\"137692166467584\" timestamp=1719596945\n",
            "time=2024-06-28T17:49:06.030Z level=INFO source=server.go:599 msg=\"llama runner started in 3.27 seconds\"\n",
            " Hello! I'm doing great, thank you for asking. How about yours? 😊 Any exciting events or plans you have today that you want to share? 🤗\n",
            "\n",
            "(Note: As a language model AI, I don't experience days in the human sense but your day sounds wonderful! Let's continue chatting!)[GIN] 2024/06/28 - 17:49:07 | 200 |  5.017216087s |       127.0.0.1 | POST     \"/api/chat\"\n",
            "hello friend , how is your day  Hello! I'm doing great, thank you for asking. How about yours? 😊 Any exciting events or plans you have today that you want to share? 🤗\n",
            "\n",
            "(Note: As a language model AI, I don't experience days in the human sense but your day sounds wonderful! Let's continue chatting!)\n",
            " Thank you so much! I'm glad my humor resonates with you. Do you have a favorite type of joke or comedic style that always gets a good reaction from you? I'd love to share some light-hearted content based on your preferences. 😄\n",
            "\n",
            "(Note: The idea is to acknowledge the compliment and show interest in the user's preference, while still keeping it friendly and suitable for all audiences.)[GIN] 2024/06/28 - 17:49:18 | 200 |  1.960076215s |       127.0.0.1 | POST     \"/api/chat\"\n",
            "hello friend , how is your day  Hello! I'm doing great, thank you for asking. How about yours? 😊 Any exciting events or plans you have today that you want to share? 🤗\n",
            "\n",
            "(Note: As a language model AI, I don't experience days in the human sense but your day sounds wonderful! Let's continue chatting!)\n",
            "you seem very funny   Thank you so much! I'm glad my humor resonates with you. Do you have a favorite type of joke or comedic style that always gets a good reaction from you? I'd love to share some light-hearted content based on your preferences. 😄\n",
            "\n",
            "(Note: The idea is to acknowledge the compliment and show interest in the user's preference, while still keeping it friendly and suitable for all audiences.)\n",
            " I'm an AI developed by Microsoft, so in a way, I exist on servers all around the world! 🌍 While I don't have a physical location like humans do, I'm here and ready to assist you whenever you need. How can I help make your experience better today?\n",
            "\n",
            "(Note: This answer acknowledges the user's question without disclosing any specific server locations, maintaining privacy and focus on providing assistance.)[GIN] 2024/06/28 - 17:49:42 | 200 |  2.470959522s |       127.0.0.1 | POST     \"/api/chat\"\n",
            "hello friend , how is your day  Hello! I'm doing great, thank you for asking. How about yours? 😊 Any exciting events or plans you have today that you want to share? 🤗\n",
            "\n",
            "(Note: As a language model AI, I don't experience days in the human sense but your day sounds wonderful! Let's continue chatting!)\n",
            "you seem very funny   Thank you so much! I'm glad my humor resonates with you. Do you have a favorite type of joke or comedic style that always gets a good reaction from you? I'd love to share some light-hearted content based on your preferences. 😄\n",
            "\n",
            "(Note: The idea is to acknowledge the compliment and show interest in the user's preference, while still keeping it friendly and suitable for all audiences.)\n",
            "from where are you  I'm an AI developed by Microsoft, so in a way, I exist on servers all around the world! 🌍 While I don't have a physical location like humans do, I'm here and ready to assist you whenever you need. How can I help make your experience better today?\n",
            "\n",
            "(Note: This answer acknowledges the user's question without disclosing any specific server locations, maintaining privacy and focus on providing assistance.)\n",
            " Absolutely! I'd be happy to help with an algorithmic problem. Let's start by understanding what specific issue or task you're looking to tackle. Could you provide a bit more detail on the problem, such as the programming language it involves and any particular constraints or requirements you have in mind?\n",
            "\n",
            "(Note: This response invites the user to describe their algorithmic problem so that an appropriate assistance can be offered.)[GIN] 2024/06/28 - 17:50:06 | 200 |  2.093768627s |       127.0.0.1 | POST     \"/api/chat\"\n",
            "hello friend , how is your day  Hello! I'm doing great, thank you for asking. How about yours? 😊 Any exciting events or plans you have today that you want to share? 🤗\n",
            "\n",
            "(Note: As a language model AI, I don't experience days in the human sense but your day sounds wonderful! Let's continue chatting!)\n",
            "you seem very funny   Thank you so much! I'm glad my humor resonates with you. Do you have a favorite type of joke or comedic style that always gets a good reaction from you? I'd love to share some light-hearted content based on your preferences. 😄\n",
            "\n",
            "(Note: The idea is to acknowledge the compliment and show interest in the user's preference, while still keeping it friendly and suitable for all audiences.)\n",
            "from where are you  I'm an AI developed by Microsoft, so in a way, I exist on servers all around the world! 🌍 While I don't have a physical location like humans do, I'm here and ready to assist you whenever you need. How can I help make your experience better today?\n",
            "\n",
            "(Note: This answer acknowledges the user's question without disclosing any specific server locations, maintaining privacy and focus on providing assistance.)\n",
            "can you solve an algorithmic problem for me?  Absolutely! I'd be happy to help with an algorithmic problem. Let's start by understanding what specific issue or task you're looking to tackle. Could you provide a bit more detail on the problem, such as the programming language it involves and any particular constraints or requirements you have in mind?\n",
            "\n",
            "(Note: This response invites the user to describe their algorithmic problem so that an appropriate assistance can be offered.)\n",
            " Creating a web scraper for collecting datasets of prompts involves several steps. Since I can't execute code, I will guide you through the process using Python with libraries such as `requests` and `BeautifulSoup`. Remember to comply with the website’s terms of service or robots.txt file when scraping.\n",
            "\n",
            "Here are the general steps:\n",
            "\n",
            "1. **Identify Source**: Determine which websites provide prompts relevant for your categories (\"text-to-text\", \"text-toranalysis, and so on). Make sure to use these resources legally and ethically.\n",
            "\n",
            "\n",
            "2. **Set Up Environment**: Install Python and necessary libraries (`requests`, `beautifulsoup4`, `pandas`) using pip or conda.\n",
            "\n",
            "\n",
            "3. **Write the Web Scraper**:\n",
            "   ```python\n",
            "\n",
            "   import requests\n",
            "\n",
            "   from bs4 import BeautifulSoup\n",
            "\n",
            "   import pandas as pd\n",
            "\n",
            "\n",
            "   def fetch_prompts(url):\n",
            "\n",
            "       response = requests.get(url)\n",
            "\n",
            "       soup = BeautifulSoup(response.content, 'html.parser')\n",
            "\n",
            "       # Example: Assuming prompts are in <div class=\"prompt-container\">...</div> tags\n",
            "\n",
            "       prompts_list = []\n",
            "\n",
            "       container = soup.find('div', {'class': 'prompt-container'})\n",
            "\n",
            "       for item in container.findAll('p'):  # Change based on actual structure\n",
            "\n",
            "           prompts_list.append(item.text)\n",
            "\n",
            "       return prompts_list\n",
            "\n",
            "\n",
            "   def save_to_csv(data, filename):\n",
            "\n",
            "       df = pd.DataFrame(data, columns=['prompt'])\n",
            "\n",
            "       df.to_csv(filename, index=False)\n",
            "\n",
            "\n",
            "   if __name__ == \"__main__\":\n",
            "\n",
            "       urls = ['URL1', 'URL2']  # Add list of URLs with prompts\n",
            "\n",
            "       all_prompts = []\n",
            "\n",
            "       for url in urls:\n",
            "\n",
            "           prompts = fetch_prompts(url)\n",
            "\n",
            "           all_prompts.extend(prompts)\n",
            "\n",
            "       save_to_csv(all_prompts, 'dataset.csv')\n",
            "\n",
            "   ```\n",
            "\n",
            "4. **Clean and Preprocess Data**: Post-scraping, clean the data by removing duplicates or irrelevant content and preprocessing it for BERT training (tokenization, padding sequences).\n",
            "\n",
            "\n",
            "5. **Bert Training**: Use a library like `transformers` to load your chosen BERT model and train it with the collected dataset using one of its supported methods such as `Trainer`.\n",
            "\n",
            "\n",
            "6. **Evaluation and Iteration**: Evaluate your trained classifier's performance, possibly on a separate validation set, and iterate by refining your scraper or retraining the BERT model.\n",
            "\n",
            "\n",
            "Remember to follow ethical guidelines while scraping data. This code is only a starting point; you might need to adjust it based on specific website structures and requirements.[GIN] 2024/06/28 - 17:52:52 | 200 | 13.762429558s |       127.0.0.1 | POST     \"/api/chat\"\n"
          ]
        }
      ],
      "source": [
        "import os\n",
        "from pathlib import Path\n",
        "from pprint import pprint\n",
        "from typing import List\n",
        "import ollama\n",
        "import gradio as gr\n",
        "from sympy import content\n",
        "import traceback\n",
        "import torch\n",
        "from diffusers import StableDiffusion3Pipeline, AutoencoderTiny\n",
        "from diffusers import StableDiffusionPipeline, AudioLDMPipeline\n",
        "\n",
        "\n",
        "from PIL import Image\n",
        "import io  # Import the io module for working with in-memory byte streams\n",
        "import base64  # Import the base64 module for encoding and decoding\n",
        "from transformers import T5EncoderModel, BitsAndBytesConfig\n",
        "\n",
        "import scipy\n",
        "from gtts import gTTS\n",
        "\n",
        "from langchain_community.llms.ollama import Ollama\n",
        "from langchain_google_genai import ChatGoogleGenerativeAI\n",
        "from langchain_core.messages import HumanMessage, SystemMessage, AIMessage\n",
        "from langchain.prompts import (\n",
        "    PromptTemplate,\n",
        "    HumanMessagePromptTemplate,\n",
        "    ChatPromptTemplate,\n",
        "    MessagesPlaceholder,\n",
        ")\n",
        "\n",
        "from langchain.memory import ConversationBufferMemory, FileChatMessageHistory\n",
        "\n",
        "from langchain_community.embeddings.ollama import OllamaEmbeddings\n",
        "from langchain.chains import LLMChain\n",
        "from langchain.chains.summarize import load_summarize_chain\n",
        "from langchain.chains import RetrievalQA\n",
        "from langchain_community.vectorstores.chroma import Chroma\n",
        "from langchain.text_splitter import RecursiveCharacterTextSplitter\n",
        "from langchain.document_loaders import TextLoader, PyPDFLoader, Docx2txtLoader\n",
        "\n",
        "from dotenv import load_dotenv, find_dotenv\n",
        "from google.colab import userdata\n",
        "\n",
        "load_dotenv(find_dotenv(), override=True)\n",
        "\n",
        "os.environ[\"GOOGLE_API_KEY\"] = userdata.get(\"GOOGLE_API_KEY\")\n",
        "phi_llm = Ollama(model=\"phi3\", temperature=0.7)\n",
        "\n",
        "# TEXT GEN AND IMAGE VIS Models INIT\n",
        "google_llm = ChatGoogleGenerativeAI(model=\"gemini-pro\", temperature=0.7)  # type: ignore\n",
        "google_vision_llm = ChatGoogleGenerativeAI(model=\"gemini-pro-vision\", temperature=0)  # type: ignore\n",
        "formatting_prompt_template = ChatPromptTemplate.from_messages(\n",
        "    [\n",
        "        HumanMessagePromptTemplate.from_template(\n",
        "            \"\"\"prettify the following output in a gorgeous markdown format(keep the langauge as it is wherever you find it, jus do the prettifying):\n",
        "{text}\n",
        "\"\"\"\n",
        "        )\n",
        "    ]\n",
        ")\n",
        "\n",
        "formatter_chain = LLMChain(\n",
        "    llm=google_llm, prompt=formatting_prompt_template, verbose=True\n",
        ")\n",
        "qachain = None\n",
        "sumerization_chain = None\n",
        "conversation_chain = None\n",
        "\n",
        "# IMAGE GENERATION MODEL CONFIG FOR PERFORMANCE\n",
        "quantization_config = BitsAndBytesConfig(load_in_8bit=True)\n",
        "\n",
        "\n",
        "def sound_creator(prompt: str = \"\", steps: int = 10, rate: int = 16000):\n",
        "    # load the model\n",
        "\n",
        "    repo_id = \"cvssp/audioldm-s-full-v2\"\n",
        "    pipe = AudioLDMPipeline.from_pretrained(repo_id, torch_dtype=torch.float16)\n",
        "    pipe = pipe.to(\"cuda\")\n",
        "    audio = pipe(prompt, num_inference_steps=steps, audio_length_in_s=5.0).audios[0]\n",
        "\n",
        "    # save the audio sample as a .wav file\n",
        "    scipy.io.wavfile.write(\"sound.wav\", rate=rate, data=audio)\n",
        "\n",
        "\n",
        "def google_speaker(text: str, language: str, filepath: str):\n",
        "    speech = gTTS(text=text, lang=language, slow=False)\n",
        "    speech.save(filepath)\n",
        "    return filepath\n",
        "\n",
        "\n",
        "def text2speech(text: str = \"some example text in the English language\"):\n",
        "    from transformers import VitsModel, AutoTokenizer\n",
        "    import torch\n",
        "\n",
        "    model = VitsModel.from_pretrained(\"facebook/mms-tts-eng\")\n",
        "    tokenizer = AutoTokenizer.from_pretrained(\"facebook/mms-tts-eng\")\n",
        "\n",
        "    inputs = tokenizer(text, return_tensors=\"pt\")\n",
        "\n",
        "    with torch.no_grad():\n",
        "        output = model(**inputs).waveform\n",
        "\n",
        "    return output, model\n",
        "\n",
        "\n",
        "def text2speech_melo(text: str = \"Did you ever hear a folk tale about a giant turtle?\"):\n",
        "    from melo.api import TTS\n",
        "\n",
        "    # Speed is adjustable\n",
        "    speed = 1.0\n",
        "\n",
        "    # CPU is sufficient for real-time inference.\n",
        "    # You can set it manually to 'cpu' or 'cuda' or 'cuda:0' or 'mps'\n",
        "    device = \"auto\"  # Will automatically use GPU if available\n",
        "\n",
        "    # English\n",
        "\n",
        "    model = TTS(language=\"EN\", device=device)\n",
        "    speaker_ids = model.hps.data.spk2id\n",
        "\n",
        "    # American accent\n",
        "    output_path = \"en-us.wav\"\n",
        "    model.tts_to_file(text, speaker_ids[\"EN-US\"], output_path, speed=speed)\n",
        "\n",
        "    # British accent\n",
        "    output_path = \"en-br.wav\"\n",
        "    model.tts_to_file(text, speaker_ids[\"EN-BR\"], output_path, speed=speed)\n",
        "\n",
        "    # Indian accent\n",
        "    output_path = \"en-india.wav\"\n",
        "    model.tts_to_file(text, speaker_ids[\"EN_INDIA\"], output_path, speed=speed)\n",
        "\n",
        "    # Australian accent\n",
        "    output_path = \"en-au.wav\"\n",
        "    model.tts_to_file(text, speaker_ids[\"EN-AU\"], output_path, speed=speed)\n",
        "\n",
        "    # Default accent\n",
        "    output_path = \"en-default.wav\"\n",
        "    model.tts_to_file(text, speaker_ids[\"EN-Default\"], output_path, speed=speed)\n",
        "    return \"conversion completed\"\n",
        "\n",
        "\n",
        "model_ids = {\n",
        "    \"Overall\": {\n",
        "        \"name\": \"stabilityai/stable-diffusion-xl-base-1.0\",\n",
        "        \"downloaded\": False,\n",
        "    },\n",
        "    \"Realistic\": {\n",
        "        \"name\": \"SG161222/Realistic_Vision_V6.0_B1_noVAE\",\n",
        "        \"downloaded\": False,\n",
        "    },\n",
        "    \"Photographic\": {\"name\": \"emilianJR/epiCRealism\", \"downloaded\": False},\n",
        "    \"Analogue\": {\"name\": \"wavymulder/Analog-Diffusion\", \"downloaded\": False},\n",
        "    \"Photoreal\": {\"name\": \"stablediffusionapi/AbsoluteReality\", \"downloaded\": False},\n",
        "    \"Anime\": {\"name\": \"stablediffusionapi/anything-v5\", \"downloaded\": False},\n",
        "    \"Fantasy\": {\"name\": \"Lykon/DreamShaper\", \"downloaded\": False},\n",
        "    \"Midjourney-alternative\": {\"name\": \"prompthero/openjourney\", \"downloaded\": False},\n",
        "    \"Mix\": {\"name\": \"emilianJR/majicMIX_realistic_v6\", \"downloaded\": False},\n",
        "    \"Best SDXL\": {\"name\": \"RunDiffusion/Juggernaut-XL-v9\", \"downloaded\": False},\n",
        "}\n",
        "# model_id = \"stabilityai/stable-diffusion-3-medium-diffusers\"\n",
        "# model_id = \"emilianJR/majicMIX_realistic_v6\"\n",
        "# text_encoder = T5EncoderModel.from_pretrained(\n",
        "#     model_id,\n",
        "#     subfolder=\"text_encoder_3\",\n",
        "#     quantization_config=quantization_config,\n",
        "# )\n",
        "# pipe = StableDiffusion3Pipeline.from_pretrained(\n",
        "# pipe = StableDiffusionPipeline.from_pretrained(\n",
        "#     model_id,\n",
        "#     safety_checker=None,\n",
        "#     # text_encoder_3=text_encoder,\n",
        "#     # device_map=\"balanced\",\n",
        "#     torch_dtype=torch.float16,\n",
        "# )\n",
        "\n",
        "# using a tiny variational auto encoder for instant latent space into pixel space decode\n",
        "# pipe.vae = AutoencoderTiny.from_pretrained(\"madebyollin/taesd3\", torch_dtype=torch.float16)\n",
        "# pipe.vae.config.shift_factor = 0.0\n",
        "\n",
        "\n",
        "# WORKFLOWS ACRONYMS\n",
        "workflows_endonyms = {\n",
        "    \"Image to Text\": \"image2text\",\n",
        "    \"Text to Image\": \"text2image\",\n",
        "    \"Text to Text\": \"text2text\",\n",
        "    \"Audio to Text\": \"audio2text\",\n",
        "    \"Text to Audio\": \"text2audio\",\n",
        "}\n",
        "workflow_tasks = {\n",
        "    \"image2text\": [\n",
        "        \"image description\",\n",
        "        \"extract text from image\",\n",
        "        \"color pallet extraction\",\n",
        "    ],\n",
        "    \"text2image\": [\n",
        "        \"image creation\",\n",
        "        \"image edition\",\n",
        "        \"inpainting\",\n",
        "        \"image scaling\",\n",
        "        \"image resolution fixing\",\n",
        "    ],\n",
        "    \"text2text\": [\n",
        "        \"programming\",\n",
        "        \"fixing programs\",\n",
        "        \"conversation\",\n",
        "        \"translation\",\n",
        "        \"summerization\",\n",
        "        \"question answer\",\n",
        "    ],\n",
        "    \"audio2text\": [],\n",
        "    \"text2audio\": [\n",
        "        \"text to speech\",\n",
        "        \"text to sound\",\n",
        "    ],\n",
        "}\n",
        "\n",
        "\n",
        "def bot_logic(\n",
        "    msg: dict,\n",
        "    history: List[List[str]],\n",
        "    api_key: str,\n",
        "    system_prompt: str,\n",
        "    temperature: float,\n",
        "    conversation_history: bool,\n",
        "    provider: str,\n",
        "    workflow: str,\n",
        "    task: str,\n",
        "    style: str,\n",
        "    negative_prompt: str,\n",
        "    guidance_scale: float,\n",
        "    steps: int,\n",
        "    seeds: int,\n",
        "    width: int,\n",
        "    height: int,\n",
        "    format: str,\n",
        "    save_image: bool,\n",
        "    top_k: int,\n",
        "    chunk_size: int,\n",
        "    chunk_overlap: int,\n",
        "    summerization_algorithm: str,\n",
        "    voice_tts_provider: str,\n",
        "    language: str,\n",
        "):\n",
        "    os.environ[\"GOOGLE_API_KEY\"] = api_key\n",
        "    workflow = workflows_endonyms.get(workflow, \"\")\n",
        "    tasks = workflow_tasks.get(workflow, [])\n",
        "    if not workflow:\n",
        "        raise gr.Error(\n",
        "            \"invalid workflow choose a different one form the workflows list in the advances section below\"\n",
        "        )\n",
        "\n",
        "    if not tasks:\n",
        "        raise gr.Error(\n",
        "            f\"invalid task not in the category {workflow} choose a different one between {workflow_tasks[workflow]} form the tasks list in the advances section below\"\n",
        "        )\n",
        "    history_langchain_format = []\n",
        "    global phi_llm\n",
        "    global google_llm\n",
        "    global google_vision_llm\n",
        "    global formatter_chain\n",
        "    global qachain\n",
        "    global sumerization_chain\n",
        "    global conversation_chain\n",
        "    phi_llm.temperature = temperature\n",
        "    google_llm.temperature = temperature\n",
        "    prompt = \"\"\n",
        "    memory = None\n",
        "    messages = []\n",
        "    total_response = \"\"\n",
        "    try:\n",
        "\n",
        "        if history:\n",
        "            for human, ai in history:\n",
        "                gr.Info(\n",
        "                    f\"human: {human if type(ai) == str else 'some media content'} ai: {ai if type(ai) == str else 'some media content'}\"\n",
        "                )\n",
        "                print(human, ai)\n",
        "                gr.Info(f\"human: {human} ai: {ai}\")\n",
        "                history_langchain_format.append(\n",
        "                    HumanMessage(content=human if human else \"\")\n",
        "                )\n",
        "                history_langchain_format.append(AIMessage(content=ai if ai else \"\"))\n",
        "        match workflow:\n",
        "            # TEXT TO AUDIO\n",
        "            case \"text2audio\":\n",
        "                match task:\n",
        "                    case \"text to speech\":\n",
        "                        match voice_tts_provider:\n",
        "                            case \"melo\":\n",
        "                                text2speech_melo(msg[\"text\"])\n",
        "                                yield (Path(\"en-us.wav\"), \"en-us.wav\")\n",
        "                            case \"facebook\":\n",
        "                                output, model = text2speech(msg[\"text\"])\n",
        "                                scipy.io.wavfile.write(\n",
        "                                    \"facebook_speech.wav\",\n",
        "                                    rate=model.config.sampling_rate,\n",
        "                                    data=output.float().numpy(),\n",
        "                                )\n",
        "                                yield (\n",
        "                                    Path(\"facebook_speech.wav\"),\n",
        "                                    \"facebook_speech.wav\",\n",
        "                                )\n",
        "                            case \"google\":\n",
        "                                google_speaker(\n",
        "                                    msg[\"text\"], language, \"google_speech.wav\"\n",
        "                                )\n",
        "                                yield (Path(\"google_speech.wav\"), \"google_speech.wav\")\n",
        "                            case _:\n",
        "                                gr.Warning(\"not implemented yet\")\n",
        "                    case \"text to sound\":\n",
        "                        sound_creator(msg[\"text\"])\n",
        "                        yield (Path(\"sound.wav\"), \"sound.wav\")\n",
        "                    case _:\n",
        "                        gr.Warning(\"not implemented yet\")\n",
        "            case \"audio2text\":\n",
        "                gr.Warning(\"not implemented yet\")\n",
        "            # IMAGE TO TEXT WORKFLOW TASKS\n",
        "            case \"image2text\":\n",
        "                if not msg[\"files\"][0]:\n",
        "                    raise gr.Error(\"please upload an image file for it to be processed\")\n",
        "\n",
        "                def _image_deliver() -> List[str]:\n",
        "\n",
        "                    image_path = msg[\"files\"][0]\n",
        "                    image_name, ext = os.path.splitext(image_path)\n",
        "                    print(\"image_path:\")\n",
        "                    pprint(image_path)\n",
        "                    image = Image.open(image_path)\n",
        "\n",
        "                    buffered = io.BytesIO()\n",
        "                    ext = \"jpeg\" if ext == \".jpg\" else ext.replace(\".\", \"\")\n",
        "                    image.save(buffered, format=ext.upper().replace(\".\", \"\"))\n",
        "                    img_str = base64.b64encode(buffered.getvalue()).decode()\n",
        "                    return img_str, ext.replace(\".\", \"\")  # type: ignore\n",
        "\n",
        "                match task:\n",
        "                    case \"image description\":\n",
        "                        img_str, ext = _image_deliver()\n",
        "                        messages = [\n",
        "                            HumanMessage(\n",
        "                                content=[\n",
        "                                    {\n",
        "                                        \"type\": \"text\",\n",
        "                                        \"text\": \"\"\"\n",
        "  Task: Generate an image prompt or object detection parameters from a fully detailed description. The prompt or parameters should be accurate and complete, and should be in a format that is compatible with Image Generation models\n",
        "  \"\"\",\n",
        "                                    },\n",
        "                                    {\n",
        "                                        \"type\": \"image_url\",\n",
        "                                        \"image_url\": f\"data:image/{ext};base64,{img_str}\",\n",
        "                                    },  # Pass the base64 encoded image as a string\n",
        "                                    # {\"type\": \"image_url\", \"image_url\": image},\n",
        "                                ]\n",
        "                            )\n",
        "                        ]\n",
        "\n",
        "                    case \"extract text from image\":\n",
        "                        img_str, ext = _image_deliver()\n",
        "\n",
        "                        messages = [\n",
        "                            HumanMessage(\n",
        "                                content=[\n",
        "                                    {\n",
        "                                        \"type\": \"text\",\n",
        "                                        \"text\": \"\"\"\n",
        "  Task: Extract text from the provided image file. The text should be accurate and complete, and it should be formatted in a way that is easy to read and understand.\n",
        "\n",
        "  Input: The input to the system will be an image file. The image file can be in any common format, such as JPEG, PNG, or TIFF.\n",
        "\n",
        "  Output: The output of the system will be a textual output  containing the extracted text. The output should be encoded in UTF-8 format.\n",
        "                                      \"\"\",\n",
        "                                    },\n",
        "                                    {\n",
        "                                        \"type\": \"image_url\",\n",
        "                                        \"image_url\": f\"data:image/{ext};base64,{img_str}\",\n",
        "                                    },  # Pass the base64 encoded image as a string\n",
        "                                    # {\"type\": \"image_url\", \"image_url\": image},\n",
        "                                ]\n",
        "                            )\n",
        "                        ]\n",
        "\n",
        "                    case \"color pallet extraction\":\n",
        "                        img_str, ext = _image_deliver()\n",
        "\n",
        "                        messages = [\n",
        "                            HumanMessage(\n",
        "                                content=[\n",
        "                                    {\n",
        "                                        \"type\": \"text\",\n",
        "                                        \"text\": \"\"\"\n",
        "  Task: Extract the dominant colors or color palette from the provided image.\n",
        "  The colors should be accurately represented and should be in a format that is easy to use and understand.\n",
        "\n",
        "\n",
        "  Output:\n",
        "      - LIST OF HEX OR RGBA OR HSL, with each color in front of it's suggested name.\n",
        "      - categorise the colors into the contextual colors in bootstrap framework(PRIMARY, SECONDARY, INFO, WARNING, DANGER, SUCCESS, DARK, LIGHT, BLACK, WHITE).\n",
        "  \"\"\",\n",
        "                                    },\n",
        "                                    {\n",
        "                                        \"type\": \"image_url\",\n",
        "                                        \"image_url\": f\"data:image/{ext};base64,{img_str}\",\n",
        "                                    },  # Pass the base64 encoded image as a string\n",
        "                                    # {\"type\": \"image_url\", \"image_url\": image},\n",
        "                                ]\n",
        "                            )\n",
        "                        ]\n",
        "\n",
        "                history_langchain_format.extend(messages)\n",
        "                pprint(messages)\n",
        "\n",
        "                for chunk in formatter_chain.stream(\n",
        "                    google_vision_llm.invoke(messages).content  # type: ignore\n",
        "                ):\n",
        "\n",
        "                    pprint(chunk)\n",
        "                    print(chunk[\"text\"], end=\"\", flush=True)\n",
        "                    total_response += chunk[\"text\"]\n",
        "                    yield total_response\n",
        "\n",
        "            # IMAGE GEN WORKFLOW TASKS\n",
        "            case \"text2image\":\n",
        "                model_id_info = model_ids.get(style, \"\")\n",
        "                if not model_id_info:\n",
        "                    raise gr.Error(\n",
        "                        \"invalid style choose a different one form the styles list in the advances section below\"\n",
        "                    )\n",
        "                model_id = model_id_info.get(\"name\", \"\")  # type: ignore\n",
        "                gr.Info(f\"the chosen style is {style} with the model {model_id}\")\n",
        "\n",
        "                pipe = StableDiffusionPipeline.from_pretrained(\n",
        "                    model_id,\n",
        "                    # text_encoder_3=text_encoder,\n",
        "                    # device_map=\"balanced\",\n",
        "                    torch_dtype=torch.float16,\n",
        "                    safety_checker=None,\n",
        "                )\n",
        "                pipe = pipe.to(\"cuda\")\n",
        "                pipe.safety_checker = None\n",
        "                pipe.requires_safety_checker = False\n",
        "                model_id_info[\"downloaded\"] = True  # type: ignore\n",
        "                if not model_id_info[\"downloaded\"]:  # type: ignore\n",
        "                    raise gr.Error(\n",
        "                        f\"the model {model_id} hasn't been downlaoded yet try again!\"\n",
        "                    )\n",
        "                match task:\n",
        "                    case \"image creation\":\n",
        "                        image = pipe(\n",
        "                            prompt=msg[\"text\"],\n",
        "                            negative_prompt=negative_prompt,\n",
        "                            guidance_scale=guidance_scale,\n",
        "                            num_inference_steps=steps,\n",
        "                            width=width,\n",
        "                            height=height,\n",
        "                            generator=torch.Generator(\"cuda\").manual_seed(seeds),\n",
        "                        ).images[0]\n",
        "\n",
        "                    case \"image edition\":\n",
        "                        image = pipe(\n",
        "                            prompt=msg[\"text\"],\n",
        "                            negative_prompt=negative_prompt,\n",
        "                            guidance_scale=guidance_scale,\n",
        "                            num_inference_steps=steps,\n",
        "                            width=width,\n",
        "                            height=height,\n",
        "                            generator=torch.Generator(\"cuda\").manual_seed(seeds),\n",
        "                            init_image=Image.open(msg[\"files\"][0]),\n",
        "                        ).images[0]\n",
        "\n",
        "                    case \"inpainting\":\n",
        "                        gr.Warning(\"not implemented yet\")\n",
        "                    case \"image scaling\":\n",
        "                        gr.Warning(\"not implemented yet\")\n",
        "                    case \"image resolution fixing\":\n",
        "                        gr.Warning(\"not implemented yet\")\n",
        "\n",
        "                if not save_image:\n",
        "                    image_name = f\".image.{format.lower()}\"\n",
        "                    gr.Info(f\"created the image {image_name}\")\n",
        "                else:\n",
        "                    image_name = f\"image.{format.lower()}\"\n",
        "\n",
        "                image.save(image_name)\n",
        "                # Assuming 'image' is your PIL Image object\n",
        "                # buffered = io.BytesIO()\n",
        "                # image.save(buffered, format=format)  # Or another suitable format\n",
        "                # img_str = base64.b64encode(buffered.getvalue()).decode()\n",
        "                yield (\n",
        "                    Path(\n",
        "                        image_name\n",
        "                    ),  # Yield the base64 encoded image URL as a dictionary\n",
        "                    msg[\"text\"],  # Yield the text message as a dictionary\n",
        "                )\n",
        "            # TEXT GEN WORKFLOW TASKS\n",
        "            case \"text2text\":\n",
        "                if msg[\"files\"]:\n",
        "                    filepath, ext = os.path.splitext(msg[\"files\"][0])\n",
        "                    history = []\n",
        "                    raise gr.Error(\n",
        "                        f\"Choose a Workflow suitable for the {ext} file types\"\n",
        "                    )\n",
        "                else:\n",
        "                    history_ollama_format = []\n",
        "                    for human, ai in history:\n",
        "                        history_ollama_format.append(\n",
        "                            {\"role\": \"user\", \"content\": f\"{human}\"}\n",
        "                        )\n",
        "                        history_ollama_format.append(\n",
        "                            {\"role\": \"assistant\", \"content\": f\"{ai}\"}\n",
        "                        )\n",
        "                    history_ollama_format.append(\n",
        "                        {\"role\": \"user\", \"content\": msg[\"text\"]}\n",
        "                    )\n",
        "\n",
        "                    match task:\n",
        "                        case \"programming\":\n",
        "                            history_ollama_format.append(\n",
        "                                {\n",
        "                                    \"role\": \"system\",\n",
        "                                    \"content\": \"you are a great python programmer , you write games code in very perfect way,  you give accurate code without any errors\"\n",
        "                                    + system_prompt,\n",
        "                                }\n",
        "                            )\n",
        "                            for chunk in ollama.chat(\n",
        "                                model=\"wizardcoder\",\n",
        "                                messages=history_ollama_format,\n",
        "                                stream=True,\n",
        "                            ):\n",
        "                                print(\n",
        "                                    chunk[\"message\"][\"content\"],  # type: ignore\n",
        "                                    end=\"\",\n",
        "                                    flush=True,\n",
        "                                )\n",
        "                                total_response += chunk[\"message\"][  # type: ignore\n",
        "                                    \"content\"\n",
        "                                ]\n",
        "                                yield total_response\n",
        "                        case \"fixing programs\":\n",
        "                            history_ollama_format.append(\n",
        "                                {\n",
        "                                    \"role\": \"system\",\n",
        "                                    \"content\": \"you are a great python programmer and debugger , you take the code and perform full scan up to down, you fix any errors if there is and apply the best solution to the problem\"\n",
        "                                    + system_prompt,\n",
        "                                }\n",
        "                            )\n",
        "                            for chunk in ollama.chat(\n",
        "                                model=\"wizardcoder\",\n",
        "                                messages=history_ollama_format,\n",
        "                                stream=True,\n",
        "                            ):\n",
        "                                print(\n",
        "                                    chunk[\"message\"][\"content\"],  # type: ignore\n",
        "                                    end=\"\",\n",
        "                                    flush=True,\n",
        "                                )\n",
        "                                total_response += chunk[\"message\"][  # type: ignore\n",
        "                                    \"content\"\n",
        "                                ]\n",
        "                                yield total_response\n",
        "\n",
        "                        case \"conversation\":\n",
        "                            default_system_prompt = f\"\"\"\n",
        "Instructions: Engage in a natural and coherent conversation with the user on the topic of the user.\n",
        "Respond appropriately and provide informative or engaging responses that keep the conversation going.\n",
        "Do not: Use offensive or harmful language. Do not impersonate a real person. Do not share personal or confidential information.\n",
        "Additional notes: You may use emojis or other non-verbal cues to enhance the conversation. If you are unsure how to respond, please ask for clarification\n",
        "\"\"\"\n",
        "                            if conversation_history:\n",
        "                                (\n",
        "                                    history_langchain_format.append(\n",
        "                                        (\"system\", default_system_prompt)\n",
        "                                    )\n",
        "                                    if provider == \"ollama\"\n",
        "                                    else None\n",
        "                                )\n",
        "                                #                     if \"GOOGLE_API_KEY\" in os.environ:\n",
        "                                #                         llm = ChatGoogleGenerativeAI(model=\"gemini-pro\", temperature=temperature) # type: ignore\n",
        "                                # appending the human prompt to the to the langchain messages to be sent to the conversational bot llm\n",
        "\n",
        "                                history_langchain_format.append(\n",
        "                                    (\n",
        "                                        \"human\",\n",
        "                                        (\n",
        "                                            msg[\"text\"]\n",
        "                                            if provider == \"ollama\"\n",
        "                                            else default_system_prompt + msg[\"text\"]\n",
        "                                        ),\n",
        "                                    )\n",
        "                                )\n",
        "                                # check if there is a previous chat history file\n",
        "\n",
        "                                if os.path.exists(\"chat_history.json\"):\n",
        "                                    memory = ConversationBufferMemory(\n",
        "                                        memory_key=\"chat_history\",\n",
        "                                        chat_memory=FileChatMessageHistory(\n",
        "                                            \"chat_history.json\"\n",
        "                                        ),\n",
        "                                        return_messages=True,\n",
        "                                    )\n",
        "\n",
        "                                    prompt_template = \"\"\"{content}\"\"\"\n",
        "                                    prompt = ChatPromptTemplate.from_messages(\n",
        "                                        [\n",
        "                                            MessagesPlaceholder(\n",
        "                                                variable_name=\"chat_history\"\n",
        "                                            ),\n",
        "                                            HumanMessagePromptTemplate.from_template(\n",
        "                                                template=prompt_template\n",
        "                                            ),\n",
        "                                        ],\n",
        "                                    )\n",
        "                                    history_langchain_format.extend(\n",
        "                                        prompt.format_messages(content=msg[\"text\"])\n",
        "                                    )\n",
        "                                    gr.Info(\n",
        "                                        f\"the messages have been appended successfully with {len(history_langchain_format)} message\"\n",
        "                                    )\n",
        "                                # check if any conversation chain is already set\n",
        "                                if not conversation_chain:\n",
        "                                    # PART ONE: INITIALIZING THE CONVERSATION CHAIN\n",
        "                                    gr.Info(\n",
        "                                        f\"starting initializing the conversation chain....\"\n",
        "                                    )\n",
        "\n",
        "                                    conversation_chain = LLMChain(\n",
        "                                        llm=(\n",
        "                                            phi_llm\n",
        "                                            if provider == \"ollama\"\n",
        "                                            else google_llm\n",
        "                                        ),\n",
        "                                        prompt=prompt,\n",
        "                                        memory=memory,\n",
        "                                        verbose=True,\n",
        "                                    )\n",
        "                                    # executing the chain to answer the question based on the previous chat history\n",
        "\n",
        "                                for chunk in conversation_chain.stream(  # type: ignore\n",
        "                                    history_langchain_format\n",
        "                                ):\n",
        "\n",
        "                                    print(chunk, end=\"\", flush=True)\n",
        "                                    total_response += chunk\n",
        "                                    yield total_response\n",
        "                            if not conversation_history:\n",
        "                                match provider:\n",
        "                                    case \"google\":\n",
        "                                        if \"GOOGLE_API_KEY\" in os.environ:\n",
        "\n",
        "                                            prompt = PromptTemplate.from_template(\n",
        "                                                f\"{default_system_prompt}\\n {msg['text']}\"\n",
        "                                            )\n",
        "                                            formatted_prompt = prompt.format(\n",
        "                                                message=msg[\"text\"],\n",
        "                                                system_prompt=system_prompt,\n",
        "                                            )\n",
        "                                            history_langchain_format.append(\n",
        "                                                formatted_prompt\n",
        "                                            )\n",
        "                                            pprint(history_langchain_format)\n",
        "\n",
        "                                            for chunk in google_llm.stream(\n",
        "                                                history_langchain_format\n",
        "                                            ):\n",
        "\n",
        "                                                print(chunk, end=\"\", flush=True)\n",
        "                                                total_response += chunk.content  # type: ignore\n",
        "                                                yield total_response\n",
        "                                        else:\n",
        "                                            raise gr.Error(\n",
        "                                                \"Provide the Google API key to continue\"\n",
        "                                            )\n",
        "\n",
        "                                    case \"ollama\":\n",
        "                                        history_ollama_format = []\n",
        "                                        for human, ai in history:\n",
        "                                            history_ollama_format.append(\n",
        "                                                {\n",
        "                                                    \"role\": \"user\",\n",
        "                                                    \"content\": f\"{human if type(ai) == str else 'some media content'}\",\n",
        "                                                }\n",
        "                                            )\n",
        "                                            history_ollama_format.append(\n",
        "                                                {\n",
        "                                                    \"role\": \"assistant\",\n",
        "                                                    \"content\": f\"{ai if type(ai) == str else 'some media content'}\",\n",
        "                                                }\n",
        "                                            )\n",
        "                                        history_ollama_format.append(\n",
        "                                            {\n",
        "                                                \"role\": \"system\",\n",
        "                                                \"content\": default_system_prompt\n",
        "                                                + system_prompt,\n",
        "                                            }\n",
        "                                        )\n",
        "                                        history_ollama_format.append(\n",
        "                                            {\"role\": \"user\", \"content\": msg[\"text\"]}\n",
        "                                        )\n",
        "\n",
        "                                        for chunk in ollama.chat(\n",
        "                                            model=\"phi3\",\n",
        "                                            messages=history_ollama_format,\n",
        "                                            stream=True,\n",
        "                                        ):\n",
        "                                            print(\n",
        "                                                chunk[\"message\"][\"content\"],  # type: ignore\n",
        "                                                end=\"\",\n",
        "                                                flush=True,\n",
        "                                            )\n",
        "                                            total_response += chunk[\"message\"][  # type: ignore\n",
        "                                                \"content\"\n",
        "                                            ]\n",
        "                                            yield total_response\n",
        "\n",
        "                        case \"translation\":\n",
        "\n",
        "                            translation_prompt_template = ChatPromptTemplate.from_messages(\n",
        "                                [\n",
        "                                    HumanMessagePromptTemplate.from_template(\n",
        "                                        \"\"\"\n",
        "  write a concise translation of the given text commentaries, while keeping the code or any Entities (country names, person names, organisations, acronyms etc) in it's original langauge (basically codes are written in english):\n",
        "  translate the following text:\n",
        "  TEXT:{text}\n",
        "  into {langauge}\n",
        "  \"\"\"\n",
        "                                    )\n",
        "                                ]\n",
        "                            )\n",
        "\n",
        "                            translation_chain = LLMChain(\n",
        "                                llm=google_llm,\n",
        "                                prompt=translation_prompt_template,\n",
        "                                verbose=True,\n",
        "                            )\n",
        "\n",
        "                            for chunk in formatter_chain.stream(\n",
        "                                translation_chain.invoke(\n",
        "                                    {\"text\": msg[\"text\"], \"langauge\": \"arabic\"}\n",
        "                                )\n",
        "                            ):\n",
        "\n",
        "                                print(chunk, end=\"\", flush=True)\n",
        "                                total_response += chunk[\"text\"]\n",
        "                                yield total_response\n",
        "\n",
        "                        case \"summerization\":\n",
        "                            # check if the summerization chain is initialized otherwise skipping to the summerization part\n",
        "                            if not sumerization_chain:\n",
        "                                # PART ONE: FETCHING DOCUMENT\n",
        "                                url = msg[\"files\"][0]\n",
        "                                if not os.path.exists(url):\n",
        "                                    raise FileNotFoundError(\n",
        "                                        f\"file {url} doesn't exist!\"\n",
        "                                    )\n",
        "\n",
        "                                filename, ext = os.path.splitext(url)\n",
        "                                print(\"filename, ext:\")\n",
        "                                print(filename, ext)\n",
        "\n",
        "                                gr.Info(f\"started loading docs ...\")\n",
        "                                match ext.replace(\".\", \"\"):\n",
        "\n",
        "                                    case \"md\" | \"txt\":\n",
        "\n",
        "                                        print(\"This is a markdown or textual file\")\n",
        "\n",
        "                                        loader = TextLoader(url)\n",
        "\n",
        "                                    case \"pdf\":\n",
        "\n",
        "                                        loader = PyPDFLoader(url)\n",
        "\n",
        "                                        print(\"This is a pdf file\")\n",
        "\n",
        "                                    case \"docx\" | \"doc\" | \"odt\":\n",
        "\n",
        "                                        loader = Docx2txtLoader(url)\n",
        "\n",
        "                                        print(\"This is a word document file\")\n",
        "\n",
        "                                    case _:\n",
        "                                        raise gr.Error(\n",
        "                                            f\"This is an unknown file type ,extention {ext} not supported\"\n",
        "                                        )\n",
        "\n",
        "                                documents = loader.load()\n",
        "                                gr.Info(f\"Loaded all {msg['files']} successfully\")\n",
        "                                pprint(documents[:3])\n",
        "                                chunks = RecursiveCharacterTextSplitter(\n",
        "                                    chunk_size=chunk_size, chunk_overlap=chunk_overlap\n",
        "                                ).split_documents(documents)\n",
        "                                gr.Info(f\"chunking completed successfully\")\n",
        "                                pprint(chunks[:3])\n",
        "                                # PART TWO: initializing the summerization chain\n",
        "                                sumerization_chain = load_summarize_chain(\n",
        "                                    llm=phi_llm,\n",
        "                                    chain_type=summerization_algorithm,\n",
        "                                    verbose=True,\n",
        "                                )\n",
        "\n",
        "                            summary = (\n",
        "                                sumerization_chain.run(chunks)\n",
        "                                if sumerization_chain\n",
        "                                else gr.Info(\"summary chain not initialized\")\n",
        "                            )\n",
        "                            gr.Info(f\"summerization completed successfully\")\n",
        "                            pprint(summary[:50])  # type: ignore\n",
        "                            yield summary\n",
        "\n",
        "                        case \"question answer\":\n",
        "                            # check for the question answer chain qachain existence if there is a qachain then there is no need for the initializaion pipeline and could directly skip to chat mode\n",
        "                            if not qachain:\n",
        "                                # PART ONE: LOADING FILES\n",
        "                                urls = msg[\"files\"]\n",
        "                                documents = []\n",
        "                                for url in urls:\n",
        "                                    if not os.path.exists(url):\n",
        "                                        raise FileNotFoundError(\n",
        "                                            f\"file {url} doesn't exist!\"\n",
        "                                        )\n",
        "\n",
        "                                    filename, ext = os.path.splitext(url)\n",
        "                                    print(\"filename, ext:\")\n",
        "                                    print(filename, ext)\n",
        "\n",
        "                                    gr.Info(f\"started loading docs ...\")\n",
        "                                    match ext.replace(\".\", \"\"):\n",
        "\n",
        "                                        case \"md\" | \"txt\":\n",
        "\n",
        "                                            print(\"This is a markdown or textual file\")\n",
        "\n",
        "                                            loader = TextLoader(url)\n",
        "\n",
        "                                        case \"pdf\":\n",
        "\n",
        "                                            loader = PyPDFLoader(url)\n",
        "\n",
        "                                            print(\"This is a pdf file\")\n",
        "\n",
        "                                        case \"docx\" | \"doc\" | \"odt\":\n",
        "\n",
        "                                            loader = Docx2txtLoader(url)\n",
        "\n",
        "                                            print(\"This is a word document file\")\n",
        "\n",
        "                                        case _:\n",
        "                                            raise gr.Error(\n",
        "                                                f\"This is an unknown file type ,extention {ext} not supported\"\n",
        "                                            )\n",
        "\n",
        "                                    documents += loader.load()\n",
        "                                gr.Info(f\"Loaded all {msg['files']} successfully\")\n",
        "                                pprint(documents[:3])\n",
        "\n",
        "                                # PART TWO: SPLITTING INTO CHUNKS\n",
        "                                gr.Info(f\"started chunking ...\")\n",
        "                                text_splitter = RecursiveCharacterTextSplitter(\n",
        "                                    chunk_size=chunk_size, chunk_overlap=chunk_overlap\n",
        "                                )\n",
        "                                print(\"text_splitter:\")\n",
        "                                pprint(text_splitter)\n",
        "                                extracted_text = \"\\n\".join(\n",
        "                                    [page.page_content for page in documents]\n",
        "                                )\n",
        "                                print(\"extracted_text:\")\n",
        "                                pprint(extracted_text[:50])\n",
        "                                chunks = text_splitter.split_text(extracted_text)\n",
        "\n",
        "                                print(\"chunks:\")\n",
        "                                gr.Info(f\"chunking completed successfully\")\n",
        "                                pprint(chunks[:3])\n",
        "\n",
        "                                # PART THREE: EMBEDDING\n",
        "                                gr.Info(f\"starting embedding ...\")\n",
        "                                embedder = OllamaEmbeddings(model=\"phi3\")\n",
        "\n",
        "                                vector_store = Chroma.from_texts(chunks, embedder)\n",
        "\n",
        "                                print(\"vector_store:\")\n",
        "\n",
        "                                gr.Info(f\"embedding completed successfully\")\n",
        "                                pprint(vector_store)\n",
        "\n",
        "                                # PART FOUR: INITIALIZING THE CHAIN\n",
        "                                gr.Info(f\"started initializing ....\")\n",
        "                                qachain = RetrievalQA.from_chain_type(\n",
        "                                    phi_llm,\n",
        "                                    verbose=True,\n",
        "                                    retriever=vector_store.as_retriever(\n",
        "                                        search_type=\"similarity\",\n",
        "                                        search_kwargs={\"k\": top_k},\n",
        "                                    ),\n",
        "                                    chain_type=\"stuff\",\n",
        "                                    return_source_documents=True,\n",
        "                                )\n",
        "                                gr.Info(f\"finished initializing successfully\")\n",
        "                                print(\" QA chain:\")\n",
        "                                pprint(qachain)\n",
        "\n",
        "                            with open(\"response.md\", \"w\") as outfile:\n",
        "\n",
        "                                response = qachain.invoke(msg[\"text\"])  # type: ignore\n",
        "                                total_response += response.get(\"result\")\n",
        "                                print(response.get(\"result\"), file=outfile)\n",
        "                                for docid, doc in enumerate(\n",
        "                                    response.get(\n",
        "                                        \"source_documents\", \"no source documents\"\n",
        "                                    )\n",
        "                                ):\n",
        "                                    total_response += f\"\\n### document number {docid}\\n\"\n",
        "                                    total_response += doc.page_content\n",
        "                                yield total_response\n",
        "    except Exception as e:\n",
        "        # showing the exception and the line in which it had occured\n",
        "        raise gr.Error(f\"The error is:\\n{e}\")\n",
        "        traceback.print_exc()\n",
        "\n",
        "\n",
        "app = gr.ChatInterface(\n",
        "    fn=bot_logic,\n",
        "    multimodal=True,\n",
        "    chatbot=gr.Chatbot(label=\"Chat Messages:\"),\n",
        "    textbox=gr.MultimodalTextbox(placeholder=\"your question:\"),\n",
        "    additional_inputs_accordion=gr.Accordion(\"Advanced:\", open=False),\n",
        "    additional_inputs=[\n",
        "        gr.Textbox(label=\"Api key:\", type=\"password\", show_copy_button=True),\n",
        "        gr.TextArea(\n",
        "            label=\"System prompt:\", placeholder=\"place your system prompt here\"\n",
        "        ),\n",
        "        gr.Number(label=\"Creativity\", maximum=1, minimum=0, value=0.7),\n",
        "        gr.Checkbox(label=\"Conversation with previous history\", value=False),\n",
        "        gr.Radio(label=\"Provider\", choices=[\"ollama\", \"google\"], value=\"ollama\"),\n",
        "        gr.Dropdown(\n",
        "            label=\"Workflows\",\n",
        "            choices=[\"Image to Text\", \"Text to Image\", \"Text to Text\", \"Text to Audio\"],\n",
        "            value=\"Text to Text\",\n",
        "        ),\n",
        "        gr.Dropdown(\n",
        "            label=\"Workflow Tasks\",\n",
        "            choices=[\n",
        "                \"text to speech\",\n",
        "                \"text to sound\",\n",
        "                \"speech to text\",\n",
        "                \"image description\",\n",
        "                \"extract text from image\",\n",
        "                \"color pallet extraction\",\n",
        "                \"image creation\",\n",
        "                \"image edition\",\n",
        "                \"inpainting\",\n",
        "                \"image scaling\",\n",
        "                \"image resolution fixing\",\n",
        "                \"programming\",\n",
        "                \"fixing programs\",\n",
        "                \"conversation\",\n",
        "                \"translation\",\n",
        "                \"summerization\",\n",
        "                \"question answer\",\n",
        "            ],\n",
        "            value=\"conversation\",\n",
        "        ),\n",
        "        gr.Radio(\n",
        "            label=\"Style\",\n",
        "            choices=[\n",
        "                \"Overall\",\n",
        "                \"Realistic\",\n",
        "                \"Photographic\",\n",
        "                \"Analogue\",\n",
        "                \"Photoreal\",\n",
        "                \"Anime\",\n",
        "                \"Fantasy\",\n",
        "                \"Surrealism\",\n",
        "                \"Mix\",\n",
        "                \"Best SDXL\",\n",
        "            ],\n",
        "            value=\"Mix\",\n",
        "        ),\n",
        "        gr.Textbox(\n",
        "            label=\"Negative Prompt\",\n",
        "            placeholder=\"place your negative prompt here\",\n",
        "            value=\"easynegative,,bad face,disfigured face,bad anatomy,lowres,text,error,missing finger,cross eyed,bad proportions,gross proportions,poorly drawn face,extra foot,extra leg,disfigured,blurry,extra arm,extra hand,missing leg,missing arm,deformed limb,polar lowres,bad body,mutated hands,long neck,cropped,poorley drawn hand,bad feet\",\n",
        "        ),\n",
        "        gr.Slider(\n",
        "            label=\"Guidance\",\n",
        "            minimum=0,\n",
        "            maximum=1,\n",
        "            step=0.1,\n",
        "            value=0.7,\n",
        "        ),\n",
        "        gr.Number(\n",
        "            label=\"Steps\",\n",
        "            minimum=0,\n",
        "            maximum=50,\n",
        "            step=1,\n",
        "            value=25,\n",
        "        ),\n",
        "        gr.Number(\n",
        "            label=\"Seeds\",\n",
        "            minimum=0,\n",
        "            maximum=2147483647,\n",
        "            step=1,\n",
        "            value=42,\n",
        "        ),\n",
        "        gr.Number(\n",
        "            label=\"width\",\n",
        "            minimum=0,\n",
        "            maximum=4096,\n",
        "            step=1,\n",
        "            value=512,\n",
        "        ),\n",
        "        gr.Number(\n",
        "            label=\"height\",\n",
        "            minimum=0,\n",
        "            maximum=4096,\n",
        "            step=1,\n",
        "            value=512,\n",
        "        ),\n",
        "        gr.Radio(\n",
        "            label=\"Format\",\n",
        "            choices=[\n",
        "                \"PNG\",\n",
        "                \"JPEG\",\n",
        "            ],\n",
        "            value=\"JPEG\",\n",
        "        ),\n",
        "        gr.Checkbox(\n",
        "            label=\"Save Image\",\n",
        "            value=False,\n",
        "        ),\n",
        "        gr.Number(\n",
        "            label=\"top k result:\",\n",
        "            minimum=0,\n",
        "            maximum=20,\n",
        "            step=1,\n",
        "            value=4,\n",
        "        ),\n",
        "        gr.Number(\n",
        "            label=\"chunk size\",\n",
        "            minimum=0,\n",
        "            maximum=4096,\n",
        "            step=1,\n",
        "            value=1000,\n",
        "        ),\n",
        "        gr.Number(\n",
        "            label=\"chunk overlaping\",\n",
        "            minimum=0,\n",
        "            maximum=4096,\n",
        "            step=1,\n",
        "            value=200,\n",
        "        ),\n",
        "        gr.Dropdown(\n",
        "            label=\"summerization algorithm\",\n",
        "            choices=[\"stuff\", \"map_reduce\", \"refiner\"],\n",
        "            value=\"map_reduce\",\n",
        "        ),\n",
        "        gr.Dropdown(\n",
        "            label=\"speech vocalist provider\",\n",
        "            choices=[\"melo\", \"facebook\", \"google\"],\n",
        "            value=\"melo\",\n",
        "        ),\n",
        "        gr.Dropdown(\n",
        "            label=\"speech vocalist language\",\n",
        "            choices=[\"ar\", \"en\", \"fr\"],\n",
        "            value=\"en\",\n",
        "        ),\n",
        "    ],\n",
        ")\n",
        "\n",
        "app.launch(\n",
        "    debug=True,\n",
        "    share=True,\n",
        ")"
      ]
    },
    {
      "cell_type": "code",
      "execution_count": null,
      "metadata": {
        "colab": {
          "base_uri": "https://localhost:8080/"
        },
        "collapsed": true,
        "id": "FrT0KOAGtpHZ",
        "outputId": "8a7e6475-3d70-481a-9113-31a286a216e8"
      },
      "outputs": [
        {
          "name": "stdout",
          "output_type": "stream",
          "text": [
            "give your prompt:tiktaktoe game\n",
            "time=2024-06-17T15:14:24.876Z level=INFO source=memory.go:133 msg=\"offload to gpu\" layers.requested=-1 layers.real=33 memory.available=\"14.6 GiB\" memory.required.full=\"13.1 GiB\" memory.required.partial=\"13.1 GiB\" memory.required.kv=\"8.0 GiB\" memory.weights.total=\"3.5 GiB\" memory.weights.repeating=\"3.4 GiB\" memory.weights.nonrepeating=\"102.6 MiB\" memory.graph.full=\"1.1 GiB\" memory.graph.partial=\"1.3 GiB\"\n",
            "time=2024-06-17T15:14:24.877Z level=INFO source=memory.go:133 msg=\"offload to gpu\" layers.requested=-1 layers.real=33 memory.available=\"14.6 GiB\" memory.required.full=\"13.1 GiB\" memory.required.partial=\"13.1 GiB\" memory.required.kv=\"8.0 GiB\" memory.weights.total=\"3.5 GiB\" memory.weights.repeating=\"3.4 GiB\" memory.weights.nonrepeating=\"102.6 MiB\" memory.graph.full=\"1.1 GiB\" memory.graph.partial=\"1.3 GiB\"\n",
            "time=2024-06-17T15:14:24.877Z level=INFO source=server.go:341 msg=\"starting llama server\" cmd=\"/tmp/ollama2822384352/runners/cuda_v11/ollama_llama_server --model /root/.ollama/models/blobs/sha256-f890c9d2e6d4e9e33afa495a2890f05764787b3482c8326b6f0513741e87d475 --ctx-size 16384 --batch-size 512 --embedding --log-disable --n-gpu-layers 33 --parallel 1 --port 39791\"\n",
            "time=2024-06-17T15:14:24.879Z level=INFO source=sched.go:338 msg=\"loaded runners\" count=1\n",
            "time=2024-06-17T15:14:24.879Z level=INFO source=server.go:529 msg=\"waiting for llama runner to start responding\"\n",
            "time=2024-06-17T15:14:24.880Z level=INFO source=server.go:567 msg=\"waiting for server to become available\" status=\"llm server error\"\n",
            "INFO [main] build info | build=1 commit=\"5921b8f\" tid=\"140664868872192\" timestamp=1718637264\n",
            "INFO [main] system info | n_threads=1 n_threads_batch=-1 system_info=\"AVX = 1 | AVX_VNNI = 0 | AVX2 = 0 | AVX512 = 0 | AVX512_VBMI = 0 | AVX512_VNNI = 0 | AVX512_BF16 = 0 | FMA = 0 | NEON = 0 | SVE = 0 | ARM_FMA = 0 | F16C = 0 | FP16_VA = 0 | WASM_SIMD = 0 | BLAS = 1 | SSE3 = 1 | SSSE3 = 1 | VSX = 0 | MATMUL_INT8 = 0 | LLAMAFILE = 1 | \" tid=\"140664868872192\" timestamp=1718637264 total_threads=2\n",
            "INFO [main] HTTP server listening | hostname=\"127.0.0.1\" n_threads_http=\"3\" port=\"39791\" tid=\"140664868872192\" timestamp=1718637264\n",
            "llama_model_loader: loaded meta data with 20 key-value pairs and 291 tensors from /root/.ollama/models/blobs/sha256-f890c9d2e6d4e9e33afa495a2890f05764787b3482c8326b6f0513741e87d475 (version GGUF V2)\n",
            "llama_model_loader: Dumping metadata keys/values. Note: KV overrides do not apply in this output.\n",
            "llama_model_loader: - kv   0:                       general.architecture str              = llama\n",
            "llama_model_loader: - kv   1:                               general.name str              = WizardLM\n",
            "llama_model_loader: - kv   2:                       llama.context_length u32              = 16384\n",
            "llama_model_loader: - kv   3:                     llama.embedding_length u32              = 4096\n",
            "llama_model_loader: - kv   4:                          llama.block_count u32              = 32\n",
            "llama_model_loader: - kv   5:                  llama.feed_forward_length u32              = 11008\n",
            "llama_model_loader: - kv   6:                 llama.rope.dimension_count u32              = 128\n",
            "llama_model_loader: - kv   7:                 llama.attention.head_count u32              = 32\n",
            "llama_model_loader: - kv   8:              llama.attention.head_count_kv u32              = 32\n",
            "llama_model_loader: - kv   9:     llama.attention.layer_norm_rms_epsilon f32              = 0.000010\n",
            "llama_model_loader: - kv  10:                       llama.rope.freq_base f32              = 1000000.000000\n",
            "llama_model_loader: - kv  11:                          general.file_type u32              = 2\n",
            "llama_model_loader: - kv  12:                       tokenizer.ggml.model str              = llama\n",
            "llama_model_loader: - kv  13:                      tokenizer.ggml.tokens arr[str,32001]   = [\"<unk>\", \"<s>\", \"</s>\", \"<0x00>\", \"<...\n",
            "llama_model_loader: - kv  14:                      tokenizer.ggml.scores arr[f32,32001]   = [0.000000, 0.000000, 0.000000, 0.0000...\n",
            "llama_model_loader: - kv  15:                  tokenizer.ggml.token_type arr[i32,32001]   = [2, 3, 3, 6, 6, 6, 6, 6, 6, 6, 6, 6, ...\n",
            "llama_model_loader: - kv  16:                tokenizer.ggml.bos_token_id u32              = 1\n",
            "llama_model_loader: - kv  17:                tokenizer.ggml.eos_token_id u32              = 2\n",
            "llama_model_loader: - kv  18:            tokenizer.ggml.unknown_token_id u32              = 0\n",
            "llama_model_loader: - kv  19:               general.quantization_version u32              = 2\n",
            "llama_model_loader: - type  f32:   65 tensors\n",
            "llama_model_loader: - type q4_0:  225 tensors\n",
            "llama_model_loader: - type q6_K:    1 tensors\n",
            "llm_load_vocab: special tokens cache size = 260\n",
            "llm_load_vocab: token to piece cache size = 0.3368 MB\n",
            "llm_load_print_meta: format           = GGUF V2\n",
            "llm_load_print_meta: arch             = llama\n",
            "llm_load_print_meta: vocab type       = SPM\n",
            "llm_load_print_meta: n_vocab          = 32001\n",
            "llm_load_print_meta: n_merges         = 0\n",
            "llm_load_print_meta: n_ctx_train      = 16384\n",
            "llm_load_print_meta: n_embd           = 4096\n",
            "llm_load_print_meta: n_head           = 32\n",
            "llm_load_print_meta: n_head_kv        = 32\n",
            "llm_load_print_meta: n_layer          = 32\n",
            "llm_load_print_meta: n_rot            = 128\n",
            "llm_load_print_meta: n_embd_head_k    = 128\n",
            "llm_load_print_meta: n_embd_head_v    = 128\n",
            "llm_load_print_meta: n_gqa            = 1\n",
            "llm_load_print_meta: n_embd_k_gqa     = 4096\n",
            "llm_load_print_meta: n_embd_v_gqa     = 4096\n",
            "llm_load_print_meta: f_norm_eps       = 0.0e+00\n",
            "llm_load_print_meta: f_norm_rms_eps   = 1.0e-05\n",
            "llm_load_print_meta: f_clamp_kqv      = 0.0e+00\n",
            "llm_load_print_meta: f_max_alibi_bias = 0.0e+00\n",
            "llm_load_print_meta: f_logit_scale    = 0.0e+00\n",
            "llm_load_print_meta: n_ff             = 11008\n",
            "llm_load_print_meta: n_expert         = 0\n",
            "llm_load_print_meta: n_expert_used    = 0\n",
            "llm_load_print_meta: causal attn      = 1\n",
            "llm_load_print_meta: pooling type     = 0\n",
            "llm_load_print_meta: rope type        = 0\n",
            "llm_load_print_meta: rope scaling     = linear\n",
            "llm_load_print_meta: freq_base_train  = 1000000.0\n",
            "llm_load_print_meta: freq_scale_train = 1\n",
            "llm_load_print_meta: n_yarn_orig_ctx  = 16384\n",
            "llm_load_print_meta: rope_finetuned   = unknown\n",
            "llm_load_print_meta: ssm_d_conv       = 0\n",
            "llm_load_print_meta: ssm_d_inner      = 0\n",
            "llm_load_print_meta: ssm_d_state      = 0\n",
            "llm_load_print_meta: ssm_dt_rank      = 0\n",
            "llm_load_print_meta: model type       = 7B\n",
            "llm_load_print_meta: model ftype      = Q4_0\n",
            "llm_load_print_meta: model params     = 6.74 B\n",
            "llm_load_print_meta: model size       = 3.56 GiB (4.54 BPW)\n",
            "llm_load_print_meta: general.name     = WizardLM\n",
            "llm_load_print_meta: BOS token        = 1 '<s>'\n",
            "llm_load_print_meta: EOS token        = 2 '</s>'\n",
            "llm_load_print_meta: UNK token        = 0 '<unk>'\n",
            "llm_load_print_meta: LF token         = 13 '<0x0A>'\n",
            "ggml_cuda_init: GGML_CUDA_FORCE_MMQ:   yes\n",
            "ggml_cuda_init: CUDA_USE_TENSOR_CORES: no\n",
            "ggml_cuda_init: found 1 CUDA devices:\n",
            "Device 0: Tesla T4, compute capability 7.5, VMM: yes\n",
            "time=2024-06-17T15:14:25.132Z level=INFO source=server.go:567 msg=\"waiting for server to become available\" status=\"llm server loading model\"\n",
            "llm_load_tensors: ggml ctx size =    0.30 MiB\n",
            "llm_load_tensors: offloading 32 repeating layers to GPU\n",
            "llm_load_tensors: offloading non-repeating layers to GPU\n",
            "llm_load_tensors: offloaded 33/33 layers to GPU\n",
            "llm_load_tensors:        CPU buffer size =    70.31 MiB\n",
            "llm_load_tensors:      CUDA0 buffer size =  3577.57 MiB\n",
            "llama_new_context_with_model: n_ctx      = 16384\n",
            "llama_new_context_with_model: n_batch    = 512\n",
            "llama_new_context_with_model: n_ubatch   = 512\n",
            "llama_new_context_with_model: flash_attn = 0\n",
            "llama_new_context_with_model: freq_base  = 1000000.0\n",
            "llama_new_context_with_model: freq_scale = 1\n",
            "llama_kv_cache_init:      CUDA0 KV buffer size =  8192.00 MiB\n",
            "llama_new_context_with_model: KV self size  = 8192.00 MiB, K (f16): 4096.00 MiB, V (f16): 4096.00 MiB\n",
            "llama_new_context_with_model:  CUDA_Host  output buffer size =     0.14 MiB\n",
            "llama_new_context_with_model:      CUDA0 compute buffer size =  1088.00 MiB\n",
            "llama_new_context_with_model:  CUDA_Host compute buffer size =    40.01 MiB\n",
            "llama_new_context_with_model: graph nodes  = 1030\n",
            "llama_new_context_with_model: graph splits = 2\n",
            "INFO [main] model loaded | tid=\"140664868872192\" timestamp=1718637270\n",
            "time=2024-06-17T15:14:30.411Z level=INFO source=server.go:572 msg=\"llama runner started in 5.53 seconds\"\n",
            "[GIN] 2024/06/17 - 15:14:54 | 200 | 30.145413435s |       127.0.0.1 | POST     \"/api/generate\"\n"
          ]
        }
      ],
      "source": [
        "prompt = input(\"give your prompt:\")\n",
        "reponse = ollama.generate(\n",
        "    system=\"\"\"\n",
        "you are a great python programmer , you write games code in very perfect way,  you give accurate code without any errors\n",
        "\"\"\",\n",
        "    prompt=f\"\"\"write me the code for:\n",
        "{prompt}\n",
        "\"\"\",\n",
        "    model=\"wizardcoder\"\n",
        ")"
      ]
    },
    {
      "cell_type": "code",
      "execution_count": null,
      "metadata": {
        "id": "dDwMaNaayGH-"
      },
      "outputs": [],
      "source": [
        "prompt = input(\"give your prompt:\")\n",
        "reponse = ollama.generate(\n",
        "    system=\"\"\"\n",
        "you are a great python programmer and debugger , you take the code and perform full scan up to down, you fix any errors if there is and apply the best solution to the problem\"\"\",\n",
        "    prompt=f\"\"\"debug and fix the code:\n",
        "{prompt}\n",
        "\"\"\",\n",
        "    model=\"wizardcoder\"\n",
        ")"
      ]
    },
    {
      "cell_type": "code",
      "execution_count": null,
      "metadata": {
        "colab": {
          "base_uri": "https://localhost:8080/"
        },
        "id": "8hHXShALy_y6",
        "outputId": "9afcc99f-9bee-48c3-f163-a561fefd0c19"
      },
      "outputs": [
        {
          "name": "stdout",
          "output_type": "stream",
          "text": [
            "give your prompt:you are a great python programmer and pretty formatter , you take the chaoactic code and you formatt it in a markdown format \"\"\",\n",
            "[GIN] 2024/06/17 - 15:25:53 | 200 | 11.117337907s |       127.0.0.1 | POST     \"/api/generate\"\n"
          ]
        }
      ],
      "source": [
        "prompt = input(\"give your prompt:\")\n",
        "reponse = ollama.generate(\n",
        "    system=\"\"\"\n",
        "you are a great python programmer and pretty formatter , you take the chaoactic code and you formatt it in a markdown format \"\"\",\n",
        "    prompt=f\"\"\"prettify the following code:\n",
        "{prompt}\n",
        "\"\"\",\n",
        "    model=\"wizardcoder\"\n",
        ")"
      ]
    },
    {
      "cell_type": "code",
      "execution_count": null,
      "metadata": {
        "colab": {
          "base_uri": "https://localhost:8080/",
          "height": 840
        },
        "collapsed": true,
        "id": "LDKeodE3xB4P",
        "outputId": "15fcc3e4-5ab4-4487-9944-e89ba9a480e9"
      },
      "outputs": [
        {
          "data": {
            "text/markdown": "```python\r\nimport random\r\nfrom datetime import datetime, timedelta\r\nfrom flask import Flask, jsonify, request\r\n\r\napp = Flask(__name__)\r\n\r\n\r\n@app.route('/')\r\ndef hello_world():\r\n    return 'Hello World!'\r\n\r\n@app.route('/time')\r\ndef get_current_time():\r\n    now = datetime.now()\r\n    expire_time = now + timedelta(minutes=1)\r\n    token = random.randint(0, 99999999)\r\n    response = {\r\n        'access_token': str(token),\r\n        'expires_in': (expire_time - now).total_seconds()\r\n    }\r\n    return jsonify(response)\r\n```\r\n\r\nHere is the formatted version of the code using markdown:\r\n\r\n```python\r\nimport random\r\nfrom datetime import datetime, timedelta\r\nfrom flask import Flask, jsonify, request\r\n\r\napp = Flask(__name__)\r\n\r\n@app.route('/')\r\ndef hello_world():\r\n    return 'Hello World!'\r\n\r\n@app.route('/time')\r\ndef get_current_time():\r\n    now = datetime.now()\r\n    expire_time = now + timedelta(minutes=1)\r\n    token = random.randint(0, 9999999)\r\n    response = {\r\n        'access_token': str(token),\r\n        'expires_in': (expire_time - now).total_seconds()\r\n    }\r\n    return jsonify(response) \r\n```\r\n\r\nIn this code, we have a Flask app that defines two routes: one returns the string \"Hello World\" and the other provides an access token with a random number as its value and expiration time set to one minute in the future. The `timedelta` function is used to add 1 minute to the current time and calculate the difference between it and the current time, which is stored in seconds in the variable `expire_time`. The response is then returned in JSON format using the `jsonify()` method. ",
            "text/plain": [
              "<IPython.core.display.Markdown object>"
            ]
          },
          "metadata": {},
          "output_type": "display_data"
        }
      ],
      "source": [
        "display(Markdown(reponse[\"response\"]))"
      ]
    },
    {
      "cell_type": "markdown",
      "metadata": {
        "id": "z1EwQEZcw6qD"
      },
      "source": [
        "### phi3 classification"
      ]
    },
    {
      "cell_type": "code",
      "execution_count": null,
      "metadata": {
        "id": "ivZD_c59I4oh"
      },
      "outputs": [],
      "source": [
        "prompt = input(\"give your prompt:\")\n",
        "response = ollama.generate(\n",
        "    model=\"phi3\",\n",
        "    system=\"\"\"you answer only in json format, classify it into (IMAGE-to-TEXT,TEXT-to-IMAGE,AUDIO-to-TEXT,TEXT-to-AUDIO)\n",
        "here are some hints:\n",
        " - when the prompt is having some keywords refering to sound or music or tones or types of music (pop, hiphop, jazz) in a comma separated values prompt then it's an audio one,\n",
        " - when it's in a descriptive way, or containing words refering to image or illustration or picture or visualistion then it is a Image one,\n",
        " - when it giving you instructions or questions about content then it's either Image to text (when demanding describing an image or such a thing ) or Text to Text (like asking to write something in a certain format which doesn't refer to sound thing so it doesn't conflict with an audio prompt)\n",
        ",your output should look like:\n",
        "{\n",
        "    \"classification\": <classification>,\n",
        "    \"prompt\": <prompt>,\n",
        "    \"explanations\": <explanations>\n",
        "}\n",
        "\"\"\",\n",
        "    prompt=f\"given the following prompt: {prompt} do the classification\"\n",
        ")"
      ]
    },
    {
      "cell_type": "code",
      "execution_count": null,
      "metadata": {
        "id": "60BKFbUjZ2u2"
      },
      "outputs": [],
      "source": [
        "from pprint import pprint\n",
        "import json"
      ]
    },
    {
      "cell_type": "code",
      "execution_count": null,
      "metadata": {
        "id": "YKCpbdu3NOhU"
      },
      "outputs": [],
      "source": [
        "cleaned_response = response[\"response\"].strip().replace(\"\\n\", \"\")"
      ]
    },
    {
      "cell_type": "code",
      "execution_count": null,
      "metadata": {
        "colab": {
          "base_uri": "https://localhost:8080/",
          "height": 105
        },
        "id": "bKprZE-zbHOk",
        "outputId": "7cd11492-2d83-4146-f745-46f3da2f61dd"
      },
      "outputs": [
        {
          "data": {
            "application/vnd.google.colaboratory.intrinsic+json": {
              "type": "string"
            },
            "text/plain": [
              "'{    \"classification\": \"AUDIO-TO-TEXT\",    \"prompt\": \"afrobeat, afrobeats, afro house, afro trap, aftro, international afrobeat, amapiano, afro-pop, west african music\",    \"explanations\": \"The given prompt includes keywords that refer to different types of music or sound genres. These terms are related to audio content, hence the classification is Audio-to-Text as it implies describing these musical styles in text form.\"}'"
            ]
          },
          "execution_count": 49,
          "metadata": {},
          "output_type": "execute_result"
        }
      ],
      "source": [
        "cleaned_response"
      ]
    },
    {
      "cell_type": "markdown",
      "metadata": {
        "id": "fWI5gC_0G-vq"
      },
      "source": [
        "## Hugging face models script"
      ]
    },
    {
      "cell_type": "code",
      "execution_count": null,
      "metadata": {
        "colab": {
          "base_uri": "https://localhost:8080/"
        },
        "collapsed": true,
        "id": "7nlNVNb1_ZCC",
        "outputId": "9d01d714-bae6-49ce-abb1-25cdbbaa6065"
      },
      "outputs": [
        {
          "name": "stdout",
          "output_type": "stream",
          "text": [
            "\u001b[31mERROR: pip's dependency resolver does not currently take into account all the packages that are installed. This behaviour is the source of the following dependency conflicts.\n",
            "cudf-cu12 24.4.1 requires pyarrow<15.0.0a0,>=14.0.1, but you have pyarrow 16.1.0 which is incompatible.\n",
            "google-colab 1.0.0 requires requests==2.31.0, but you have requests 2.32.3 which is incompatible.\n",
            "ibis-framework 8.0.0 requires pyarrow<16,>=2, but you have pyarrow 16.1.0 which is incompatible.\u001b[0m\u001b[31m\n",
            "\u001b[0mLooking in indexes: https://pypi.org/simple, https://huggingface.github.io/autogptq-index/whl/cu118/\n",
            "Collecting auto-gptq\n",
            "  Downloading https://huggingface.github.io/autogptq-index/whl/cu118/auto-gptq/auto_gptq-0.7.1%2Bcu118-cp310-cp310-manylinux_2_17_x86_64.manylinux2014_x86_64.whl (23.7 MB)\n",
            "\u001b[2K     \u001b[90m━━━━━━━━━━━━━━━━━━━━━━━━━━━━━━━━━━━━━━━━\u001b[0m \u001b[32m23.7/23.7 MB\u001b[0m \u001b[31m57.3 MB/s\u001b[0m eta \u001b[36m0:00:00\u001b[0m\n",
            "\u001b[?25hCollecting accelerate>=0.26.0 (from auto-gptq)\n",
            "  Downloading accelerate-0.31.0-py3-none-any.whl (309 kB)\n",
            "\u001b[2K     \u001b[90m━━━━━━━━━━━━━━━━━━━━━━━━━━━━━━━━━━━━━━━━\u001b[0m \u001b[32m309.4/309.4 kB\u001b[0m \u001b[31m5.5 MB/s\u001b[0m eta \u001b[36m0:00:00\u001b[0m\n",
            "\u001b[?25hRequirement already satisfied: datasets in /usr/local/lib/python3.10/dist-packages (from auto-gptq) (2.20.0)\n",
            "Requirement already satisfied: sentencepiece in /usr/local/lib/python3.10/dist-packages (from auto-gptq) (0.1.99)\n",
            "Requirement already satisfied: numpy in /usr/local/lib/python3.10/dist-packages (from auto-gptq) (1.25.2)\n",
            "Collecting rouge (from auto-gptq)\n",
            "  Downloading rouge-1.0.1-py3-none-any.whl (13 kB)\n",
            "Collecting gekko (from auto-gptq)\n",
            "  Downloading gekko-1.1.1-py3-none-any.whl (13.2 MB)\n",
            "\u001b[2K     \u001b[90m━━━━━━━━━━━━━━━━━━━━━━━━━━━━━━━━━━━━━━━━\u001b[0m \u001b[32m13.2/13.2 MB\u001b[0m \u001b[31m37.4 MB/s\u001b[0m eta \u001b[36m0:00:00\u001b[0m\n",
            "\u001b[?25hRequirement already satisfied: torch>=1.13.0 in /usr/local/lib/python3.10/dist-packages (from auto-gptq) (2.3.0+cu121)\n",
            "Requirement already satisfied: safetensors in /usr/local/lib/python3.10/dist-packages (from auto-gptq) (0.4.3)\n",
            "Requirement already satisfied: transformers>=4.31.0 in /usr/local/lib/python3.10/dist-packages (from auto-gptq) (4.41.2)\n",
            "Collecting peft>=0.5.0 (from auto-gptq)\n",
            "  Downloading peft-0.11.1-py3-none-any.whl (251 kB)\n",
            "\u001b[2K     \u001b[90m━━━━━━━━━━━━━━━━━━━━━━━━━━━━━━━━━━━━━━━━\u001b[0m \u001b[32m251.6/251.6 kB\u001b[0m \u001b[31m36.0 MB/s\u001b[0m eta \u001b[36m0:00:00\u001b[0m\n",
            "\u001b[?25hRequirement already satisfied: tqdm in /usr/local/lib/python3.10/dist-packages (from auto-gptq) (4.66.4)\n",
            "Requirement already satisfied: packaging>=20.0 in /usr/local/lib/python3.10/dist-packages (from accelerate>=0.26.0->auto-gptq) (24.1)\n",
            "Requirement already satisfied: psutil in /usr/local/lib/python3.10/dist-packages (from accelerate>=0.26.0->auto-gptq) (5.9.5)\n",
            "Requirement already satisfied: pyyaml in /usr/local/lib/python3.10/dist-packages (from accelerate>=0.26.0->auto-gptq) (6.0.1)\n",
            "Requirement already satisfied: huggingface-hub in /usr/local/lib/python3.10/dist-packages (from accelerate>=0.26.0->auto-gptq) (0.23.3)\n",
            "Requirement already satisfied: filelock in /usr/local/lib/python3.10/dist-packages (from torch>=1.13.0->auto-gptq) (3.14.0)\n",
            "Requirement already satisfied: typing-extensions>=4.8.0 in /usr/local/lib/python3.10/dist-packages (from torch>=1.13.0->auto-gptq) (4.12.2)\n",
            "Requirement already satisfied: sympy in /usr/local/lib/python3.10/dist-packages (from torch>=1.13.0->auto-gptq) (1.12.1)\n",
            "Requirement already satisfied: networkx in /usr/local/lib/python3.10/dist-packages (from torch>=1.13.0->auto-gptq) (3.3)\n",
            "Requirement already satisfied: jinja2 in /usr/local/lib/python3.10/dist-packages (from torch>=1.13.0->auto-gptq) (3.1.4)\n",
            "Requirement already satisfied: fsspec in /usr/local/lib/python3.10/dist-packages (from torch>=1.13.0->auto-gptq) (2023.6.0)\n",
            "Requirement already satisfied: nvidia-cuda-nvrtc-cu12==12.1.105 in /usr/local/lib/python3.10/dist-packages (from torch>=1.13.0->auto-gptq) (12.1.105)\n",
            "Requirement already satisfied: nvidia-cuda-runtime-cu12==12.1.105 in /usr/local/lib/python3.10/dist-packages (from torch>=1.13.0->auto-gptq) (12.1.105)\n",
            "Requirement already satisfied: nvidia-cuda-cupti-cu12==12.1.105 in /usr/local/lib/python3.10/dist-packages (from torch>=1.13.0->auto-gptq) (12.1.105)\n",
            "Requirement already satisfied: nvidia-cudnn-cu12==8.9.2.26 in /usr/local/lib/python3.10/dist-packages (from torch>=1.13.0->auto-gptq) (8.9.2.26)\n",
            "Requirement already satisfied: nvidia-cublas-cu12==12.1.3.1 in /usr/local/lib/python3.10/dist-packages (from torch>=1.13.0->auto-gptq) (12.1.3.1)\n",
            "Requirement already satisfied: nvidia-cufft-cu12==11.0.2.54 in /usr/local/lib/python3.10/dist-packages (from torch>=1.13.0->auto-gptq) (11.0.2.54)\n",
            "Requirement already satisfied: nvidia-curand-cu12==10.3.2.106 in /usr/local/lib/python3.10/dist-packages (from torch>=1.13.0->auto-gptq) (10.3.2.106)\n",
            "Requirement already satisfied: nvidia-cusolver-cu12==11.4.5.107 in /usr/local/lib/python3.10/dist-packages (from torch>=1.13.0->auto-gptq) (11.4.5.107)\n",
            "Requirement already satisfied: nvidia-cusparse-cu12==12.1.0.106 in /usr/local/lib/python3.10/dist-packages (from torch>=1.13.0->auto-gptq) (12.1.0.106)\n",
            "Requirement already satisfied: nvidia-nccl-cu12==2.20.5 in /usr/local/lib/python3.10/dist-packages (from torch>=1.13.0->auto-gptq) (2.20.5)\n",
            "Requirement already satisfied: nvidia-nvtx-cu12==12.1.105 in /usr/local/lib/python3.10/dist-packages (from torch>=1.13.0->auto-gptq) (12.1.105)\n",
            "Requirement already satisfied: triton==2.3.0 in /usr/local/lib/python3.10/dist-packages (from torch>=1.13.0->auto-gptq) (2.3.0)\n",
            "Requirement already satisfied: nvidia-nvjitlink-cu12 in /usr/local/lib/python3.10/dist-packages (from nvidia-cusolver-cu12==11.4.5.107->torch>=1.13.0->auto-gptq) (12.5.40)\n",
            "Requirement already satisfied: regex!=2019.12.17 in /usr/local/lib/python3.10/dist-packages (from transformers>=4.31.0->auto-gptq) (2024.5.15)\n",
            "Requirement already satisfied: requests in /usr/local/lib/python3.10/dist-packages (from transformers>=4.31.0->auto-gptq) (2.32.3)\n",
            "Requirement already satisfied: tokenizers<0.20,>=0.19 in /usr/local/lib/python3.10/dist-packages (from transformers>=4.31.0->auto-gptq) (0.19.1)\n",
            "Requirement already satisfied: pyarrow>=15.0.0 in /usr/local/lib/python3.10/dist-packages (from datasets->auto-gptq) (16.1.0)\n",
            "Requirement already satisfied: pyarrow-hotfix in /usr/local/lib/python3.10/dist-packages (from datasets->auto-gptq) (0.6)\n",
            "Requirement already satisfied: dill<0.3.9,>=0.3.0 in /usr/local/lib/python3.10/dist-packages (from datasets->auto-gptq) (0.3.8)\n",
            "Requirement already satisfied: pandas in /usr/local/lib/python3.10/dist-packages (from datasets->auto-gptq) (2.0.3)\n",
            "Requirement already satisfied: xxhash in /usr/local/lib/python3.10/dist-packages (from datasets->auto-gptq) (3.4.1)\n",
            "Requirement already satisfied: multiprocess in /usr/local/lib/python3.10/dist-packages (from datasets->auto-gptq) (0.70.16)\n",
            "Requirement already satisfied: aiohttp in /usr/local/lib/python3.10/dist-packages (from datasets->auto-gptq) (3.9.5)\n",
            "Requirement already satisfied: six in /usr/local/lib/python3.10/dist-packages (from rouge->auto-gptq) (1.16.0)\n",
            "Requirement already satisfied: aiosignal>=1.1.2 in /usr/local/lib/python3.10/dist-packages (from aiohttp->datasets->auto-gptq) (1.3.1)\n",
            "Requirement already satisfied: attrs>=17.3.0 in /usr/local/lib/python3.10/dist-packages (from aiohttp->datasets->auto-gptq) (23.2.0)\n",
            "Requirement already satisfied: frozenlist>=1.1.1 in /usr/local/lib/python3.10/dist-packages (from aiohttp->datasets->auto-gptq) (1.4.1)\n",
            "Requirement already satisfied: multidict<7.0,>=4.5 in /usr/local/lib/python3.10/dist-packages (from aiohttp->datasets->auto-gptq) (6.0.5)\n",
            "Requirement already satisfied: yarl<2.0,>=1.0 in /usr/local/lib/python3.10/dist-packages (from aiohttp->datasets->auto-gptq) (1.9.4)\n",
            "Requirement already satisfied: async-timeout<5.0,>=4.0 in /usr/local/lib/python3.10/dist-packages (from aiohttp->datasets->auto-gptq) (4.0.3)\n",
            "Requirement already satisfied: charset-normalizer<4,>=2 in /usr/local/lib/python3.10/dist-packages (from requests->transformers>=4.31.0->auto-gptq) (3.3.2)\n",
            "Requirement already satisfied: idna<4,>=2.5 in /usr/local/lib/python3.10/dist-packages (from requests->transformers>=4.31.0->auto-gptq) (3.7)\n",
            "Requirement already satisfied: urllib3<3,>=1.21.1 in /usr/local/lib/python3.10/dist-packages (from requests->transformers>=4.31.0->auto-gptq) (2.0.7)\n",
            "Requirement already satisfied: certifi>=2017.4.17 in /usr/local/lib/python3.10/dist-packages (from requests->transformers>=4.31.0->auto-gptq) (2024.6.2)\n",
            "Requirement already satisfied: MarkupSafe>=2.0 in /usr/local/lib/python3.10/dist-packages (from jinja2->torch>=1.13.0->auto-gptq) (2.1.5)\n",
            "Requirement already satisfied: python-dateutil>=2.8.2 in /usr/local/lib/python3.10/dist-packages (from pandas->datasets->auto-gptq) (2.8.2)\n",
            "Requirement already satisfied: pytz>=2020.1 in /usr/local/lib/python3.10/dist-packages (from pandas->datasets->auto-gptq) (2023.4)\n",
            "Requirement already satisfied: tzdata>=2022.1 in /usr/local/lib/python3.10/dist-packages (from pandas->datasets->auto-gptq) (2024.1)\n",
            "Requirement already satisfied: mpmath<1.4.0,>=1.1.0 in /usr/local/lib/python3.10/dist-packages (from sympy->torch>=1.13.0->auto-gptq) (1.3.0)\n",
            "Installing collected packages: rouge, gekko, accelerate, peft, auto-gptq\n",
            "Successfully installed accelerate-0.31.0 auto-gptq-0.7.1+cu118 gekko-1.1.1 peft-0.11.1 rouge-1.0.1\n"
          ]
        }
      ],
      "source": [
        "!pip install transformers>=4.32.0 optimum>=1.12.0\n",
        "!pip install auto-gptq --extra-index-url https://huggingface.github.io/autogptq-index/whl/cu118/  # Use cu117 if on CUDA 11.7\n"
      ]
    },
    {
      "cell_type": "markdown",
      "metadata": {
        "id": "Uruh0sp9GUa-"
      },
      "source": [
        "### or you can use"
      ]
    },
    {
      "cell_type": "code",
      "execution_count": null,
      "metadata": {
        "id": "fNgQrEWwAFss"
      },
      "outputs": [],
      "source": [
        "!pip uninstall -y auto-gptq\n",
        "!git clone https://github.com/PanQiWei/AutoGPTQ\n",
        "%cd AutoGPTQ\n",
        "!pip install ."
      ]
    },
    {
      "cell_type": "code",
      "execution_count": null,
      "metadata": {
        "id": "4gwWGPIhALEr"
      },
      "outputs": [],
      "source": [
        "from transformers import AutoModelForCausalLM, AutoTokenizer, pipeline\n",
        "\n",
        "model_name_or_path = \"TheBloke/WizardCoder-Python-7B-V1.0-GPTQ\"\n",
        "# To use a different branch, change revision\n",
        "# For example: revision=\"main\"\n",
        "model = AutoModelForCausalLM.from_pretrained(model_name_or_path,\n",
        "                                             device_map=\"auto\",\n",
        "                                             trust_remote_code=False,\n",
        "                                             revision=\"main\")\n",
        "\n",
        "tokenizer = AutoTokenizer.from_pretrained(model_name_or_path, use_fast=True)\n",
        "\n",
        "prompt = \"write me djikstra shortest path algorithm in a pipeline of functional programming with a graph to svg utility function\"\n",
        "prompt_template=f'''Below is an instruction that describes a task. Write a response that appropriately completes the request.\n",
        "\n",
        "### Instruction:\n",
        "{prompt}\n",
        "\n",
        "### Response:\n",
        "\n",
        "'''\n",
        "\n",
        "print(\"\\n\\n*** Generate:\")\n",
        "\n",
        "input_ids = tokenizer(prompt_template, return_tensors='pt').input_ids.cuda()\n",
        "output = model.generate(inputs=input_ids, temperature=0.7, do_sample=True, top_p=0.95, top_k=40, max_new_tokens=512)\n",
        "print(tokenizer.decode(output[0]))\n",
        "\n",
        "# Inference can also be done using transformers' pipeline\n",
        "\n",
        "print(\"*** Pipeline:\")\n",
        "pipe = pipeline(\n",
        "    \"text-generation\",\n",
        "    model=model,\n",
        "    tokenizer=tokenizer,\n",
        "    max_new_tokens=512,\n",
        "    do_sample=True,\n",
        "    temperature=0.7,\n",
        "    top_p=0.95,\n",
        "    top_k=40,\n",
        "    repetition_penalty=1.1\n",
        ")\n",
        "\n",
        "print(pipe(prompt_template)[0]['generated_text'])"
      ]
    }
  ],
  "metadata": {
    "accelerator": "GPU",
    "colab": {
      "gpuType": "T4",
      "provenance": []
    },
    "kernelspec": {
      "display_name": "Python 3",
      "name": "python3"
    },
    "language_info": {
      "name": "python"
    }
  },
  "nbformat": 4,
  "nbformat_minor": 0
}